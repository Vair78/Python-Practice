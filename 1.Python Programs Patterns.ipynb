{
 "cells": [
  {
   "cell_type": "markdown",
   "id": "eee8e512",
   "metadata": {},
   "source": [
    "# Python Programs Patterns"
   ]
  },
  {
   "cell_type": "markdown",
   "id": "2c2202c4",
   "metadata": {},
   "source": [
    "* Q1. Connected Inverted Pyramid pattern of Numbers"
   ]
  },
  {
   "cell_type": "code",
   "execution_count": 21,
   "id": "d7d0b5bf",
   "metadata": {},
   "outputs": [
    {
     "name": "stdout",
     "output_type": "stream",
     "text": [
      "5 4 3 2 1 1 2 3 4 5 \n",
      "\n",
      "5 4 3 2  2 3 4 5 \n",
      "\n",
      "5 4 3   3 4 5 \n",
      "\n",
      "5 4    4 5 \n",
      "\n",
      "5     5 \n",
      "\n",
      "     \n",
      "\n"
     ]
    },
    {
     "ename": "SyntaxError",
     "evalue": "'return' outside function (463533003.py, line 10)",
     "output_type": "error",
     "traceback": [
      "\u001b[1;36m  File \u001b[1;32m\"C:\\Users\\Digital Next\\AppData\\Local\\Temp\\ipykernel_9840\\463533003.py\"\u001b[1;36m, line \u001b[1;32m10\u001b[0m\n\u001b[1;33m    return go(f, seed, [])\u001b[0m\n\u001b[1;37m    ^\u001b[0m\n\u001b[1;31mSyntaxError\u001b[0m\u001b[1;31m:\u001b[0m 'return' outside function\n"
     ]
    }
   ],
   "source": [
    "rows = 6 \n",
    "for i in range(0, rows):\n",
    "    for j in range(rows -1 , i , -1):\n",
    "        print(j, end=\" \")\n",
    "    for l in range(i):\n",
    "        print(' ',end ='')\n",
    "    for k in range(i +1 , rows):\n",
    "        print(k, end =\" \" )\n",
    "    print('\\n')\n",
    "return go(f, seed, [])\n",
    "              \n",
    "    "
   ]
  },
  {
   "cell_type": "markdown",
   "id": "f666d12c",
   "metadata": {},
   "source": [
    "Example 2: Program to print half pyramid using *"
   ]
  },
  {
   "cell_type": "code",
   "execution_count": 7,
   "id": "a2333fa0",
   "metadata": {},
   "outputs": [
    {
     "name": "stdout",
     "output_type": "stream",
     "text": [
      "Enter number of rows : 5\n",
      "* \n",
      "\n",
      "* * \n",
      "\n",
      "* * * \n",
      "\n",
      "* * * * \n",
      "\n",
      "* * * * * \n",
      "\n"
     ]
    }
   ],
   "source": [
    "rows = int(input(\"Enter number of rows : \"))\n",
    "\n",
    "for i in range(rows):\n",
    "    for j in range(i +1):\n",
    "        print(\"*\", end =\" \")\n",
    "    print(\"\\n\")\n",
    "    "
   ]
  },
  {
   "cell_type": "markdown",
   "id": "890d91ed",
   "metadata": {},
   "source": [
    "In the above program, let's see how the pattern is printed.\n",
    "\n",
    "First, we get the height of the pyramid rows from the user.\n",
    "In the first loop, we iterate from i = 0 to i = rows.\n",
    "The second loop runs from j = 0 to i + 1. In each iteration of this loop, we print i + 1 number of * without a new line. Here, the row number gives the number of * required to be printed on that row. For example, in the 2nd row, we print two *. Similarly, in the 3rd row, we print three *.\n",
    "Once the inner loop ends, we print new line and start printing * in a new line"
   ]
  },
  {
   "cell_type": "markdown",
   "id": "54590a72",
   "metadata": {},
   "source": [
    "* Example 2: Program to print half pyramid a using numbers"
   ]
  },
  {
   "cell_type": "code",
   "execution_count": 9,
   "id": "768e9b9b",
   "metadata": {},
   "outputs": [
    {
     "name": "stdout",
     "output_type": "stream",
     "text": [
      "Enter number of rows :5\n",
      "1 \n",
      "\n",
      "1 2 \n",
      "\n",
      "1 2 3 \n",
      "\n",
      "1 2 3 4 \n",
      "\n",
      "1 2 3 4 5 \n",
      "\n"
     ]
    }
   ],
   "source": [
    "rows = int(input(\"Enter number of rows :\"))\n",
    "\n",
    "for i in range(rows):\n",
    "    for j in range(i+1):\n",
    "        print(j+1,end =\" \")\n",
    "    print(\"\\n\")"
   ]
  },
  {
   "cell_type": "code",
   "execution_count": 13,
   "id": "7a8f36f0",
   "metadata": {},
   "outputs": [
    {
     "name": "stdout",
     "output_type": "stream",
     "text": [
      "Enter the number :5\n",
      "2 \n",
      "\n",
      "2 3 \n",
      "\n",
      "2 3 4 \n",
      "\n",
      "2 3 4 5 \n",
      "\n",
      "2 3 4 5 6 \n",
      "\n"
     ]
    }
   ],
   "source": [
    "rows = int(input(\"Enter the number :\"))\n",
    "\n",
    "for i in range(rows):\n",
    "    for j in range(i+1):\n",
    "        print(j+2, end= \" \")\n",
    "    print(\"\\n\")\n",
    "    "
   ]
  },
  {
   "cell_type": "markdown",
   "id": "06e7d875",
   "metadata": {},
   "source": [
    "Programs to print inverted half pyramid using * and numbers\n",
    "Example 4: Inverted half pyramid using *"
   ]
  },
  {
   "cell_type": "code",
   "execution_count": 14,
   "id": "c1c3b66d",
   "metadata": {},
   "outputs": [
    {
     "name": "stdout",
     "output_type": "stream",
     "text": [
      "Enter Number of rows: 5\n",
      "* * * * * \n",
      "\n",
      "* * * * \n",
      "\n",
      "* * * \n",
      "\n",
      "* * \n",
      "\n",
      "* \n",
      "\n"
     ]
    }
   ],
   "source": [
    "rows = int(input(\"Enter Number of rows: \"))\n",
    "\n",
    "for i in range(rows, 0, -1):\n",
    "    for j in range(0,i):\n",
    "        print(\"*\", end = \" \")\n",
    "    \n",
    "    print(\"\\n\")"
   ]
  },
  {
   "cell_type": "markdown",
   "id": "40cf1c54",
   "metadata": {},
   "source": [
    "Example 5: Inverted half pyramid using numbers"
   ]
  },
  {
   "cell_type": "code",
   "execution_count": 18,
   "id": "46cc4892",
   "metadata": {},
   "outputs": [
    {
     "name": "stdout",
     "output_type": "stream",
     "text": [
      "Enter the Number of Rows:5\n",
      "1 2 3 4 5 \n",
      "\n",
      "1 2 3 4 \n",
      "\n",
      "1 2 3 \n",
      "\n",
      "1 2 \n",
      "\n",
      "1 \n",
      "\n"
     ]
    }
   ],
   "source": [
    "rows = int(input(\"Enter the Number of Rows:\"))\n",
    "\n",
    "for i in range(rows, 0, -1):\n",
    "    for j in range(1,i+1):\n",
    "        print(j, end=\" \")\n",
    "    \n",
    "    print(\"\\n\")"
   ]
  },
  {
   "cell_type": "markdown",
   "id": "cea5c1d0",
   "metadata": {},
   "source": [
    "## Programs to print full pyramids\n",
    "Example 6: Program to print full pyramid using *"
   ]
  },
  {
   "cell_type": "code",
   "execution_count": 27,
   "id": "1de6f5d5",
   "metadata": {},
   "outputs": [
    {
     "name": "stdout",
     "output_type": "stream",
     "text": [
      "Enter number of rows5\n",
      "        * \n",
      "      * * * \n",
      "    * * * * * \n",
      "  * * * * * * * \n",
      "* * * * * * * * * \n"
     ]
    }
   ],
   "source": [
    "rows = int(input(\"Enter number of rows\"))\n",
    "\n",
    "k =0 \n",
    "for i in range(1, rows+1):\n",
    "    for space in range(1, (rows-i)+1):\n",
    "        print(end=\"  \")  # This space matter to get right strcutre\n",
    "        \n",
    "    while k!=(2*i-1):\n",
    "        print(\"* \", end =\"\") # This also \n",
    "        k +=1\n",
    "        \n",
    "    k = 0\n",
    "    print()"
   ]
  },
  {
   "cell_type": "markdown",
   "id": "17ad5f74",
   "metadata": {},
   "source": [
    "Example 7: Full Pyramid of Numbers"
   ]
  },
  {
   "cell_type": "code",
   "execution_count": 29,
   "id": "5ca8bc1f",
   "metadata": {},
   "outputs": [
    {
     "name": "stdout",
     "output_type": "stream",
     "text": [
      "Enter Number Of Rows:5\n",
      "        1 \n",
      "      2 3 2 \n",
      "    3 4 5 4 3 \n",
      "  4 5 6 7 6 5 4 \n",
      "5 6 7 8 9 8 7 6 5 \n"
     ]
    }
   ],
   "source": [
    "rows = int(input(\"Enter Number Of Rows:\"))\n",
    "\n",
    "k = 0\n",
    "count = 0\n",
    "coutn1 = 0\n",
    "\n",
    "for i in range(1, rows+1):\n",
    "    for sapce in range(1, (rows-i)+1):\n",
    "        print(\"  \", end = \"\")\n",
    "        count+=1\n",
    "        \n",
    "    while k!=((2*i)-1):\n",
    "        if count<=rows-1:\n",
    "            print(i+k, end=\" \")\n",
    "            count+=1\n",
    "        else:\n",
    "            count1+=1\n",
    "            print(i+k -(2*count1), end =\" \")\n",
    "        k +=1\n",
    "        \n",
    "    count1 = count = k = 0\n",
    "    print()"
   ]
  },
  {
   "cell_type": "code",
   "execution_count": null,
   "id": "c952e2db",
   "metadata": {},
   "outputs": [],
   "source": []
  },
  {
   "cell_type": "code",
   "execution_count": null,
   "id": "a3a4c416",
   "metadata": {},
   "outputs": [],
   "source": []
  },
  {
   "cell_type": "code",
   "execution_count": null,
   "id": "482f868e",
   "metadata": {},
   "outputs": [],
   "source": []
  }
 ],
 "metadata": {
  "kernelspec": {
   "display_name": "Python 3 (ipykernel)",
   "language": "python",
   "name": "python3"
  },
  "language_info": {
   "codemirror_mode": {
    "name": "ipython",
    "version": 3
   },
   "file_extension": ".py",
   "mimetype": "text/x-python",
   "name": "python",
   "nbconvert_exporter": "python",
   "pygments_lexer": "ipython3",
   "version": "3.9.13"
  }
 },
 "nbformat": 4,
 "nbformat_minor": 5
}
