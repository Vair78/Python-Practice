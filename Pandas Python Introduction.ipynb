{
 "cells": [
  {
   "cell_type": "markdown",
   "id": "7bb70599",
   "metadata": {},
   "source": [
    "# Python introduction"
   ]
  },
  {
   "cell_type": "markdown",
   "id": "6ab06103",
   "metadata": {},
   "source": [
    "###  Getting Started"
   ]
  },
  {
   "cell_type": "code",
   "execution_count": 1,
   "id": "49945235",
   "metadata": {},
   "outputs": [
    {
     "data": {
      "text/plain": [
       "6"
      ]
     },
     "execution_count": 1,
     "metadata": {},
     "output_type": "execute_result"
    }
   ],
   "source": [
    "12345.12 # Int and Float\n",
    "2+4"
   ]
  },
  {
   "cell_type": "code",
   "execution_count": 2,
   "id": "23499599",
   "metadata": {},
   "outputs": [
    {
     "data": {
      "text/plain": [
       "' I am jupyter notebook 3545976 @#$'"
      ]
     },
     "execution_count": 2,
     "metadata": {},
     "output_type": "execute_result"
    }
   ],
   "source": [
    "\" I am jupyter notebook 3545976 @#$\""
   ]
  },
  {
   "cell_type": "code",
   "execution_count": 4,
   "id": "10acf487",
   "metadata": {},
   "outputs": [
    {
     "data": {
      "text/plain": [
       "48"
      ]
     },
     "execution_count": 4,
     "metadata": {},
     "output_type": "execute_result"
    }
   ],
   "source": [
    "6+3\n",
    "10*5-2"
   ]
  },
  {
   "cell_type": "code",
   "execution_count": 5,
   "id": "dcb61393",
   "metadata": {},
   "outputs": [
    {
     "name": "stdout",
     "output_type": "stream",
     "text": [
      "9\n",
      "48\n",
      "8.3\n"
     ]
    }
   ],
   "source": [
    "print(6+3)\n",
    "print(10*5-2)\n",
    "print(31/5+2.1)"
   ]
  },
  {
   "cell_type": "code",
   "execution_count": 6,
   "id": "a7ae3377",
   "metadata": {},
   "outputs": [
    {
     "data": {
      "text/plain": [
       "int"
      ]
     },
     "execution_count": 6,
     "metadata": {},
     "output_type": "execute_result"
    }
   ],
   "source": [
    "type(132)"
   ]
  },
  {
   "cell_type": "markdown",
   "id": "d443abfe",
   "metadata": {},
   "source": [
    "* Basic data types in python : int , float, string(str), boolean ect\n",
    "    - String can be defned using Single-quotes or double quotes"
   ]
  },
  {
   "cell_type": "code",
   "execution_count": 8,
   "id": "83b3e9b4",
   "metadata": {},
   "outputs": [
    {
     "name": "stdout",
     "output_type": "stream",
     "text": [
      "Hello world !\n",
      "I'm a simple print statement\n",
      "False\n"
     ]
    }
   ],
   "source": [
    "print(\"Hello world !\")\n",
    "print(\"I'm a simple print statement\")\n",
    "print( 3 > 5)"
   ]
  },
  {
   "cell_type": "markdown",
   "id": "1ee657b2",
   "metadata": {},
   "source": [
    "### Variables Types and Operation"
   ]
  },
  {
   "cell_type": "code",
   "execution_count": 31,
   "id": "72d8d197",
   "metadata": {},
   "outputs": [],
   "source": [
    "name = \"Vaibhav Bhalerao\"\n",
    "age = 20\n",
    "height = 10.5\n",
    "favorite_sport = \"racing\""
   ]
  },
  {
   "cell_type": "code",
   "execution_count": 32,
   "id": "687d6b09",
   "metadata": {},
   "outputs": [
    {
     "name": "stdout",
     "output_type": "stream",
     "text": [
      "Vaibhav Bhalerao\n",
      "<class 'str'>\n",
      "20\n",
      "<class 'int'>\n",
      "<class 'float'>\n",
      "<class 'str'>\n"
     ]
    }
   ],
   "source": [
    "print(name)\n",
    "print(type(name))\n",
    "print(age)\n",
    "print(type(age))\n",
    "print(type(height))\n",
    "print(type(favorite_sport))"
   ]
  },
  {
   "cell_type": "markdown",
   "id": "89dfaf4c",
   "metadata": {},
   "source": [
    "### Basic Arithmetic Operation"
   ]
  },
  {
   "cell_type": "code",
   "execution_count": 12,
   "id": "a89579e6",
   "metadata": {},
   "outputs": [
    {
     "name": "stdout",
     "output_type": "stream",
     "text": [
      "50\n",
      "1.0\n",
      "15625\n",
      "6\n",
      "1\n"
     ]
    }
   ],
   "source": [
    "a =25\n",
    "b = 25\n",
    "print(a + b)\n",
    "print(b / a)\n",
    "print(a**3)  # power\n",
    "print(25 //4)  # Integer part\n",
    "print(25%4)  # reminder"
   ]
  },
  {
   "cell_type": "markdown",
   "id": "ddf0d0a4",
   "metadata": {},
   "source": [
    "### Comparison Operators"
   ]
  },
  {
   "cell_type": "code",
   "execution_count": 16,
   "id": "9e05f7df",
   "metadata": {},
   "outputs": [
    {
     "name": "stdout",
     "output_type": "stream",
     "text": [
      "True\n",
      "False\n",
      "False\n",
      "True\n",
      "True\n"
     ]
    }
   ],
   "source": [
    "A = 20\n",
    "B = 25\n",
    "print(A < B)\n",
    "print(A >B)\n",
    "print ( a== b)\n",
    "print( A!= B)\n",
    "print(20>=15)\n",
    "\n",
    "# pritn(10 =20) # Error \n",
    "# = is an assignment operaton"
   ]
  },
  {
   "cell_type": "markdown",
   "id": "0d1902c3",
   "metadata": {},
   "source": [
    "### Logical Operators"
   ]
  },
  {
   "cell_type": "code",
   "execution_count": 20,
   "id": "8a75f4c6",
   "metadata": {},
   "outputs": [
    {
     "name": "stdout",
     "output_type": "stream",
     "text": [
      "True\n",
      "False\n",
      "True\n"
     ]
    }
   ],
   "source": [
    "print(10 < 12 or 'a' =='b')\n",
    "print( 10 <12 and 'a'=='b')\n",
    "print(not 'a'=='b')"
   ]
  },
  {
   "cell_type": "markdown",
   "id": "b54f9d4f",
   "metadata": {},
   "source": [
    "### COmbining String with Others Variables:"
   ]
  },
  {
   "cell_type": "code",
   "execution_count": 29,
   "id": "df615f6b",
   "metadata": {},
   "outputs": [
    {
     "name": "stdout",
     "output_type": "stream",
     "text": [
      "My name is  Vaibhav Bhalerao\n",
      "My name is  Vaibhav Bhalerao\n",
      "I'm 20 years old.\n"
     ]
    }
   ],
   "source": [
    "name = \" Vaibhav Bhalerao\"\n",
    "age = 20\n",
    "print(\"My name is \"+name)  #my name is Vaibhav\n",
    "print(\"My name is\",name)\n",
    "print(\"I'm\", age,\"years old.\")\n"
   ]
  },
  {
   "cell_type": "markdown",
   "id": "1842adb4",
   "metadata": {},
   "source": [
    "### f- String"
   ]
  },
  {
   "cell_type": "code",
   "execution_count": 30,
   "id": "0d9dbc06",
   "metadata": {},
   "outputs": [
    {
     "name": "stdout",
     "output_type": "stream",
     "text": [
      "My name is Vaibhav Bhalerao.\n",
      "I'm 22 years old.\n"
     ]
    }
   ],
   "source": [
    "line = f\"My name is{name}.\"\n",
    "print(line)\n",
    "age = 22\n",
    "print(f\"I'm {age} years old.\")"
   ]
  },
  {
   "cell_type": "code",
   "execution_count": 29,
   "id": "5aded34d",
   "metadata": {},
   "outputs": [
    {
     "name": "stdout",
     "output_type": "stream",
     "text": [
      "True\n",
      "Am I employed?:False\n"
     ]
    }
   ],
   "source": [
    "is_student = True\n",
    "is_employed = False\n",
    "print(is_student)\n",
    "print(f\"Am I employed?:{is_employed}\")"
   ]
  },
  {
   "cell_type": "markdown",
   "id": "44b555d8",
   "metadata": {},
   "source": [
    "### Taking Input from User:"
   ]
  },
  {
   "cell_type": "code",
   "execution_count": 31,
   "id": "2ba5894a",
   "metadata": {},
   "outputs": [
    {
     "name": "stdout",
     "output_type": "stream",
     "text": [
      "what is your current saving? :200\n",
      "How much you have credited?:1500\n",
      "<class 'str'>\n",
      "Your old saving was200.\n",
      "Your new saving is 2001500.\n"
     ]
    }
   ],
   "source": [
    "saving = input(\"what is your current saving? :\")\n",
    "credit = input(\"How much you have credited?:\")\n",
    "print(type(saving))\n",
    "print(f\"Your old saving was{saving}.\\nYour new saving is {saving+credit}.\")"
   ]
  },
  {
   "cell_type": "markdown",
   "id": "5b0c5f75",
   "metadata": {},
   "source": [
    "### Type Conversion\n",
    "* Above code took the input as strins and hence+ operation printed the numbers concatenated as strings\n",
    "* To use them as numbers, we need to convert their types"
   ]
  },
  {
   "cell_type": "code",
   "execution_count": 32,
   "id": "6c824c9f",
   "metadata": {},
   "outputs": [
    {
     "name": "stdout",
     "output_type": "stream",
     "text": [
      "What is your current saving?:1000\n",
      "<class 'str'>\n",
      "<class 'int'>\n",
      "How much you have credited?:2000\n",
      "Your old saving was1000.\n",
      "Your new saing is 3000.\n"
     ]
    }
   ],
   "source": [
    "saving =input(\"What is your current saving?:\")\n",
    "print(type(saving))\n",
    "saving = int(saving)\n",
    "print(type(saving))\n",
    "credit = int(input(\"How much you have credited?:\"))\n",
    "print(f\"Your old saving was{saving}.\\nYour new saing is {saving+credit}.\")"
   ]
  },
  {
   "cell_type": "code",
   "execution_count": 34,
   "id": "ee7f8034",
   "metadata": {},
   "outputs": [
    {
     "name": "stdout",
     "output_type": "stream",
     "text": [
      "27.0\n",
      "abcdabcdabcdabcdabcd\n"
     ]
    }
   ],
   "source": [
    "n = float(\"13.5\")\n",
    "print(n*2)\n",
    "n1 = \"abcd\"\n",
    "print(5 * n1)\n",
    "          "
   ]
  },
  {
   "cell_type": "markdown",
   "id": "3d8973af",
   "metadata": {},
   "source": [
    "### Indexing, Negattive Indexing, Length of String"
   ]
  },
  {
   "cell_type": "code",
   "execution_count": 35,
   "id": "e26d43d8",
   "metadata": {},
   "outputs": [
    {
     "name": "stdout",
     "output_type": "stream",
     "text": [
      "This is a sample string.\n",
      "T\n",
      "i\n",
      "a\n",
      "s is a sam\n",
      "length of the string is 24.\n",
      ".\n",
      "i\n",
      "h\n"
     ]
    }
   ],
   "source": [
    "s = \"This is a sample string.\"\n",
    "print(s)\n",
    "print(s[0])  # T\n",
    "print(s[2])  # i\n",
    "print(s[8])  # a\n",
    "print(s[3:13])  # s is a sam\n",
    "print(f\"length of the string is {len(s)}.\")\n",
    "print(s[-1])  #.\n",
    "print(s[-4])  # i\n",
    "print(s[-(len(s)-1)])  # h"
   ]
  },
  {
   "cell_type": "markdown",
   "id": "aed5979a",
   "metadata": {},
   "source": [
    "### Operation on String:"
   ]
  },
  {
   "cell_type": "code",
   "execution_count": 1,
   "id": "898719cf",
   "metadata": {},
   "outputs": [
    {
     "name": "stdout",
     "output_type": "stream",
     "text": [
      "This is a sample String.\n",
      "THIS IS A SAMPLE STRING.\n",
      "this is a sample string.\n",
      "This Is A Sample String.\n",
      "This is a sample String.\n"
     ]
    }
   ],
   "source": [
    "s = \"This is a sample String.\"\n",
    "print(s)\n",
    "print(s.upper())\n",
    "# s = s.upper()\n",
    "print(s.lower())\n",
    "print(s.title())\n",
    "print(s)"
   ]
  },
  {
   "cell_type": "code",
   "execution_count": 2,
   "id": "16ecce25",
   "metadata": {},
   "outputs": [
    {
     "name": "stdout",
     "output_type": "stream",
     "text": [
      "8\n",
      "-1\n",
      "-1\n",
      "10\n"
     ]
    }
   ],
   "source": [
    "# FInd\n",
    "print(s.find('a'))\n",
    "print(s.find('b'))\n",
    "print(s.find('Sample'))\n",
    "print(s.find('sample'))"
   ]
  },
  {
   "cell_type": "code",
   "execution_count": 3,
   "id": "c013405b",
   "metadata": {},
   "outputs": [
    {
     "name": "stdout",
     "output_type": "stream",
     "text": [
      "Thare are a sample String.\n",
      "This is a sample String.\n",
      "This is a sample String.\n"
     ]
    }
   ],
   "source": [
    "# Replace\n",
    "\n",
    "s= \"This is a sample String.\"\n",
    "print(s.replace('is', 'are'))\n",
    "\n",
    "print(s)  # Original string remain Unchanged\n",
    "print(s.replace('Is','are'))   # Not Found due to Case Mismatch"
   ]
  },
  {
   "cell_type": "code",
   "execution_count": 4,
   "id": "48e425f0",
   "metadata": {},
   "outputs": [
    {
     "name": "stdout",
     "output_type": "stream",
     "text": [
      "True\n",
      "True\n",
      "False\n"
     ]
    }
   ],
   "source": [
    "# In\n",
    "# In Keyword check for availability of One String into Another\n",
    "\n",
    "s = \"This is Normal string\"\n",
    "print(\"is\" in s)\n",
    "print('in' in s)\n",
    "print('are' in s)\n"
   ]
  },
  {
   "cell_type": "markdown",
   "id": "8bd05a48",
   "metadata": {},
   "source": [
    "## Conditional Statements"
   ]
  },
  {
   "cell_type": "markdown",
   "id": "6f1a5ed6",
   "metadata": {},
   "source": [
    "### If-Elif-Else"
   ]
  },
  {
   "cell_type": "code",
   "execution_count": 33,
   "id": "6a9b2c59",
   "metadata": {},
   "outputs": [
    {
     "name": "stdout",
     "output_type": "stream",
     "text": [
      "Invalide person ! You aer not allowed to enter the house\n"
     ]
    }
   ],
   "source": [
    "name = 'Bhalerao'\n",
    "# name = 'Thokanre'\n",
    "\n",
    "if name =='Vaibhav':\n",
    "    print(\"Valid person. You can enter into the house\")\n",
    "    print(\"Another Line.\")\n",
    "    a = 2+4\n",
    "else:\n",
    "    print(\"Invalide person ! You aer not allowed to enter the house\")"
   ]
  },
  {
   "cell_type": "code",
   "execution_count": 9,
   "id": "d1828063",
   "metadata": {},
   "outputs": [
    {
     "name": "stdout",
     "output_type": "stream",
     "text": [
      "You are a teen!\n"
     ]
    }
   ],
   "source": [
    "#Example - 2\n",
    "age = 15  # in years\n",
    "\n",
    "if age <= 1:\n",
    "    print(\"You are a Baby\")\n",
    "elif age <=3:\n",
    "    print(\"You are a Toddler !\")\n",
    "elif age <= 5:\n",
    "    print(\"You are a prescholl child\")\n",
    "elif age <=12:\n",
    "    print(\"You are a Gradescholl Child\")\n",
    "elif age <=18 :\n",
    "    print(\"You are a teen!\")\n",
    "elif age<= 21:\n",
    "    print(\"You are a Young Adult\")\n",
    "elif age <=60 :\n",
    "    print(\"You are and Adult\")\n",
    "else:\n",
    "    print(\"You are in Your old Age !\")"
   ]
  },
  {
   "cell_type": "code",
   "execution_count": 12,
   "id": "ac9b9355",
   "metadata": {},
   "outputs": [
    {
     "name": "stdout",
     "output_type": "stream",
     "text": [
      "2003 is not a leap year.\n"
     ]
    }
   ],
   "source": [
    "#Example - 3\n",
    "\n",
    "year = 2003\n",
    "is_leap_year = False\n",
    "if year%100 == 0:\n",
    "    if year%400 ==0:\n",
    "        is_leap_year = True\n",
    "    else:\n",
    "        is_leap_year = False\n",
    "elif year% 4 ==0:\n",
    "    is_leap_year = True\n",
    "else:\n",
    "    \n",
    "    is_leap_year = False\n",
    "    \n",
    "if is_leap_year:\n",
    "    print(f\"{year} is leap year.\")\n",
    "else:\n",
    "    print(f\"{year} is not a leap year.\")"
   ]
  },
  {
   "cell_type": "markdown",
   "id": "d163fae3",
   "metadata": {},
   "source": [
    "# Range in PYthon"
   ]
  },
  {
   "cell_type": "markdown",
   "id": "e49cd99b",
   "metadata": {},
   "source": [
    "* Syntax  :   range(Start= 0, end, step =1)"
   ]
  },
  {
   "cell_type": "code",
   "execution_count": 15,
   "id": "f6cb5238",
   "metadata": {},
   "outputs": [
    {
     "name": "stdout",
     "output_type": "stream",
     "text": [
      "range(0, 7)\n",
      "[0, 1, 2, 3, 4, 5, 6]\n",
      "[5, 8, 11, 14, 17]\n"
     ]
    }
   ],
   "source": [
    "n = range(7)\n",
    "\n",
    "# it returns a sequence of number from 0 to 7-1 (i.e 7 not included)\n",
    "\n",
    "print(n)\n",
    "print(list(n))   # More on list order\n",
    "\n",
    "n = range(5,18,3)\n",
    "print(list(n))"
   ]
  },
  {
   "cell_type": "markdown",
   "id": "6bba9e73",
   "metadata": {},
   "source": [
    "## Looping in Python"
   ]
  },
  {
   "cell_type": "code",
   "execution_count": 17,
   "id": "a394dfc2",
   "metadata": {},
   "outputs": [
    {
     "name": "stdout",
     "output_type": "stream",
     "text": [
      "5; 10; 15; 20; 25; 30; 35; 40; 45; 50; "
     ]
    }
   ],
   "source": [
    "# Print teh table of 5 :\n",
    "\n",
    "print(5 *1, end =\"; \")\n",
    "print(5 *2, end =\"; \")\n",
    "print(5 *3, end =\"; \")\n",
    "print(5 *4, end =\"; \")\n",
    "print(5 *5, end =\"; \")\n",
    "print(5 *6, end =\"; \")\n",
    "print(5 *7, end =\"; \")\n",
    "print(5 *8, end =\"; \")\n",
    "print(5 *9, end =\"; \")\n",
    "print(5 *10, end=\"; \")"
   ]
  },
  {
   "cell_type": "markdown",
   "id": "cbfc7156",
   "metadata": {},
   "source": [
    "### Print Table Using Loop\n",
    "\n",
    "#### While Loops"
   ]
  },
  {
   "cell_type": "code",
   "execution_count": 18,
   "id": "54e4eccc",
   "metadata": {},
   "outputs": [
    {
     "name": "stdout",
     "output_type": "stream",
     "text": [
      "5; 10; 15; 20; 25; 30; 35; 40; 45; 50; End of While\n"
     ]
    }
   ],
   "source": [
    "i = 1\n",
    "while i <=10:\n",
    "    print(5*i, end =\"; \")\n",
    "    i = i +1\n",
    "print(\"End of While\")"
   ]
  },
  {
   "cell_type": "code",
   "execution_count": 24,
   "id": "ac4ee316",
   "metadata": {},
   "outputs": [
    {
     "data": {
      "text/plain": [
       "[6, 12, 18, 24, 30, 36, 42, 48, 54, 60]"
      ]
     },
     "execution_count": 24,
     "metadata": {},
     "output_type": "execute_result"
    }
   ],
   "source": [
    "## Shorthand Notation of For Loop\n",
    "[i for i in range(6,65,6)]"
   ]
  },
  {
   "cell_type": "code",
   "execution_count": 28,
   "id": "a1fab0af",
   "metadata": {},
   "outputs": [
    {
     "name": "stdout",
     "output_type": "stream",
     "text": [
      "$\n",
      "$$\n",
      "$$$\n",
      "$$$$\n",
      "$$$$$\n",
      "$$$$$$\n",
      "$$$$$$$\n",
      "$$$$$$$$\n",
      "$$$$$$$$$\n",
      "$$$$$$$$$$\n"
     ]
    }
   ],
   "source": [
    "# Multiplication with String\n",
    "\n",
    "i = 1\n",
    "while i <=10:\n",
    "    print(i*'$')\n",
    "    i = i+1\n"
   ]
  },
  {
   "cell_type": "markdown",
   "id": "17e25a21",
   "metadata": {},
   "source": [
    "## List\n",
    "* it Is colleciton of data. Data can be of same or Different types.\n",
    "* It is represented by square brackets[] with elements seperated by comma"
   ]
  },
  {
   "cell_type": "code",
   "execution_count": 2,
   "id": "5d89f0df",
   "metadata": {},
   "outputs": [
    {
     "name": "stdout",
     "output_type": "stream",
     "text": [
      "120\n",
      "230\n",
      "34\n",
      "182\n"
     ]
    }
   ],
   "source": [
    "prices = [120,48,230,34,20,182]\n",
    "print(prices[0])\n",
    "print(prices[2])\n",
    "print(prices[-3])\n",
    "print(prices[-1])"
   ]
  },
  {
   "cell_type": "markdown",
   "id": "74f13280",
   "metadata": {},
   "source": [
    "### Methods on List:"
   ]
  },
  {
   "cell_type": "code",
   "execution_count": 3,
   "id": "533d046f",
   "metadata": {},
   "outputs": [
    {
     "name": "stdout",
     "output_type": "stream",
     "text": [
      "Beofre Insert: [120, 48, 230, 34, 20, 182]\n",
      "NO. of elements in the list: 6\n",
      "After insert: [120, 300, 48, 230, 34, 20, 182]\n",
      "No. of elements in the list: 7\n",
      "[120, 300, 48, 230, 34, 20, 182, 400]\n"
     ]
    }
   ],
   "source": [
    "print(\"Beofre Insert:\",prices)\n",
    "print(\"NO. of elements in the list:\", len(prices))\n",
    "prices.insert(1,300)  # [120,300,48,230,34,20,182]\n",
    "print(\"After insert:\",prices)\n",
    "print(\"No. of elements in the list:\",len(prices))\n",
    "prices.append(400)\n",
    "print(prices)"
   ]
  },
  {
   "cell_type": "code",
   "execution_count": 4,
   "id": "461e664a",
   "metadata": {},
   "outputs": [
    {
     "name": "stdout",
     "output_type": "stream",
     "text": [
      "[]\n"
     ]
    }
   ],
   "source": [
    "prices.clear()\n",
    "print(prices)"
   ]
  },
  {
   "cell_type": "markdown",
   "id": "5cb8051d",
   "metadata": {},
   "source": [
    "### Other Methods on list\n",
    "* list.append()  # Append x to end of list\n",
    "* list.extend(iterable)  # Append all element of iterable to list\n",
    "* list.insert(i,x)  # insert x at index i\n",
    "* list.remove(x)  # Remove first occurance of x from list\n",
    "* list.pop([i])   # Pop element at index i(defaults to end of list)\n",
    "* list.clear()    # delete all elemetns from the list\n",
    "* list.index(x[,start[,end]])   # Return index  of element x\n",
    "* list.count(x)  # return number of occurances of x in list\n",
    "* list.reverse()   # Reverse elements of list in-place (no return)\n",
    "* list.sort(key=None, reverse= False)  # Sort list in-place\n",
    "* list.copy()   #return a shallow copy of list"
   ]
  },
  {
   "cell_type": "code",
   "execution_count": 7,
   "id": "805dfb37",
   "metadata": {},
   "outputs": [
    {
     "name": "stdout",
     "output_type": "stream",
     "text": [
      "[1, 3, 5, 7, 9]\n",
      "[1, 3, 5, 7, 9, 11]\n",
      "[1, 3, 5, 7, 9]\n"
     ]
    }
   ],
   "source": [
    "num1 = [1,3,5,7,9]\n",
    "num2 = num1.copy()\n",
    "print(num2)\n",
    "\n",
    "num2.append(11)\n",
    "print(num2)\n",
    "print(num1)\n"
   ]
  },
  {
   "cell_type": "markdown",
   "id": "0010f17e",
   "metadata": {},
   "source": [
    "### Looping on list"
   ]
  },
  {
   "cell_type": "code",
   "execution_count": 8,
   "id": "5f22e1c2",
   "metadata": {},
   "outputs": [
    {
     "name": "stdout",
     "output_type": "stream",
     "text": [
      "10; 30; 50; 70; 90; End.\n"
     ]
    }
   ],
   "source": [
    "num = [1,3,5,7,9]\n",
    "for i in num:\n",
    "    print(10*i, end =\"; \")\n",
    "print(\"End.\")"
   ]
  },
  {
   "cell_type": "markdown",
   "id": "5854c973",
   "metadata": {},
   "source": [
    "### Break & COntinue in Loop\n",
    "\n",
    "* Break : is used to come out of the loop before it ends by itsel\n",
    "* Continue Is used to Skip execution of further statements in the loop"
   ]
  },
  {
   "cell_type": "code",
   "execution_count": 14,
   "id": "2062c292",
   "metadata": {},
   "outputs": [
    {
     "name": "stdout",
     "output_type": "stream",
     "text": [
      "2; 4; 6; 8; 10; 16; 18; 20; 22; 24; Exit done\n"
     ]
    }
   ],
   "source": [
    "num = [2,4,6,8,10,12,14,16,18,20,22,24,26,28,30]\n",
    "for a in num:\n",
    "    if 10 < a < 16:\n",
    "        continue   # print(\"we skip 12,14\")\n",
    "        \n",
    "    if a > 24:\n",
    "        break\n",
    "    print(a, end=\"; \")\n",
    "print(\"Exit done\")"
   ]
  },
  {
   "cell_type": "markdown",
   "id": "3f2c87b8",
   "metadata": {},
   "source": [
    "# Tuple "
   ]
  },
  {
   "cell_type": "markdown",
   "id": "6efd3a92",
   "metadata": {},
   "source": [
    "* it is immutable (Cannot be modified)\n",
    "* it is represented by Circular brackets()"
   ]
  },
  {
   "cell_type": "code",
   "execution_count": 16,
   "id": "9bd92274",
   "metadata": {},
   "outputs": [
    {
     "name": "stdout",
     "output_type": "stream",
     "text": [
      "(73, 82, 91, 78, 73, 91, 91, 80)\n",
      "<class 'tuple'>\n",
      "73\n",
      "78\n",
      "80\n",
      "91\n"
     ]
    }
   ],
   "source": [
    "marks = (73,82,91,78,73,91,91,80)\n",
    "print(marks)\n",
    "print(type(marks))\n",
    "print(marks[0])\n",
    "print(marks[3])\n",
    "print(marks[-1])\n",
    "print(marks[-2])"
   ]
  },
  {
   "cell_type": "code",
   "execution_count": 17,
   "id": "1ce74dda",
   "metadata": {},
   "outputs": [
    {
     "name": "stdout",
     "output_type": "stream",
     "text": [
      "(20, 21, 22, 23)\n",
      "<class 'tuple'>\n"
     ]
    }
   ],
   "source": [
    "# List wihtout brackets is considered as a tuple\n",
    "num = 20,21,22,23\n",
    "print(num)\n",
    "print(type(num))"
   ]
  },
  {
   "cell_type": "code",
   "execution_count": 20,
   "id": "50c4f4fd",
   "metadata": {},
   "outputs": [],
   "source": [
    " # marks[0] = 10\n",
    "\n",
    "#'tuple' object does not support item assignment"
   ]
  },
  {
   "cell_type": "markdown",
   "id": "3fa695ee",
   "metadata": {},
   "source": [
    "#### Method on Tuple\n",
    "* Count(x) : Returns the number of times 'x' occurs in a tuple\n",
    "* index(x) : Searches the tuple for 'x' and returns the position of where it was first found "
   ]
  },
  {
   "cell_type": "code",
   "execution_count": 23,
   "id": "beb8c82b",
   "metadata": {},
   "outputs": [
    {
     "name": "stdout",
     "output_type": "stream",
     "text": [
      "3\n",
      "7\n"
     ]
    }
   ],
   "source": [
    "# marks = (73,82,91,78,73,91,91,80)\n",
    "print(marks.count(91))\n",
    "print(marks.index(80))"
   ]
  },
  {
   "cell_type": "markdown",
   "id": "00306f79",
   "metadata": {},
   "source": [
    "# Set\n",
    "\n",
    "* It is a collection of unique elements ( no Duplicate  are stroed)\n",
    "* It is represend by {}\n",
    "\n",
    "* Indexing is not applicable on set.\n",
    "* Elements are stored in any order (they are unorderd)\n",
    "\n",
    "* Print(ids[0])  # Error: 'set' object is not subscriptable"
   ]
  },
  {
   "cell_type": "code",
   "execution_count": 26,
   "id": "d342205c",
   "metadata": {},
   "outputs": [
    {
     "name": "stdout",
     "output_type": "stream",
     "text": [
      "{12, 13, 14, 15}\n",
      "<class 'set'>\n"
     ]
    }
   ],
   "source": [
    "ids ={12,13,14,15,13,12,13,15,13}       # IT will not take duplicate values\n",
    "print(ids)\n",
    "print(type(ids))"
   ]
  },
  {
   "cell_type": "code",
   "execution_count": 31,
   "id": "bcaf61ac",
   "metadata": {},
   "outputs": [
    {
     "name": "stdout",
     "output_type": "stream",
     "text": [
      "{10, 12, 13, 14, 15, 19}\n",
      "{9, 10, 12, 13, 14, 15, 19}\n"
     ]
    }
   ],
   "source": [
    "ids.add(19)\n",
    "print(ids)\n",
    "ids.add(9)\n",
    "print(ids)\n"
   ]
  },
  {
   "cell_type": "markdown",
   "id": "f7c9fdf4",
   "metadata": {},
   "source": [
    "### Methods on Set:\n",
    "\n",
    "* add()  # Adds an elements to the set\n",
    "* clear()  # removes all the elements from the set\n",
    "* copy() # returns a copy of the set\n",
    "* difference() # returns a set containing the difference between two or more sets\n",
    "* difference_update()  # Removes the items in this set that are aslo included in another specified set\n",
    "* discard()  # Remvoe the specified item\n",
    "* intersection()  # returns a set, that is the intersection of two or more sets\n",
    "* intersection_update()  # Remove teh titems in this set that are not present in other , specified set(s)\n",
    "* isdisjoint()  # Returns whether two sets have a intersection or not\n",
    "* issubset()  # returns  Whether another  se contains another set or not\n",
    "* isuperset()  # Returns whether this set contains another set or not\n",
    "* pop() # Remove an elements from the set\n",
    "* symmertic_differnce() # Retuns a set with the symmetrice differnce of two sets\n",
    "* symmertic_differnce_udpate()  # insert the symmetric differnce from this set and another \n",
    "* union()  # return a set containing the union of sets\n",
    "* update()  # update the set with another set, or any other iterable"
   ]
  },
  {
   "cell_type": "markdown",
   "id": "5888c81c",
   "metadata": {},
   "source": [
    "## Dictionary\n",
    "\n",
    "* it is a collection of Key-value pairs.\n",
    "* Keys are unique in the dictionary, value can be repeated\n",
    "* They are represented like { key1: value1, key2: value2}\n",
    "\n",
    "## Methods on Dictionary\n",
    "* Clear()   # removes all teh elements from the dictionary\n",
    "* copy()   # Returns a copy of the dictionary\n",
    "* fromkeys() # Returns a dictionary with teh specified keys and value\n",
    "* get()  # Returns the value of specified key\n",
    "* items()   # Returns a list containing a tuple for each key value pair\n",
    "* keys()    # returns a list containng the dictionary's keys\n",
    "* pop()   #remvoes the elemetn with the specified key\n",
    "* popitem()  # Removes teh last insertd key-value pair\n",
    "* setdefault()   # returns the value of the specified key. If the key does not exist : insert the key, with the specified value\n",
    "* update() # update the dictionary with the specifed key-value pairs\n",
    "* value()  # Returns a list of all the values in the dictionary"
   ]
  },
  {
   "cell_type": "code",
   "execution_count": 36,
   "id": "6864aeda",
   "metadata": {},
   "outputs": [
    {
     "name": "stdout",
     "output_type": "stream",
     "text": [
      "78\n",
      "dict_keys(['physic', 'chemistry', 'maths', 'english'])\n",
      "{'physic': 81, 'chemistry': 85, 'maths': 78, 'english': 81}\n",
      "{'physic': 81, 'chemistry': 85, 'maths': 90, 'english': 81}\n",
      "dict_items([('physic', 81), ('chemistry', 85), ('maths', 90), ('english', 81)])\n"
     ]
    }
   ],
   "source": [
    "marks = {\"physic\": 81, \"chemistry\": 85, \"maths\": 78, \"english\":81}  # roll_number : name\n",
    "print(marks[\"maths\"])  # Access by key\n",
    "# print(marks[0])  # such type of indexing is not applicable in dictionary\n",
    "\n",
    "print(marks.keys())\n",
    "\n",
    "print(marks)\n",
    "marks[\"maths\"]=90\n",
    "print(marks)\n",
    "print(marks.items())"
   ]
  },
  {
   "cell_type": "code",
   "execution_count": 39,
   "id": "dfb680f5",
   "metadata": {},
   "outputs": [
    {
     "name": "stdout",
     "output_type": "stream",
     "text": [
      "key is physic and value is 81\n",
      "key is chemistry and value is 85\n",
      "key is maths and value is 90\n",
      "key is english and value is 81\n"
     ]
    }
   ],
   "source": [
    "for k ,v in marks.items():\n",
    "    print(f\"key is {k} and value is {v}\")"
   ]
  },
  {
   "cell_type": "markdown",
   "id": "b629e547",
   "metadata": {},
   "source": [
    "## Funciton in Python \n",
    "\n",
    "\n",
    "* In-Built funciton \n",
    "* User- Defined Function\n",
    "* Module Function"
   ]
  },
  {
   "cell_type": "markdown",
   "id": "57750c52",
   "metadata": {},
   "source": [
    "### In-Built Function"
   ]
  },
  {
   "cell_type": "code",
   "execution_count": 1,
   "id": "e054421d",
   "metadata": {},
   "outputs": [
    {
     "name": "stdout",
     "output_type": "stream",
     "text": [
      "I'm an in-built function!\n"
     ]
    },
    {
     "data": {
      "text/plain": [
       "4"
      ]
     },
     "execution_count": 1,
     "metadata": {},
     "output_type": "execute_result"
    }
   ],
   "source": [
    "print(\"I'm an in-built function!\")\n",
    "int(4.5)"
   ]
  },
  {
   "cell_type": "markdown",
   "id": "3109d366",
   "metadata": {},
   "source": [
    "###  Module Functions"
   ]
  },
  {
   "cell_type": "code",
   "execution_count": 9,
   "id": "252bf34b",
   "metadata": {},
   "outputs": [
    {
     "data": {
      "text/plain": [
       "7.0710678118654755"
      ]
     },
     "execution_count": 9,
     "metadata": {},
     "output_type": "execute_result"
    }
   ],
   "source": [
    "# import math\n",
    "# math.sqrt(100)\n",
    "from math import sqrt as square_root\n",
    "square_root(50)"
   ]
  },
  {
   "cell_type": "code",
   "execution_count": 25,
   "id": "e56b3824",
   "metadata": {},
   "outputs": [
    {
     "data": {
      "text/plain": [
       "12"
      ]
     },
     "execution_count": 25,
     "metadata": {},
     "output_type": "execute_result"
    }
   ],
   "source": [
    "from math import lcm\n",
    "\n",
    "lcm(2,4,3)"
   ]
  },
  {
   "cell_type": "code",
   "execution_count": 19,
   "id": "8e722817",
   "metadata": {},
   "outputs": [
    {
     "name": "stdout",
     "output_type": "stream",
     "text": [
      "['__doc__', '__loader__', '__name__', '__package__', '__spec__', 'acos', 'acosh', 'asin', 'asinh', 'atan', 'atan2', 'atanh', 'ceil', 'comb', 'copysign', 'cos', 'cosh', 'degrees', 'dist', 'e', 'erf', 'erfc', 'exp', 'expm1', 'fabs', 'factorial', 'floor', 'fmod', 'frexp', 'fsum', 'gamma', 'gcd', 'hypot', 'inf', 'isclose', 'isfinite', 'isinf', 'isnan', 'isqrt', 'lcm', 'ldexp', 'lgamma', 'log', 'log10', 'log1p', 'log2', 'modf', 'nan', 'nextafter', 'perm', 'pi', 'pow', 'prod', 'radians', 'remainder', 'sin', 'sinh', 'sqrt', 'tan', 'tanh', 'tau', 'trunc', 'ulp']\n"
     ]
    }
   ],
   "source": [
    "# To See all teh funciton defiend in a molde, use dir(module_name)\n",
    "print(dir(math))"
   ]
  },
  {
   "cell_type": "markdown",
   "id": "cd2b91e9",
   "metadata": {},
   "source": [
    "### User-defined Function\n",
    "\n",
    "syntax : \n",
    "\n",
    "    def function_name(parameters):\n",
    "        function body\n",
    "        return something  # default return value is null\n",
    "        \n",
    "     Note: Function should be defined(and a module should be imported) Before it is being used(called)."
   ]
  },
  {
   "cell_type": "code",
   "execution_count": 26,
   "id": "8684286b",
   "metadata": {},
   "outputs": [
    {
     "name": "stdout",
     "output_type": "stream",
     "text": [
      "22\n"
     ]
    }
   ],
   "source": [
    "def add(a,b):\n",
    "    return a + b\n",
    "\n",
    "print(add(10,12))"
   ]
  },
  {
   "cell_type": "code",
   "execution_count": 28,
   "id": "145d15de",
   "metadata": {},
   "outputs": [
    {
     "name": "stdout",
     "output_type": "stream",
     "text": [
      "Hello vaibhav!\n",
      "Hello Bhalerao!\n",
      "None\n"
     ]
    }
   ],
   "source": [
    "def say_hello(name):\n",
    "    print(f\"Hello {name}!\")\n",
    "say_hello(\"vaibhav\")\n",
    "print(say_hello(\"Bhalerao\"))"
   ]
  },
  {
   "cell_type": "markdown",
   "id": "140e6011",
   "metadata": {},
   "source": [
    "## Classed  and Objects\n",
    "\n",
    "* class is the most fundmental piece of python.The reason lays behind the concept of object oriented programming\n",
    "* Everything in Python is an object such as interger, lists, dictionaries, functions and so on. Every object has a type and the object types are created using classes\n",
    " \n",
    "* Classes have:\n",
    " - Data Attributes : Define what is needed to create an instance of a class\n",
    " - Methods (i.e procedural attributes:) Define how to intract with instances of a class\n",
    " - Methods are just like functions but they belong to a particular class. The attributes can be considered as an interface to interact with a class.\n",
    "\n",
    "* An advantage of classes is that we do no need to know how it is created. We can just use it through data attributes and methods.\n",
    "\n",
    "\n",
    "## Syntax of Class Definition:\n",
    "\n",
    "        class class_name(parent_class):\n",
    "            def __int__(self, parameters):\n",
    "                #attributes\n",
    "                # attributes initialisation\n",
    "              #class method\n",
    "        "
   ]
  },
  {
   "cell_type": "code",
   "execution_count": 39,
   "id": "47a11faa",
   "metadata": {},
   "outputs": [
    {
     "name": "stdout",
     "output_type": "stream",
     "text": [
      "Amit shah\n",
      "None\n",
      "Amisha shah\n"
     ]
    }
   ],
   "source": [
    "class Person():\n",
    "    def __init__(self, name, age):\n",
    "        self.name = name\n",
    "        self.age = age\n",
    "    def get_name(self):\n",
    "        return self.name\n",
    "    def update_name(self,new_name):  # by default it returns null(none)\n",
    "        self.name = new_name\n",
    "        \n",
    "p = Person(\"Amit shah\", 35)\n",
    "\n",
    "print(p.get_name())\n",
    "print(p.update_name(\"Amisha shah\"))\n",
    "print(p.get_name())"
   ]
  },
  {
   "cell_type": "markdown",
   "id": "fd1adb7e",
   "metadata": {},
   "source": [
    "## Class Inheritance:"
   ]
  },
  {
   "cell_type": "code",
   "execution_count": 40,
   "id": "b210f1e3",
   "metadata": {},
   "outputs": [
    {
     "name": "stdout",
     "output_type": "stream",
     "text": [
      "Amish shah\n",
      "None\n",
      "Amit shar\n",
      "Sumit Shah\n",
      "21003\n"
     ]
    }
   ],
   "source": [
    "class person():\n",
    "    def __init__(self,name,age):\n",
    "        self.name = name\n",
    "        self.age = age\n",
    "    def get_name(self):\n",
    "        return self.name\n",
    "    def update_name(self,new_name):\n",
    "        self.name = new_name\n",
    "        \n",
    "class Student(person):\n",
    "    def __init__(self, name, age, roll_number):\n",
    "        super().__init__(name,age)\n",
    "        self.roll_number = roll_number\n",
    "        \n",
    "    def get_roll_number(self):\n",
    "        return self.roll_number\n",
    "    \n",
    "p = Person(\"Amish shah\",35)\n",
    "s = Student(\"Sumit Shah\",16, 21003)\n",
    "\n",
    "print(p.get_name())\n",
    "print(p.update_name(\"Amit shar\"))\n",
    "print(p.get_name())\n",
    "\n",
    "#print(p.get_rolll_number())   # Error : 'Person' Object has no attribute  'get_roll_number'\n",
    "\n",
    "print(s.get_name())\n",
    "print(s.get_roll_number())"
   ]
  },
  {
   "cell_type": "code",
   "execution_count": null,
   "id": "9e19e08a",
   "metadata": {},
   "outputs": [],
   "source": []
  },
  {
   "cell_type": "code",
   "execution_count": null,
   "id": "cf719d43",
   "metadata": {},
   "outputs": [],
   "source": []
  },
  {
   "cell_type": "code",
   "execution_count": null,
   "id": "81097dfe",
   "metadata": {},
   "outputs": [],
   "source": []
  }
 ],
 "metadata": {
  "kernelspec": {
   "display_name": "Python 3 (ipykernel)",
   "language": "python",
   "name": "python3"
  },
  "language_info": {
   "codemirror_mode": {
    "name": "ipython",
    "version": 3
   },
   "file_extension": ".py",
   "mimetype": "text/x-python",
   "name": "python",
   "nbconvert_exporter": "python",
   "pygments_lexer": "ipython3",
   "version": "3.9.13"
  }
 },
 "nbformat": 4,
 "nbformat_minor": 5
}
