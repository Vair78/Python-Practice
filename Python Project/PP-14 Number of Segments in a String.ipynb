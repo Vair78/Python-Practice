{
 "cells": [
  {
   "cell_type": "markdown",
   "id": "523c3ca7",
   "metadata": {},
   "source": [
    "# PP-14 Number of Segments in a String\n",
    "\n",
    "\n",
    "-in the porblem of counting the number of segments in a string, you will get a phrase or character in a string. To Solve this problem you need to find the total number of characters in the string, excluding the spaces.\n",
    "\n",
    "INPUT : \"Hey, my instagram username is vaibahv.bhalerao\"||\n",
    "output : 6\n",
    "\n",
    "The Output of the string the above example is 6 because there are six character in the string.\n",
    "\n"
   ]
  },
  {
   "cell_type": "code",
   "execution_count": 11,
   "id": "07b7fffb",
   "metadata": {},
   "outputs": [
    {
     "name": "stdout",
     "output_type": "stream",
     "text": [
      "6\n"
     ]
    }
   ],
   "source": [
    "def countsegment(s):\n",
    "    count = len(s.split())\n",
    "    return count\n",
    "\n",
    "print(countsegment(\"Hey, my instagram username is vaibhav.bhalerao\"))"
   ]
  },
  {
   "cell_type": "code",
   "execution_count": null,
   "id": "23d8e322",
   "metadata": {},
   "outputs": [],
   "source": [
    "it will not count if the space is not there in two words. like vai-bhaler  this wil count as 1."
   ]
  }
 ],
 "metadata": {
  "kernelspec": {
   "display_name": "Python 3 (ipykernel)",
   "language": "python",
   "name": "python3"
  },
  "language_info": {
   "codemirror_mode": {
    "name": "ipython",
    "version": 3
   },
   "file_extension": ".py",
   "mimetype": "text/x-python",
   "name": "python",
   "nbconvert_exporter": "python",
   "pygments_lexer": "ipython3",
   "version": "3.9.13"
  }
 },
 "nbformat": 4,
 "nbformat_minor": 5
}
