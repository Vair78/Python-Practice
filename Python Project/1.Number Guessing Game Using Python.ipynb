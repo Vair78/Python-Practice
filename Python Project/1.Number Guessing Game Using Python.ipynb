{
 "cells": [
  {
   "cell_type": "markdown",
   "id": "2a5c2a28",
   "metadata": {},
   "source": [
    "# 1. Number Guessing Game using PYthon"
   ]
  },
  {
   "cell_type": "markdown",
   "id": "d72e56f2",
   "metadata": {},
   "source": [
    "* To Create a guessing game, we need to write a program to select a Random number between 1 and 10.\n",
    "* To Give hints to the user, we can use CONDITIONAL STATEMENTS to tell the user if the guessed number is smaller, Greater than or equal to the randomly selected number.\n",
    "\n",
    "** So belwo is how you can write the program to Create a number guessing game Using Python"
   ]
  },
  {
   "cell_type": "code",
   "execution_count": 3,
   "id": "24ece68d",
   "metadata": {},
   "outputs": [
    {
     "name": "stdout",
     "output_type": "stream",
     "text": [
      "Enter any number :3\n",
      "Too Low \n",
      "Enter number again1\n",
      "Too Low \n",
      "Enter number again1\n",
      "Too Low \n",
      "Enter number again5\n",
      "Too Low \n",
      "Enter number again6\n",
      "Too Low \n",
      "Enter number again8\n",
      "Too Low \n",
      "Enter number again9\n",
      "You have guessed it Right !!\n"
     ]
    }
   ],
   "source": [
    "import random\n",
    "n = random.randrange(1,10)\n",
    "guess = int(input(\"Enter any number :\"))\n",
    "while n!= guess:\n",
    "    if guess < n:\n",
    "        print(\"Too Low \")\n",
    "        guess = int(input(\"Enter number again\"))\n",
    "    elif guess > n:\n",
    "        print(\"Too High\")\n",
    "        guess = int(input(\"Enter number again\"))\n",
    "    else:\n",
    "        break\n",
    "print(\"You have guessed it Right !!\")"
   ]
  },
  {
   "cell_type": "code",
   "execution_count": 3,
   "id": "5f79782a",
   "metadata": {},
   "outputs": [
    {
     "name": "stdout",
     "output_type": "stream",
     "text": [
      "Enter any number10\n",
      "Too low\n",
      "Enter the number again15\n",
      "Too High\n",
      "Enter the number again12\n",
      "Too low\n",
      "Enter the number again13\n",
      "You have guessed it Right\n"
     ]
    }
   ],
   "source": [
    "import random\n",
    "l=random.randrange(10,20)\n",
    "guess=int(input(\"Enter any number\"))\n",
    "while l!= guess:\n",
    "    if guess < l:\n",
    "        print(\"Too low\")\n",
    "        guess = int(input(\"Enter the number again\"))\n",
    "    elif guess > l:\n",
    "        print(\"Too High\")\n",
    "        guess= int(input(\"Enter the number again\"))\n",
    "    else:\n",
    "        break\n",
    "print(\"You have guessed it Right\")"
   ]
  },
  {
   "cell_type": "code",
   "execution_count": null,
   "id": "9967f92b",
   "metadata": {},
   "outputs": [],
   "source": []
  }
 ],
 "metadata": {
  "kernelspec": {
   "display_name": "Python 3 (ipykernel)",
   "language": "python",
   "name": "python3"
  },
  "language_info": {
   "codemirror_mode": {
    "name": "ipython",
    "version": 3
   },
   "file_extension": ".py",
   "mimetype": "text/x-python",
   "name": "python",
   "nbconvert_exporter": "python",
   "pygments_lexer": "ipython3",
   "version": "3.9.13"
  }
 },
 "nbformat": 4,
 "nbformat_minor": 5
}
