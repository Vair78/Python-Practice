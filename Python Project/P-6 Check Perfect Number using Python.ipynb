{
 "cells": [
  {
   "cell_type": "markdown",
   "id": "755f0757",
   "metadata": {},
   "source": [
    "# P-6 Check Perfect Number using Python"
   ]
  },
  {
   "cell_type": "markdown",
   "id": "93370291",
   "metadata": {},
   "source": [
    "* A perfect number is a positive integer equal to the sum of its positive divisors, excluding the number itself.In this problem, you will be given an integer, and you need to return whether the integer is a perfect number or not.\n",
    "\n",
    "* You will be given a number, and you need to check wheather the number is equal to the sum of its divisors, excluding the number itself.\n",
    "\n",
    "* Example : 6 is perfect number because its divisors (excluding itself) are 1,2 & 3 and 1+2+3=6. If its a perfect number your output should be return True. Otherwise False. Ex1. Input : 28 output : True  Ex2. Input : 7  Output : False"
   ]
  },
  {
   "cell_type": "code",
   "execution_count": 8,
   "id": "1d0d08f9",
   "metadata": {},
   "outputs": [
    {
     "name": "stdout",
     "output_type": "stream",
     "text": [
      "False\n"
     ]
    }
   ],
   "source": [
    "def Perfectnumber(num):\n",
    "    if num < 1 :\n",
    "        return False\n",
    "    div_sum = 1\n",
    "    i = 2\n",
    "    \n",
    "    #Check Divisors up to square root of num\n",
    "    while i * i <= num:\n",
    "        if num % i ==0:\n",
    "            div_sum +=i\n",
    "            if i != num //i:\n",
    "                div_sum +=num //i\n",
    "        i += 1\n",
    "    # Check if num is a perfect number\n",
    "    if div_sum == num:\n",
    "        return True\n",
    "    else:\n",
    "        return False\n",
    "print(Perfectnumber (7))"
   ]
  },
  {
   "cell_type": "markdown",
   "id": "1b71955e",
   "metadata": {},
   "source": [
    "Problem Solution\n",
    "1. Take in an integer and store it in a variable.\n",
    "2. Initialize a variable to count the sum of the proper divisors to 0.\n",
    "3. Use a for loop and an if statement to add the proper divisors of the integer to the sum variable.\n",
    "4. Check if the sum of the proper divisors of the number is equal to the variable.\n",
    "5. Print the final result.\n",
    "6. Exit.\n",
    "\n",
    "Program Explanation\n",
    "1. User must enter the number and store it in a variable.\n",
    "2. Use a for loop to generate numbers from 1 to n (where n is not included as we need the sum of the proper divisors of the number).\n",
    "3. Using an if statement check if the number divided by i gives the remainder as 0 which is basically the proper divisor of the integer.\n",
    "4. Then the proper divisors of the number are added to the sum variable.\n",
    "5. If the sum of the proper divisors of the number is equal to the original number, tje number is a Perfect number.\n",
    "6. The final result is printed."
   ]
  },
  {
   "cell_type": "code",
   "execution_count": 10,
   "id": "45e1e43f",
   "metadata": {},
   "outputs": [
    {
     "name": "stdout",
     "output_type": "stream",
     "text": [
      "Enter any number: 28\n",
      "The number is perfect Number !\n"
     ]
    }
   ],
   "source": [
    "n = int(input(\"Enter any number: \"))\n",
    "sum1 = 0\n",
    "for i in range(1,n):\n",
    "    if (n % i == 0):\n",
    "        sum1 = sum1 + i\n",
    "if (sum1 == n):\n",
    "    print(\"The number is perfect Number !\")\n",
    "else:\n",
    "    print(\"The Number is not Perfect Number\")"
   ]
  },
  {
   "cell_type": "code",
   "execution_count": null,
   "id": "12b532b6",
   "metadata": {},
   "outputs": [],
   "source": []
  }
 ],
 "metadata": {
  "kernelspec": {
   "display_name": "Python 3 (ipykernel)",
   "language": "python",
   "name": "python3"
  },
  "language_info": {
   "codemirror_mode": {
    "name": "ipython",
    "version": 3
   },
   "file_extension": ".py",
   "mimetype": "text/x-python",
   "name": "python",
   "nbconvert_exporter": "python",
   "pygments_lexer": "ipython3",
   "version": "3.9.13"
  }
 },
 "nbformat": 4,
 "nbformat_minor": 5
}
