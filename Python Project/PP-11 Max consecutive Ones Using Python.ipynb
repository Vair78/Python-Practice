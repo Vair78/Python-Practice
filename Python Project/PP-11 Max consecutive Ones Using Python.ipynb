{
 "cells": [
  {
   "cell_type": "markdown",
   "id": "8c87b118",
   "metadata": {},
   "source": [
    "# PP-11 Max consecutive Ones Using Python\n",
    "\n",
    "\n",
    "You will be given a binary array, and you need to return the maximum number of consecutive 1s in the array.\n",
    "- In the max consecutive ones problem we need to find the maximum number of consecutive 1s in a binary array. For example Look at the input and output of this problem shown below:\n",
    "Input : [1,1,0,1,1,1]\n",
    "Output : 3\n",
    "\n",
    "_ in above there are two times we can see consecutive 1s. The First time there are 2 consecutive 1s ,and the second time there are 3 consecutive 1s.\n",
    "Since 3 is greater, the answer is 3.\n",
    "\n"
   ]
  },
  {
   "cell_type": "code",
   "execution_count": 5,
   "id": "0688a494",
   "metadata": {},
   "outputs": [
    {
     "name": "stdout",
     "output_type": "stream",
     "text": [
      "1\n"
     ]
    }
   ],
   "source": [
    "def Findmaxcon(num):\n",
    "    max_count = 0\n",
    "    count = 0\n",
    "    for i in nums:\n",
    "        if i ==1:\n",
    "            count +=1\n",
    "        else:\n",
    "            max_count = max(max_count, count)\n",
    "            count = 0\n",
    "    return max(max_count, count)\n",
    "\n",
    "nums = [1,0,1,0,1]\n",
    "print(Findmaxcon(nums))"
   ]
  },
  {
   "cell_type": "code",
   "execution_count": null,
   "id": "32804972",
   "metadata": {},
   "outputs": [],
   "source": []
  }
 ],
 "metadata": {
  "kernelspec": {
   "display_name": "Python 3 (ipykernel)",
   "language": "python",
   "name": "python3"
  },
  "language_info": {
   "codemirror_mode": {
    "name": "ipython",
    "version": 3
   },
   "file_extension": ".py",
   "mimetype": "text/x-python",
   "name": "python",
   "nbconvert_exporter": "python",
   "pygments_lexer": "ipython3",
   "version": "3.9.13"
  }
 },
 "nbformat": 4,
 "nbformat_minor": 5
}
