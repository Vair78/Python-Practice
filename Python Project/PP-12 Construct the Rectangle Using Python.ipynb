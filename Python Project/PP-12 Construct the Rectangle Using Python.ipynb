{
 "cells": [
  {
   "cell_type": "markdown",
   "id": "15d573fb",
   "metadata": {},
   "source": [
    "# PP-12 Construct the Rectangle Using Python\n",
    "\n",
    "\n",
    "- Here you will be given the Area of a reactanlge, and you need to return the height and width of the rectangle to slove this problem.\n",
    "\n",
    "- We need to return the dimensions of a reactanlge with its given area such that its width and height differ by the smallet possible number.\n",
    "\n",
    "- Example : Input : 24\n",
    " - Output : [6,4]\n",
    "\n",
    "-In the above exmaple the input area is 24. So the dimension of the rectangle can be 6-4 and the differnce between  6  and 4 is 2( smallest possible number)\n",
    "\n"
   ]
  },
  {
   "cell_type": "code",
   "execution_count": 3,
   "id": "da19ccf6",
   "metadata": {},
   "outputs": [
    {
     "name": "stdout",
     "output_type": "stream",
     "text": [
      "[6, 4]\n"
     ]
    }
   ],
   "source": [
    "import math\n",
    "def Rectangle(area):\n",
    "    w = int(math.sqrt(area))\n",
    "    while area % w !=0:\n",
    "            w -=1\n",
    "    return [area // w, w]\n",
    "            \n",
    "area = 24\n",
    "print(Rectangle(area))\n",
    "           \n",
    "    "
   ]
  },
  {
   "cell_type": "code",
   "execution_count": null,
   "id": "e9f993be",
   "metadata": {},
   "outputs": [],
   "source": []
  }
 ],
 "metadata": {
  "kernelspec": {
   "display_name": "Python 3 (ipykernel)",
   "language": "python",
   "name": "python3"
  },
  "language_info": {
   "codemirror_mode": {
    "name": "ipython",
    "version": 3
   },
   "file_extension": ".py",
   "mimetype": "text/x-python",
   "name": "python",
   "nbconvert_exporter": "python",
   "pygments_lexer": "ipython3",
   "version": "3.9.13"
  }
 },
 "nbformat": 4,
 "nbformat_minor": 5
}
