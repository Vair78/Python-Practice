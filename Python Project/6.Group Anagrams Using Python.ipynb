{
 "cells": [
  {
   "cell_type": "markdown",
   "id": "7f2030c7",
   "metadata": {},
   "source": [
    "# Group Anagrams Using Python"
   ]
  },
  {
   "cell_type": "markdown",
   "id": "f4745655",
   "metadata": {},
   "source": [
    "* Anagrams are words formed by re-arragnging the letters of another word E.g CAR and ARC, Cat and act\n",
    "\n"
   ]
  },
  {
   "cell_type": "code",
   "execution_count": 2,
   "id": "1427bc5c",
   "metadata": {},
   "outputs": [],
   "source": [
    "from collections import defaultdict"
   ]
  },
  {
   "cell_type": "code",
   "execution_count": 3,
   "id": "c7a37699",
   "metadata": {},
   "outputs": [],
   "source": [
    "def group_anagrams(a):\n",
    "    dfdict = defaultdict(list)\n",
    "    for i in a:\n",
    "        sorted_i = \" \".join(sorted(i))\n",
    "        dfdict[sorted_i].append(i)\n",
    "    return dfdict.values()"
   ]
  },
  {
   "cell_type": "markdown",
   "id": "c3c62194",
   "metadata": {},
   "source": [
    "* Now let's Test the Function by creating a list of words containing anagrams and some other words"
   ]
  },
  {
   "cell_type": "code",
   "execution_count": 4,
   "id": "2910abe2",
   "metadata": {},
   "outputs": [
    {
     "name": "stdout",
     "output_type": "stream",
     "text": [
      "dict_values([['tea', 'eat', 'ate'], ['bat'], ['arc', 'car']])\n"
     ]
    }
   ],
   "source": [
    "words = [\"tea\",\"eat\",\"bat\", \"ate\",\"arc\",\"car\"]\n",
    "print(group_anagrams(words))"
   ]
  },
  {
   "cell_type": "code",
   "execution_count": null,
   "id": "8e17cfa2",
   "metadata": {},
   "outputs": [],
   "source": [
    "So This is how you can group anagrams using the Python Programming language.\n",
    "Its Valueable to practivce"
   ]
  }
 ],
 "metadata": {
  "kernelspec": {
   "display_name": "Python 3 (ipykernel)",
   "language": "python",
   "name": "python3"
  },
  "language_info": {
   "codemirror_mode": {
    "name": "ipython",
    "version": 3
   },
   "file_extension": ".py",
   "mimetype": "text/x-python",
   "name": "python",
   "nbconvert_exporter": "python",
   "pygments_lexer": "ipython3",
   "version": "3.9.13"
  }
 },
 "nbformat": 4,
 "nbformat_minor": 5
}
