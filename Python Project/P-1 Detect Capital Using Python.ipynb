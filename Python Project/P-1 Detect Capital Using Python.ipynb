{
 "cells": [
  {
   "cell_type": "markdown",
   "id": "4fd725c0",
   "metadata": {},
   "source": [
    "### P-1 Detect Capital Using Python"
   ]
  },
  {
   "cell_type": "markdown",
   "id": "1e344184",
   "metadata": {},
   "source": [
    "** The Problem of decting capital is popular question in coding intervies. A word is written in capital letters if all of its letters are uppercase or if only the first letter is uppercase and the rest are lowercase."
   ]
  },
  {
   "cell_type": "markdown",
   "id": "93fa8196",
   "metadata": {},
   "source": [
    "In the detect Capital problem, You will be given a word as input and you need to check if : \n",
    "* All the letters are uppercase:\n",
    "        return True;\n",
    "* All teh letters are lowercas:\n",
    "        return True;\n",
    "* Only the first letter is uppercase:\n",
    "        return True;\n",
    "* Some letters are uppercase, and some are lowercase:\n",
    "        return False;\n",
    "* The first letter is lowercase with an uppercase letter in the word:\n",
    "        return False;\n",
    "    \n",
    "So in this problem, we need to check if the words containing capital letters are using capital letters correctly or not.\n",
    "For example, \n",
    "- input : \"USA\" | Output: True\n",
    "- input : \"aman\" | output : True\n",
    "- input : \"Google\" | output : True\n",
    "- input : \"FlaG\"  | Output : False"
   ]
  },
  {
   "cell_type": "code",
   "execution_count": 13,
   "id": "1c6971cc",
   "metadata": {},
   "outputs": [
    {
     "name": "stdout",
     "output_type": "stream",
     "text": [
      "True\n"
     ]
    }
   ],
   "source": [
    "def detectCapitalUse(word):   # This program giving an alwasy True \n",
    "    if word.isupper():\n",
    "        return True\n",
    "    elif word.islower():\n",
    "        return True\n",
    "    elif word.title():\n",
    "        return True\n",
    "    else:\n",
    "        return False\n",
    "print(detectCapitalUse(\"ALLaa\"))"
   ]
  },
  {
   "cell_type": "code",
   "execution_count": 38,
   "id": "672245ce",
   "metadata": {},
   "outputs": [],
   "source": [
    "# Before submitting any program test all the answer or possibilites "
   ]
  },
  {
   "cell_type": "code",
   "execution_count": 36,
   "id": "ef3d05b4",
   "metadata": {},
   "outputs": [
    {
     "name": "stdout",
     "output_type": "stream",
     "text": [
      "Enter the word :GIggog\n",
      "False\n"
     ]
    }
   ],
   "source": [
    "def detect_capital(word):\n",
    "    c = 0\n",
    "    for letter in word:\n",
    "        if letter.isupper():\n",
    "            c = c + 1\n",
    "    if c ==0 or c == len(word):\n",
    "        return True\n",
    "    if c == 1 and word[0].isupper():\n",
    "        return True\n",
    "    return False\n",
    "\n",
    "word = input(\"Enter the word :\")\n",
    "print(detect_capital(word))"
   ]
  },
  {
   "cell_type": "code",
   "execution_count": 24,
   "id": "7233f5b1",
   "metadata": {},
   "outputs": [
    {
     "name": "stdout",
     "output_type": "stream",
     "text": [
      "False\n"
     ]
    }
   ],
   "source": [
    "word = \"AaiBhav\"\n",
    "print(detect_capital(word))"
   ]
  },
  {
   "cell_type": "markdown",
   "id": "3a6fa998",
   "metadata": {},
   "source": [
    "* First, IT Checks if all the letters in tht word are uppercase using the isupper() method. IF they are all uppercase,the fucntion return True\n",
    "* if all the letter are not uppercase, the function check if they are all lowercase using the islower() method. if they are all lowercase, it returns True\n",
    "* If all the letter are neither uppercase nor lowercase  the function checks if only the first letter is uppercase and the rest are lowercase using the istitle() method. If the first letter is upper case and the other letters are lower case , the function return True.\n",
    "* if None of the above conditions is satified then function returns False."
   ]
  },
  {
   "cell_type": "code",
   "execution_count": 37,
   "id": "ae4ba45e",
   "metadata": {},
   "outputs": [
    {
     "name": "stdout",
     "output_type": "stream",
     "text": [
      "Enter the word :VIbhav\n",
      "False\n"
     ]
    }
   ],
   "source": [
    "\n",
    "def decectCapital(word):\n",
    "    c = 0\n",
    "    for letter in word:\n",
    "        if letter.isupper():\n",
    "            c = c +1\n",
    "    if c == 0 or c == len(word):\n",
    "        return True\n",
    "    if c == 1 and word[0].isupper():\n",
    "        return True\n",
    "    return False\n",
    "word = input(\"Enter the word :\")\n",
    "print(decectCapital(word))"
   ]
  },
  {
   "cell_type": "code",
   "execution_count": null,
   "id": "152e0240",
   "metadata": {},
   "outputs": [],
   "source": []
  }
 ],
 "metadata": {
  "kernelspec": {
   "display_name": "Python 3 (ipykernel)",
   "language": "python",
   "name": "python3"
  },
  "language_info": {
   "codemirror_mode": {
    "name": "ipython",
    "version": 3
   },
   "file_extension": ".py",
   "mimetype": "text/x-python",
   "name": "python",
   "nbconvert_exporter": "python",
   "pygments_lexer": "ipython3",
   "version": "3.9.13"
  }
 },
 "nbformat": 4,
 "nbformat_minor": 5
}
