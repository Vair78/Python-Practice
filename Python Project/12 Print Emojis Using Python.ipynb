{
 "cells": [
  {
   "cell_type": "markdown",
   "id": "0f1d8a65",
   "metadata": {},
   "source": [
    "# 12 Print Emojis Using Python"
   ]
  },
  {
   "cell_type": "markdown",
   "id": "f292eca5",
   "metadata": {},
   "source": [
    "* Emoijs are used to express our emotions while writing a message or any piece of text."
   ]
  },
  {
   "cell_type": "code",
   "execution_count": 4,
   "id": "063af43d",
   "metadata": {},
   "outputs": [
    {
     "name": "stdout",
     "output_type": "stream",
     "text": [
      "Note: you may need to restart the kernel to use updated packages.\n"
     ]
    },
    {
     "name": "stderr",
     "output_type": "stream",
     "text": [
      "WARNING: Ignoring invalid distribution -cipy (e:\\andaconda\\lib\\site-packages)\n",
      "WARNING: Ignoring invalid distribution -cipy (e:\\andaconda\\lib\\site-packages)\n",
      "WARNING: Retrying (Retry(total=4, connect=None, read=None, redirect=None, status=None)) after connection broken by 'NewConnectionError('<pip._vendor.urllib3.connection.HTTPSConnection object at 0x0000013B2B7B7790>: Failed to establish a new connection: [Errno 11001] getaddrinfo failed')': /simple/emoji-emojize/\n",
      "WARNING: Retrying (Retry(total=3, connect=None, read=None, redirect=None, status=None)) after connection broken by 'NewConnectionError('<pip._vendor.urllib3.connection.HTTPSConnection object at 0x0000013B2B7B7A60>: Failed to establish a new connection: [Errno 11001] getaddrinfo failed')': /simple/emoji-emojize/\n",
      "WARNING: Retrying (Retry(total=2, connect=None, read=None, redirect=None, status=None)) after connection broken by 'NewConnectionError('<pip._vendor.urllib3.connection.HTTPSConnection object at 0x0000013B2B7AEBB0>: Failed to establish a new connection: [Errno 11001] getaddrinfo failed')': /simple/emoji-emojize/\n",
      "WARNING: Retrying (Retry(total=1, connect=None, read=None, redirect=None, status=None)) after connection broken by 'NewConnectionError('<pip._vendor.urllib3.connection.HTTPSConnection object at 0x0000013B2B7B7B80>: Failed to establish a new connection: [Errno 11001] getaddrinfo failed')': /simple/emoji-emojize/\n",
      "WARNING: Retrying (Retry(total=0, connect=None, read=None, redirect=None, status=None)) after connection broken by 'NewConnectionError('<pip._vendor.urllib3.connection.HTTPSConnection object at 0x0000013B2B7B7DF0>: Failed to establish a new connection: [Errno 11001] getaddrinfo failed')': /simple/emoji-emojize/\n",
      "ERROR: Could not find a version that satisfies the requirement emoji.emojize (from versions: none)\n",
      "ERROR: No matching distribution found for emoji.emojize\n",
      "WARNING: Ignoring invalid distribution -cipy (e:\\andaconda\\lib\\site-packages)\n",
      "WARNING: Ignoring invalid distribution -cipy (e:\\andaconda\\lib\\site-packages)\n",
      "WARNING: Ignoring invalid distribution -cipy (e:\\andaconda\\lib\\site-packages)\n"
     ]
    }
   ],
   "source": [
    "pip install emoji.emojize"
   ]
  },
  {
   "cell_type": "markdown",
   "id": "b7a96e6a",
   "metadata": {},
   "source": [
    "* The emoji.emojize method helps you write the description of any emoji inside \"::\" while writing a peice of text.\n",
    "1. :thumbs_up:\n",
    "2. :red_heart:\n",
    "3. :smiling_face:\n",
    "\n",
    "* You can use the description of any emoj inside \"::\" to print the emoji using python."
   ]
  },
  {
   "cell_type": "code",
   "execution_count": 3,
   "id": "c79c1bef",
   "metadata": {},
   "outputs": [
    {
     "ename": "ModuleNotFoundError",
     "evalue": "No module named 'emoji'",
     "output_type": "error",
     "traceback": [
      "\u001b[1;31m---------------------------------------------------------------------------\u001b[0m",
      "\u001b[1;31mModuleNotFoundError\u001b[0m                       Traceback (most recent call last)",
      "\u001b[1;32m~\\AppData\\Local\\Temp\\ipykernel_9924\\2188242352.py\u001b[0m in \u001b[0;36m<module>\u001b[1;34m\u001b[0m\n\u001b[1;32m----> 1\u001b[1;33m \u001b[1;32mimport\u001b[0m \u001b[0memoji\u001b[0m\u001b[1;33m\u001b[0m\u001b[1;33m\u001b[0m\u001b[0m\n\u001b[0m\u001b[0;32m      2\u001b[0m \u001b[1;33m\u001b[0m\u001b[0m\n\u001b[0;32m      3\u001b[0m \u001b[0mprint\u001b[0m\u001b[1;33m(\u001b[0m\u001b[0memoji\u001b[0m\u001b[1;33m.\u001b[0m\u001b[0memojize\u001b[0m\u001b[1;33m(\u001b[0m\u001b[1;34m\"I Love reading book:books:\"\u001b[0m\u001b[1;33m)\u001b[0m\u001b[1;33m)\u001b[0m\u001b[1;33m\u001b[0m\u001b[1;33m\u001b[0m\u001b[0m\n\u001b[0;32m      4\u001b[0m \u001b[0mprint\u001b[0m\u001b[1;33m(\u001b[0m\u001b[0memoji\u001b[0m\u001b[1;33m.\u001b[0m\u001b[0memojize\u001b[0m\u001b[1;33m(\u001b[0m\u001b[1;34m\"Some people have a sensitive heart:red_heart:, please be kind with them.:hibiscus\"\u001b[0m\u001b[1;33m)\u001b[0m\u001b[1;33m)\u001b[0m\u001b[1;33m\u001b[0m\u001b[1;33m\u001b[0m\u001b[0m\n",
      "\u001b[1;31mModuleNotFoundError\u001b[0m: No module named 'emoji'"
     ]
    }
   ],
   "source": [
    "import emoji\n",
    "\n",
    "print(emoji.emojize(\"I Love reading book:books:\"))\n",
    "print(emoji.emojize(\"Some people have a sensitive heart:red_heart:, please be kind with them.:hibiscus\"))"
   ]
  },
  {
   "cell_type": "code",
   "execution_count": null,
   "id": "9705e94f",
   "metadata": {},
   "outputs": [],
   "source": []
  }
 ],
 "metadata": {
  "kernelspec": {
   "display_name": "Python 3 (ipykernel)",
   "language": "python",
   "name": "python3"
  },
  "language_info": {
   "codemirror_mode": {
    "name": "ipython",
    "version": 3
   },
   "file_extension": ".py",
   "mimetype": "text/x-python",
   "name": "python",
   "nbconvert_exporter": "python",
   "pygments_lexer": "ipython3",
   "version": "3.9.13"
  }
 },
 "nbformat": 4,
 "nbformat_minor": 5
}
