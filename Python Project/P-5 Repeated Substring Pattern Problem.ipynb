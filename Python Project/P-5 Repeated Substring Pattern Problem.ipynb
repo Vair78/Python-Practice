{
 "cells": [
  {
   "cell_type": "markdown",
   "id": "5d856620",
   "metadata": {},
   "source": [
    "# P-5 Repeated Substring Pattern Problem\n",
    "\n",
    "\n",
    "* In the Repeated Substring Pattern problem, you will be given a string. To slove this problem You need to check if the given string can be formed by repeating a substring of the string.\n",
    "\n",
    "* for example : as below\n",
    "        - Input : \" abab \"    Out Put : True\n",
    "        * In this example there a string given as an input \"abab\" And when a substring (\"ab\") of the string (\"abab\") is repeated twice, it froms the string as given in the input . So the output is true!"
   ]
  },
  {
   "cell_type": "code",
   "execution_count": 3,
   "id": "3b7e24ae",
   "metadata": {},
   "outputs": [
    {
     "name": "stdout",
     "output_type": "stream",
     "text": [
      "True\n"
     ]
    }
   ],
   "source": [
    "def RepeatedString(s):\n",
    "    string = (s + s)[ 1:-1]\n",
    "    return string.find(s) != -1\n",
    "\n",
    "print(RepeatedString(\"papa\"))"
   ]
  },
  {
   "cell_type": "code",
   "execution_count": null,
   "id": "acd9c218",
   "metadata": {},
   "outputs": [],
   "source": []
  }
 ],
 "metadata": {
  "kernelspec": {
   "display_name": "Python 3 (ipykernel)",
   "language": "python",
   "name": "python3"
  },
  "language_info": {
   "codemirror_mode": {
    "name": "ipython",
    "version": 3
   },
   "file_extension": ".py",
   "mimetype": "text/x-python",
   "name": "python",
   "nbconvert_exporter": "python",
   "pygments_lexer": "ipython3",
   "version": "3.9.13"
  }
 },
 "nbformat": 4,
 "nbformat_minor": 5
}
