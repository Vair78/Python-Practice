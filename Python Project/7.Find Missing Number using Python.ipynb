{
 "cells": [
  {
   "cell_type": "markdown",
   "id": "7650bfd2",
   "metadata": {},
   "source": [
    "# Find Missing Number using Python"
   ]
  },
  {
   "cell_type": "markdown",
   "id": "514a6854",
   "metadata": {},
   "source": [
    "* Given an array containing a range of number from 0 to n with a missing number,find the missing number in input array\n",
    "* We need to iterate over the input array and store the numbers in another array that we didn't find in the inpurt array while iterating over it.\n",
    "* Below is how you can find the missing number in an array or a list using the Python Programming language"
   ]
  },
  {
   "cell_type": "code",
   "execution_count": 1,
   "id": "8adbcee2",
   "metadata": {},
   "outputs": [
    {
     "name": "stdout",
     "output_type": "stream",
     "text": [
      "[4, 10, 12, 16, 18]\n"
     ]
    }
   ],
   "source": [
    "def findMissingNumber(n):\n",
    "    numbers = set(n)\n",
    "    length = len(n)\n",
    "    output = []\n",
    "    for i in range(1,n[-1]):\n",
    "        if i not in numbers:\n",
    "            output.append(i)\n",
    "    return output\n",
    "listOfNumbers =[1,2,3,5,6,7,8,9,11,13,14,15,17,19,20]\n",
    "print(findMissingNumber(listOfNumbers))"
   ]
  },
  {
   "cell_type": "code",
   "execution_count": null,
   "id": "b4137f50",
   "metadata": {},
   "outputs": [],
   "source": []
  }
 ],
 "metadata": {
  "kernelspec": {
   "display_name": "Python 3 (ipykernel)",
   "language": "python",
   "name": "python3"
  },
  "language_info": {
   "codemirror_mode": {
    "name": "ipython",
    "version": 3
   },
   "file_extension": ".py",
   "mimetype": "text/x-python",
   "name": "python",
   "nbconvert_exporter": "python",
   "pygments_lexer": "ipython3",
   "version": "3.9.13"
  }
 },
 "nbformat": 4,
 "nbformat_minor": 5
}
