{
 "cells": [
  {
   "cell_type": "markdown",
   "id": "f9dce8fc",
   "metadata": {},
   "source": [
    "# 9.Execution Time of a Python Program\n",
    "\n",
    "\n",
    "* The Execution or running time of the program indicates how quickly the output is delivered based on teh algorithm you used to slove the problem.\n",
    "\n",
    "* TO calculate the execution time of Program, We need to calculate the time taken by the Program from its initiation to the final results.\n",
    "\n",
    "* It is important to calculate the execution time when working on a large project. When working on a large project , we have several approaches in mind. The best should be the one that takes the shortest execution time in all Scenarios."
   ]
  },
  {
   "cell_type": "markdown",
   "id": "b438e5e3",
   "metadata": {},
   "source": [
    "* Step : \n",
    "    1. First, Store teh time of initiation of the program into a variable;\n",
    "    2. Write teh Python Program;\n",
    "    3. Store the end time of the program into a variable;\n",
    "    4. Subtract the time of initiation of the program from the end time of the program;\n",
    "    \n",
    "- In the end, you will get the execution time of your program in seconds.\n",
    "    "
   ]
  },
  {
   "cell_type": "code",
   "execution_count": 2,
   "id": "7eccbf45",
   "metadata": {},
   "outputs": [],
   "source": [
    "from time import time\n",
    "start = time()\n",
    "\n"
   ]
  },
  {
   "cell_type": "code",
   "execution_count": 3,
   "id": "1122be4e",
   "metadata": {},
   "outputs": [
    {
     "name": "stdout",
     "output_type": "stream",
     "text": [
      " AI\n",
      "Execution Time: 2.3411808013916016\n"
     ]
    }
   ],
   "source": [
    "# Python progarm to Create Acronyms\n",
    "\n",
    "word = \"Artificial Intelligenc\"\n",
    "text = word.split()\n",
    "a = \" \"\n",
    "for i in text:\n",
    "    a = a+str(i[0]).upper()\n",
    "print(a)\n",
    "\n",
    "end = time()\n",
    "execution_time = end -start\n",
    "print(\"Execution Time:\", execution_time)"
   ]
  },
  {
   "cell_type": "code",
   "execution_count": null,
   "id": "4a3e3b0d",
   "metadata": {},
   "outputs": [],
   "source": []
  },
  {
   "cell_type": "code",
   "execution_count": null,
   "id": "eb6500d1",
   "metadata": {},
   "outputs": [],
   "source": []
  },
  {
   "cell_type": "code",
   "execution_count": null,
   "id": "b2a2258c",
   "metadata": {},
   "outputs": [],
   "source": []
  },
  {
   "cell_type": "code",
   "execution_count": null,
   "id": "aa6bddda",
   "metadata": {},
   "outputs": [],
   "source": []
  }
 ],
 "metadata": {
  "kernelspec": {
   "display_name": "Python 3 (ipykernel)",
   "language": "python",
   "name": "python3"
  },
  "language_info": {
   "codemirror_mode": {
    "name": "ipython",
    "version": 3
   },
   "file_extension": ".py",
   "mimetype": "text/x-python",
   "name": "python",
   "nbconvert_exporter": "python",
   "pygments_lexer": "ipython3",
   "version": "3.9.13"
  }
 },
 "nbformat": 4,
 "nbformat_minor": 5
}
