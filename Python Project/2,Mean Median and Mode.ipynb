{
 "cells": [
  {
   "cell_type": "markdown",
   "id": "225d322d",
   "metadata": {},
   "source": [
    " # 2.Mean Median and Mode Using Python "
   ]
  },
  {
   "cell_type": "markdown",
   "id": "ebf93fab",
   "metadata": {},
   "source": [
    "# A.Mean"
   ]
  },
  {
   "cell_type": "markdown",
   "id": "e4d52628",
   "metadata": {},
   "source": [
    "* The Mean is the average value of all the alues in a data set .\n",
    "* To calculate the mean value of a dataset , we first need  to find the sum of all the values and then divide the sum of all the total number of values\n",
    "\n",
    "*  Mean = All the values / sum of all total of values\n",
    "\n",
    "\n",
    "* So here how to calculate the mean using python"
   ]
  },
  {
   "cell_type": "code",
   "execution_count": 11,
   "id": "c570b2fe",
   "metadata": {},
   "outputs": [
    {
     "name": "stdout",
     "output_type": "stream",
     "text": [
      "Total sum of number  202\n",
      "Total count of number 10\n",
      "The Mean of above is 20.2\n"
     ]
    }
   ],
   "source": [
    "# Mean\n",
    "\n",
    "list1 = [12,16,20,20,12,30,25,23,24,20]\n",
    "\n",
    "print(\"Total sum of number \",sum(list1))   # it will do sum of all the number which will be 202\n",
    "print(\"Total count of number\",len(list1))   # it will count the how many numbers in it 10\n",
    "\n",
    "mean = sum(list1)/len(list1)\n",
    "print(\"The Mean of above is\",mean)"
   ]
  },
  {
   "cell_type": "code",
   "execution_count": null,
   "id": "3b6a16d9",
   "metadata": {},
   "outputs": [],
   "source": []
  },
  {
   "cell_type": "markdown",
   "id": "db0ca52f",
   "metadata": {},
   "source": [
    "# B . : Median"
   ]
  },
  {
   "cell_type": "markdown",
   "id": "62cf14ec",
   "metadata": {},
   "source": [
    "* The Median is the Middle vlaue amount all the values in sorted order\n",
    "* Here we need to calculate the mid-values of all the values in a dataset\n",
    "* But before calculating the median, we need to arrange all the values in sorted order.\n",
    "* There are Two different ways of Calculating the Median values:"
   ]
  },
  {
   "cell_type": "markdown",
   "id": "46520f54",
   "metadata": {},
   "source": [
    "1. When the total number of values is even : \n",
    "\n",
    " Median = [(n/2)th term +{(n/2)+1 }th] / 2\n",
    "\n",
    "\n",
    "\n",
    "2. When the total number of values is ODD\n",
    "\n",
    "Median = {(n+1)/2}th term"
   ]
  },
  {
   "cell_type": "code",
   "execution_count": 15,
   "id": "b4d7679f",
   "metadata": {},
   "outputs": [
    {
     "name": "stdout",
     "output_type": "stream",
     "text": [
      "20.0\n"
     ]
    }
   ],
   "source": [
    "# Median\n",
    "\n",
    "list2 = [12,16,20,20,12,30,25,23,24,20]\n",
    "list2.sort()\n",
    "\n",
    "if len(list2)% 2 ==0:\n",
    "    m1 = list2[len(list2)//2]\n",
    "    m2 = list2[len(list2)//2 - 1]\n",
    "    median =(m1 +m2)/2\n",
    "\n",
    "else:\n",
    "    median = list2[len(list2)//2]\n",
    "print(median)"
   ]
  },
  {
   "cell_type": "code",
   "execution_count": 14,
   "id": "aba5095b",
   "metadata": {},
   "outputs": [
    {
     "data": {
      "text/plain": [
       "[12, 12, 16, 20, 20, 20, 23, 24, 25, 30]"
      ]
     },
     "execution_count": 14,
     "metadata": {},
     "output_type": "execute_result"
    }
   ],
   "source": [
    "list2"
   ]
  },
  {
   "cell_type": "code",
   "execution_count": 17,
   "id": "49d46245",
   "metadata": {},
   "outputs": [
    {
     "data": {
      "text/plain": [
       "20"
      ]
     },
     "execution_count": 17,
     "metadata": {},
     "output_type": "execute_result"
    }
   ],
   "source": [
    "list2[len(list2)//2]"
   ]
  },
  {
   "cell_type": "code",
   "execution_count": 25,
   "id": "b36e1c32",
   "metadata": {},
   "outputs": [
    {
     "data": {
      "text/plain": [
       "[4]"
      ]
     },
     "execution_count": 25,
     "metadata": {},
     "output_type": "execute_result"
    }
   ],
   "source": [
    "[len(list2)//2-1]"
   ]
  },
  {
   "cell_type": "code",
   "execution_count": 28,
   "id": "1d5a2256",
   "metadata": {},
   "outputs": [],
   "source": [
    "m1 = list2[len(list2)//2]\n",
    "m2 = list2[len(list2)//2 - 1]\n"
   ]
  },
  {
   "cell_type": "code",
   "execution_count": 29,
   "id": "28e63cd1",
   "metadata": {},
   "outputs": [
    {
     "data": {
      "text/plain": [
       "20"
      ]
     },
     "execution_count": 29,
     "metadata": {},
     "output_type": "execute_result"
    }
   ],
   "source": [
    "m1"
   ]
  },
  {
   "cell_type": "code",
   "execution_count": 30,
   "id": "67347707",
   "metadata": {},
   "outputs": [
    {
     "data": {
      "text/plain": [
       "20"
      ]
     },
     "execution_count": 30,
     "metadata": {},
     "output_type": "execute_result"
    }
   ],
   "source": [
    "m2"
   ]
  },
  {
   "cell_type": "markdown",
   "id": "e25b8133",
   "metadata": {},
   "source": [
    "# C . : Mode"
   ]
  },
  {
   "cell_type": "markdown",
   "id": "e1384e11",
   "metadata": {},
   "source": [
    "* Mode is the most frequently occurring value among all the values.\n"
   ]
  },
  {
   "cell_type": "code",
   "execution_count": 35,
   "id": "c85693fb",
   "metadata": {},
   "outputs": [
    {
     "name": "stdout",
     "output_type": "stream",
     "text": [
      "20\n"
     ]
    }
   ],
   "source": [
    "# Mode\n",
    "\n",
    "list3 = [12,16,20,20,12,30,25,23,24,20]\n",
    "frequency = {}\n",
    "for i in list3:\n",
    "    frequency.setdefault(i,0)\n",
    "    frequency[i]+=1\n",
    "    \n",
    "frequent = max(frequency.values())\n",
    "for i, j in frequency.items():\n",
    "    if j ==frequent:\n",
    "        mode = i\n",
    "print(mode)\n"
   ]
  },
  {
   "cell_type": "code",
   "execution_count": 34,
   "id": "c11aade5",
   "metadata": {},
   "outputs": [
    {
     "ename": "SyntaxError",
     "evalue": "invalid syntax (3591956311.py, line 1)",
     "output_type": "error",
     "traceback": [
      "\u001b[1;36m  File \u001b[1;32m\"C:\\Users\\Digital Next\\AppData\\Local\\Temp\\ipykernel_11376\\3591956311.py\"\u001b[1;36m, line \u001b[1;32m1\u001b[0m\n\u001b[1;33m    frequency{}\u001b[0m\n\u001b[1;37m             ^\u001b[0m\n\u001b[1;31mSyntaxError\u001b[0m\u001b[1;31m:\u001b[0m invalid syntax\n"
     ]
    }
   ],
   "source": []
  },
  {
   "cell_type": "code",
   "execution_count": null,
   "id": "ccdef94c",
   "metadata": {},
   "outputs": [],
   "source": []
  }
 ],
 "metadata": {
  "kernelspec": {
   "display_name": "Python 3 (ipykernel)",
   "language": "python",
   "name": "python3"
  },
  "language_info": {
   "codemirror_mode": {
    "name": "ipython",
    "version": 3
   },
   "file_extension": ".py",
   "mimetype": "text/x-python",
   "name": "python",
   "nbconvert_exporter": "python",
   "pygments_lexer": "ipython3",
   "version": "3.9.13"
  }
 },
 "nbformat": 4,
 "nbformat_minor": 5
}
