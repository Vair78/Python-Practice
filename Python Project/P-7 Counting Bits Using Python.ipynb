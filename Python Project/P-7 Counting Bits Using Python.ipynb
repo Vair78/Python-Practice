{
 "cells": [
  {
   "cell_type": "markdown",
   "id": "018f454a",
   "metadata": {},
   "source": [
    "# P-7 Counting Bits Using Python\n",
    "\n",
    "\n",
    "- Counting Bits is a popular Coding interview Question. Here you will given an integer and you have to return an array of length(length of the integer +1 ) by counting the numbers of 1's in the binary representation of the index number of each element of the array. SO if you want to learn how to slove the counting bits problem.\n",
    "\n",
    "\n",
    "- To slove this problem , Return an array of the length n +1 where the elements will be the numbers of 1's present in the binary represenatation of the index number of each value in the array.\n",
    "\n",
    "For example : look at the input and output of this problem:\n",
    "\n",
    "input : 5\n",
    "Output : [0,1,1,2,1,2]\n",
    "\n"
   ]
  },
  {
   "cell_type": "code",
   "execution_count": 6,
   "id": "f48ea3c3",
   "metadata": {},
   "outputs": [
    {
     "name": "stdout",
     "output_type": "stream",
     "text": [
      "[0, 1, 1, 2, 1, 2]\n"
     ]
    }
   ],
   "source": [
    "def countBits(num):\n",
    "    counter = [0]\n",
    "    if num >=1:\n",
    "        while len(counter) <= num:\n",
    "            counter = counter +[ i+ 1 for i in counter]\n",
    "        return counter[: num + 1]\n",
    "    else:\n",
    "        return 0 \n",
    "print(countBits(5))"
   ]
  },
  {
   "cell_type": "code",
   "execution_count": null,
   "id": "59f67ff7",
   "metadata": {},
   "outputs": [],
   "source": []
  }
 ],
 "metadata": {
  "kernelspec": {
   "display_name": "Python 3 (ipykernel)",
   "language": "python",
   "name": "python3"
  },
  "language_info": {
   "codemirror_mode": {
    "name": "ipython",
    "version": 3
   },
   "file_extension": ".py",
   "mimetype": "text/x-python",
   "name": "python",
   "nbconvert_exporter": "python",
   "pygments_lexer": "ipython3",
   "version": "3.9.13"
  }
 },
 "nbformat": 4,
 "nbformat_minor": 5
}
