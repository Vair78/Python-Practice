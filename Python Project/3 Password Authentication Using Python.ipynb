{
 "cells": [
  {
   "cell_type": "markdown",
   "id": "b2fab457",
   "metadata": {},
   "source": [
    "# P-3 Password Authentication Using Python"
   ]
  },
  {
   "cell_type": "markdown",
   "id": "22110fad",
   "metadata": {},
   "source": [
    "* A Password authentication system is a system that is used for the identification of a user. Think of it like a login screen that you see while logging in to your Facebook account.\n",
    "* It asks your email or username and then it asks for your password. if you have entered the correct password then it verifies you as the real User.\n"
   ]
  },
  {
   "cell_type": "markdown",
   "id": "cf3b57d3",
   "metadata": {},
   "source": [
    " ### Steps to Create A Password authentication system using Python"
   ]
  },
  {
   "cell_type": "markdown",
   "id": "02e876d6",
   "metadata": {},
   "source": [
    "1. Create a DICTIONARY of Usernames with their passwords\n",
    "2. Then You have to ask for user input as the Username by using the input function in Python\n",
    "3. Then you have to use the getpass module in Python to ask for user input as the password.Here we are Using the getpass Module instead of the input function to make sure that the user doesn't get to see what he/she write in the password field.\n",
    "\n",
    "* So let's follow the steps above to create the code."
   ]
  },
  {
   "cell_type": "code",
   "execution_count": 4,
   "id": "2622026a",
   "metadata": {},
   "outputs": [
    {
     "name": "stdout",
     "output_type": "stream",
     "text": [
      "Enter YOur Username :vaibhav.bhalerao\n",
      "Enter Your Password :········\n",
      "Enter Your Password Again :········\n",
      "Enter Your Password Again :········\n",
      "Verified\n"
     ]
    }
   ],
   "source": [
    "import getpass\n",
    "database ={\"aman.kharwal\":\"123456789\", \"vaibhav.bhalerao\":\"987654321\"}\n",
    "Username = input(\"Enter YOur Username :\")\n",
    "Password = getpass.getpass(\"Enter Your Password :\")\n",
    "for i in database.keys():\n",
    "    if Username ==i:\n",
    "        while Password !=database.get(i):\n",
    "            Password = getpass.getpass(\"Enter Your Password Again :\")\n",
    "        break\n",
    "print(\"Verified\")"
   ]
  },
  {
   "cell_type": "code",
   "execution_count": null,
   "id": "f88bc0d1",
   "metadata": {},
   "outputs": [],
   "source": []
  }
 ],
 "metadata": {
  "kernelspec": {
   "display_name": "Python 3 (ipykernel)",
   "language": "python",
   "name": "python3"
  },
  "language_info": {
   "codemirror_mode": {
    "name": "ipython",
    "version": 3
   },
   "file_extension": ".py",
   "mimetype": "text/x-python",
   "name": "python",
   "nbconvert_exporter": "python",
   "pygments_lexer": "ipython3",
   "version": "3.9.13"
  }
 },
 "nbformat": 4,
 "nbformat_minor": 5
}
