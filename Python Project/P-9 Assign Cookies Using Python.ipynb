{
 "cells": [
  {
   "cell_type": "markdown",
   "id": "ffc5b02b",
   "metadata": {},
   "source": [
    "# P-9 Assign Cookies Using Python\n",
    "\n",
    "\n",
    "\n",
    "- Here You will be given a list of children with their greed factor and a list of cookies with their size.  To slove this problem , you need to assign each child a cookie such that the child's greed factor is less than or equal to the size of the cookie. \n",
    "\n",
    "* Number of children with freed factors (g) : [1,2,3]\n",
    "* Number of cookies with their sizes (s) : [1,1] Output : 1\n",
    "\n",
    "- In Above example, there are two cookies with size1 , But only one child with desired cookies size of 1. So even though there are two cookies. Only one child can be satified . That is why the ouput return 1, as only one cookie is needed to satisfy the one child with a desired size of 1."
   ]
  },
  {
   "cell_type": "code",
   "execution_count": 13,
   "id": "ec75ddfd",
   "metadata": {},
   "outputs": [
    {
     "name": "stdout",
     "output_type": "stream",
     "text": [
      "1\n"
     ]
    }
   ],
   "source": [
    "def findchildren(g,s):\n",
    "    i = 0\n",
    "    j = 0\n",
    "    g = sorted(g)\n",
    "    s = sorted(s)\n",
    "    \n",
    "    while  i < len(g) and j < len(s):\n",
    "        i += g[i] <= s[i]\n",
    "        j = j+1\n",
    "    return i\n",
    "\n",
    "g = [2,3,1]\n",
    "s = [1,1]\n",
    "\n",
    "print(findchildren(g,s))"
   ]
  },
  {
   "cell_type": "code",
   "execution_count": null,
   "id": "af71b1c8",
   "metadata": {},
   "outputs": [],
   "source": []
  },
  {
   "cell_type": "code",
   "execution_count": null,
   "id": "bd7e60d3",
   "metadata": {},
   "outputs": [],
   "source": []
  }
 ],
 "metadata": {
  "kernelspec": {
   "display_name": "Python 3 (ipykernel)",
   "language": "python",
   "name": "python3"
  },
  "language_info": {
   "codemirror_mode": {
    "name": "ipython",
    "version": 3
   },
   "file_extension": ".py",
   "mimetype": "text/x-python",
   "name": "python",
   "nbconvert_exporter": "python",
   "pygments_lexer": "ipython3",
   "version": "3.9.13"
  }
 },
 "nbformat": 4,
 "nbformat_minor": 5
}
