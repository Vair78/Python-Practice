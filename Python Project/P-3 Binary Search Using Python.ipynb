{
 "cells": [
  {
   "cell_type": "markdown",
   "id": "03787b50",
   "metadata": {},
   "source": [
    "# P-3 Binary Search Using Python"
   ]
  },
  {
   "cell_type": "markdown",
   "id": "4229c388",
   "metadata": {},
   "source": [
    "* Binary Search is an algorithm used to find an element in a sorted array by repeatedly dividing the search interval in half.\n",
    "\n",
    "1. It Starts by defining a search range that spans the entire array\n",
    "2. Then compares the targets value with the middle elemetn of the search range\n",
    "3. If the target value is equal to the middle element the target is found and returns its index\n",
    "4. If the target values is less than the middle element the algorithm discards the upper half of the search range and repeats step 2 with the lover half\n",
    "5. If the target value is greater than the middle element, the alogorithm discards the lower half of the search range and rpeats step 2 with the upper half.\n",
    "6. It repeats step 2 through 5 until the the target value is found or the search range is empty.\n",
    "\n",
    "* Below  is the kind of input and output you will see in the problem of binary search in your coding interviews.\n",
    " -  input = [-1,0,3,5,9,1,2], target = 9 || Output = 4\n",
    " "
   ]
  },
  {
   "cell_type": "code",
   "execution_count": 10,
   "id": "a659387f",
   "metadata": {},
   "outputs": [
    {
     "name": "stdout",
     "output_type": "stream",
     "text": [
      "4\n"
     ]
    }
   ],
   "source": [
    "def search(nums, target ):\n",
    "    low = 0\n",
    "    high = len(nums)-1\n",
    "    \n",
    "    while low < high:\n",
    "        mid = (low + high) // 2\n",
    "        if nums[mid] == target:\n",
    "            return mid\n",
    "        elif nums[mid] < target:\n",
    "            low = mid + 1\n",
    "        else:\n",
    "            high = mid -1\n",
    "    return -1\n",
    "\n",
    "nums = [-1,0,3,5,9,12]\n",
    "target = 9\n",
    "\n",
    "print(search(nums, target))\n",
    "            "
   ]
  },
  {
   "cell_type": "markdown",
   "id": "b22ff1d2",
   "metadata": {},
   "source": [
    "How code work:\n",
    "    \n",
    "1. We start two variables low and high that define the search range as teh entire array   \n",
    "\n",
    "2. We use a while loop to repeatedly halve the search interval until the target element is found or the search interval is empty:\n",
    "\n",
    "3. At each interation of the loop the index of the element in the middle of the search interval is calculated using the formaula(low + high) // 2\n",
    "\n",
    "4. We compare  the target value with the middle element of the search range:\n",
    "       - If the target values is equal to middle element , we have found our target and can return its index:\n",
    "       - If the target value is less than the middle element we discard the upper half of the search range and repeat the process with the  lower half:\n",
    "       - if the target value is greater than the middle elements, we discards the lower half of the search range and repeat the process with the upper half;\n",
    "    \n",
    "5. if the target element is not found after all iterations of the loop,we return a \"not found\" signal, which in this case is -1.\n",
    "       \n"
   ]
  },
  {
   "cell_type": "code",
   "execution_count": null,
   "id": "04092542",
   "metadata": {},
   "outputs": [],
   "source": []
  }
 ],
 "metadata": {
  "kernelspec": {
   "display_name": "Python 3 (ipykernel)",
   "language": "python",
   "name": "python3"
  },
  "language_info": {
   "codemirror_mode": {
    "name": "ipython",
    "version": 3
   },
   "file_extension": ".py",
   "mimetype": "text/x-python",
   "name": "python",
   "nbconvert_exporter": "python",
   "pygments_lexer": "ipython3",
   "version": "3.9.13"
  }
 },
 "nbformat": 4,
 "nbformat_minor": 5
}
