{
 "cells": [
  {
   "cell_type": "markdown",
   "id": "6c916cf5",
   "metadata": {},
   "source": [
    "## P-2 Relative rank using Python"
   ]
  },
  {
   "cell_type": "markdown",
   "id": "193446e2",
   "metadata": {},
   "source": [
    "* Assuming that the athletes,  with the 1st Rang will have the highest score, and you need to return an array with the ranks of athletes according to their scores.\n",
    "\n",
    "* In the relative rank problem, you will be given an array of integers represendting the scores of athletes, and we need to assign ranks in descending order.\n",
    "\n",
    "* The highest score will get the rank of \"Gold Medel\", the second highest score will get the rank of \" Silver Medal\",the third highest will get \"Bronze Medal\", and the remaining  scores in will be ranked in descending orders.\n",
    "\n",
    "* Input: [5,4,3,21,]   ;; Output : [\"Gold Medeail\", \"Silver Medal\",\"Bronze Medal\",\"4\",\"5\"]"
   ]
  },
  {
   "cell_type": "code",
   "execution_count": 2,
   "id": "13cc17fd",
   "metadata": {},
   "outputs": [
    {
     "name": "stdout",
     "output_type": "stream",
     "text": [
      "['Broze Medal', 'Silver Medal', '4', 'Gold Medal', '5']\n"
     ]
    }
   ],
   "source": [
    "def findRelativeRank(scores):\n",
    "    sorted_nums = sorted(scores, reverse = True)\n",
    "    ranks = {}\n",
    "    for i, j in enumerate(sorted_nums):\n",
    "        if i == 0:\n",
    "            ranks[j] = \"Gold Medal\"\n",
    "        elif i == 1:\n",
    "            ranks[j] = \"Silver Medal\"\n",
    "        elif i == 2 :\n",
    "            ranks[j] = \"Broze Medal\"\n",
    "        else :\n",
    "            ranks[j] = str(i + 1)\n",
    "    return[ranks[j] for j in scores]\n",
    "\n",
    "scores = [3,4,2,5,1]\n",
    "\n",
    "print(findRelativeRank(scores))\n",
    "            "
   ]
  },
  {
   "cell_type": "code",
   "execution_count": null,
   "id": "2ebf6308",
   "metadata": {},
   "outputs": [],
   "source": []
  }
 ],
 "metadata": {
  "kernelspec": {
   "display_name": "Python 3 (ipykernel)",
   "language": "python",
   "name": "python3"
  },
  "language_info": {
   "codemirror_mode": {
    "name": "ipython",
    "version": 3
   },
   "file_extension": ".py",
   "mimetype": "text/x-python",
   "name": "python",
   "nbconvert_exporter": "python",
   "pygments_lexer": "ipython3",
   "version": "3.9.13"
  }
 },
 "nbformat": 4,
 "nbformat_minor": 5
}
