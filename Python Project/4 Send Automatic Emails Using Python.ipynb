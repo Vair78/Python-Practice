{
 "cells": [
  {
   "cell_type": "markdown",
   "id": "742275d6",
   "metadata": {},
   "source": [
    "# 4. Send AUtomatice Emails Using Python"
   ]
  },
  {
   "cell_type": "markdown",
   "id": "d7bea69a",
   "metadata": {},
   "source": [
    "### How To Send Automatic Emails using Python \n",
    "\n",
    "* TO Send Automatic emails using python, YOu must first Understand how to send an emails using Python.\n",
    "* Once you know how to send an emails using python, then next thing you need to figure our is what you want to send automatically.\n",
    "* For Example : Many companies send OTP or welcome message while some companies even send newsletter to newly registered users.\n",
    "* So in this section below , I will take you through how to send Automatice emails using Python.\n",
    "* I will automatically send a welcome messgae to newly registered user.\n",
    "* For this taks, you must  first generate a GOOGLE APP Password for your email account. "
   ]
  },
  {
   "cell_type": "markdown",
   "id": "5184cff1",
   "metadata": {},
   "source": [
    "### Send Automatic Emails Using Python\n",
    "\n",
    "* It's important to generate a google app password for your account , as you will sending automatic emails using Python through your email account. \n",
    "* Once you have registered your google app password, here how you can start the task of sending emails using Python."
   ]
  },
  {
   "cell_type": "code",
   "execution_count": null,
   "id": "82d9ffb0",
   "metadata": {},
   "outputs": [],
   "source": [
    "import os \n",
    "import random\n",
    "import smtplib\n",
    "\n",
    "\n",
    "def automatic_email():\n",
    "    user = input(\"Enter Your Name>>:\")\n",
    "    email = input(\"Enter Your email>>:\")\n",
    "    message = (f\"Dear {user}, Welcome to the company\")\n",
    "    s = smtplib.SMTP('smtp.gmail.com',587)\n",
    "    s.starttls()\n",
    "    s.login(\"Your Gmail Account\",\"Your App password\")\n",
    "    s.sendmail('$$$$$$$$',email, message)\n",
    "    print(\"Email Sent !\")\n",
    "    \n",
    "automatic_email()"
   ]
  },
  {
   "cell_type": "code",
   "execution_count": null,
   "id": "d6ec3c4c",
   "metadata": {},
   "outputs": [],
   "source": []
  }
 ],
 "metadata": {
  "kernelspec": {
   "display_name": "Python 3 (ipykernel)",
   "language": "python",
   "name": "python3"
  },
  "language_info": {
   "codemirror_mode": {
    "name": "ipython",
    "version": 3
   },
   "file_extension": ".py",
   "mimetype": "text/x-python",
   "name": "python",
   "nbconvert_exporter": "python",
   "pygments_lexer": "ipython3",
   "version": "3.9.13"
  }
 },
 "nbformat": 4,
 "nbformat_minor": 5
}
