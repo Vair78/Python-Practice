{
 "cells": [
  {
   "cell_type": "markdown",
   "id": "8f3e6ff6",
   "metadata": {},
   "source": [
    "# 8 Group Element of Same Indices"
   ]
  },
  {
   "cell_type": "markdown",
   "id": "7861080d",
   "metadata": {},
   "source": [
    "* Grouping elements of the same indices means grouping elements of two or more data Structure accourding to their indices.\n",
    "\n",
    "* To Group elements of the same index, you will initially have two or more lists inside a list like [[a,b],[c,d]].\n",
    "* To group the elements of these lists, you need to create two new lists where you will strore the elemetns of both the lists at index 0[a,c] and index 1[b,d].\n",
    "\n",
    "* The meaning of grouping the elements of the same indices.\n"
   ]
  },
  {
   "cell_type": "code",
   "execution_count": 1,
   "id": "fbb4fc62",
   "metadata": {},
   "outputs": [
    {
     "name": "stdout",
     "output_type": "stream",
     "text": [
      "[10, 40, 70] [20, 50, 80] [30, 60, 90]\n"
     ]
    }
   ],
   "source": [
    "inputLists = [[10, 20, 30], [40, 50, 60], [70, 80, 90]]\n",
    "outputLists = []\n",
    "index = 0\n",
    "\n",
    "\n",
    "for i in range(len(inputLists[0])):\n",
    "    outputLists.append([])\n",
    "    for j in range(len(inputLists)):\n",
    "        outputLists[index].append(inputLists[j][index])\n",
    "    index = index + 1\n",
    "a, b , c = outputLists[0], outputLists[1], outputLists[2]\n",
    "print(a,b,c)"
   ]
  },
  {
   "cell_type": "markdown",
   "id": "698b8dfa",
   "metadata": {},
   "source": [
    "To Group items of the same indices, you will initially have two or more lists inside a list like [[a,b],[c,d]] and you need to create two lists \n",
    "* Where you will store the elements of both the lists at index 0[a,c] and index 1[b,d].\n"
   ]
  }
 ],
 "metadata": {
  "kernelspec": {
   "display_name": "Python 3 (ipykernel)",
   "language": "python",
   "name": "python3"
  },
  "language_info": {
   "codemirror_mode": {
    "name": "ipython",
    "version": 3
   },
   "file_extension": ".py",
   "mimetype": "text/x-python",
   "name": "python",
   "nbconvert_exporter": "python",
   "pygments_lexer": "ipython3",
   "version": "3.9.13"
  }
 },
 "nbformat": 4,
 "nbformat_minor": 5
}
