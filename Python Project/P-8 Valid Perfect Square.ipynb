{
 "cells": [
  {
   "cell_type": "markdown",
   "id": "154cdf1d",
   "metadata": {},
   "source": [
    "## P-8 Valid Perfect Square\n",
    "\n",
    "\n",
    "Validating Perfect Squares : Here you will e given an interger and you have to check if the integer is a perfect Square. \n",
    "\n",
    "- When we square an integer, the output is a perfect square. In the problem of validating a perfec  square you will be given an integer n. To SLove this problem YOu need to check  whether the given integer n is a square of an integer.\n",
    "\n",
    "- Input : 16 Output : Treu(4*4=16\n",
    "- input : 14 output : False\n",
    "\n",
    "- If the input integer is the square of a number, your ouput will be True otherwise False.\n"
   ]
  },
  {
   "cell_type": "code",
   "execution_count": 5,
   "id": "b4090624",
   "metadata": {},
   "outputs": [
    {
     "name": "stdout",
     "output_type": "stream",
     "text": [
      "enter the number : 55\n",
      "False\n"
     ]
    }
   ],
   "source": [
    "def perfectsquare(num):\n",
    "    left = 1\n",
    "    right = num\n",
    "    \n",
    "    while left < right :\n",
    "        mid = (left + right) // 2\n",
    "        if mid * mid == num:\n",
    "            return True\n",
    "        \n",
    "        elif mid * mid < num:\n",
    "            left = mid + 1\n",
    "            \n",
    "        elif mid * mid > num:\n",
    "            right = mid \n",
    "    return False\n",
    "\n",
    "print(perfectsquare(int(input(\"enter the number : \"))))\n",
    "        "
   ]
  },
  {
   "cell_type": "code",
   "execution_count": null,
   "id": "bfe1e0dc",
   "metadata": {},
   "outputs": [],
   "source": []
  }
 ],
 "metadata": {
  "kernelspec": {
   "display_name": "Python 3 (ipykernel)",
   "language": "python",
   "name": "python3"
  },
  "language_info": {
   "codemirror_mode": {
    "name": "ipython",
    "version": 3
   },
   "file_extension": ".py",
   "mimetype": "text/x-python",
   "name": "python",
   "nbconvert_exporter": "python",
   "pygments_lexer": "ipython3",
   "version": "3.9.13"
  }
 },
 "nbformat": 4,
 "nbformat_minor": 5
}
