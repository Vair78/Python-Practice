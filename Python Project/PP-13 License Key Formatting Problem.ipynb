{
 "cells": [
  {
   "cell_type": "markdown",
   "id": "d7565ffd",
   "metadata": {},
   "source": [
    "# PP-13 License Key Formatting Problem\n",
    "\n",
    "\n",
    "\n",
    "- A license key repersented as a string. The String conists of alphanumeric characters and hyphens and is seperated into n+1 groups by n hyphens(\"-\"). The task is to reformat the string so that each group contains exactly k characters, except for the first group, which can be shorter than k but must always contain at least one character.\n",
    "\n",
    "- Also all lowercase letters must be converted to Uppercase and a hyphen must be inserted between two groups.\n",
    "\n",
    "INPUT : \"2-4A0r7-4k\", k =3\n",
    "OUTPUT : \"24-A0R-74K\"\n",
    "\n"
   ]
  },
  {
   "cell_type": "code",
   "execution_count": 2,
   "id": "b2640b4f",
   "metadata": {},
   "outputs": [
    {
     "name": "stdout",
     "output_type": "stream",
     "text": [
      "24-A0R-74K\n"
     ]
    }
   ],
   "source": [
    "def licenseformat(s,k):\n",
    "    s = s.upper().replace('-','')\n",
    "    size = len(s)\n",
    "    s = s[::-1]\n",
    "    res =[]\n",
    "    for i in range(0, size, k):\n",
    "        res.append(s[i:i+k])\n",
    "    return '-'.join(res)[::-1]\n",
    "\n",
    "print(licenseformat(\"2-4A0r7-4k\", 3))"
   ]
  },
  {
   "cell_type": "code",
   "execution_count": null,
   "id": "842444c7",
   "metadata": {},
   "outputs": [],
   "source": []
  }
 ],
 "metadata": {
  "kernelspec": {
   "display_name": "Python 3 (ipykernel)",
   "language": "python",
   "name": "python3"
  },
  "language_info": {
   "codemirror_mode": {
    "name": "ipython",
    "version": 3
   },
   "file_extension": ".py",
   "mimetype": "text/x-python",
   "name": "python",
   "nbconvert_exporter": "python",
   "pygments_lexer": "ipython3",
   "version": "3.9.13"
  }
 },
 "nbformat": 4,
 "nbformat_minor": 5
}
