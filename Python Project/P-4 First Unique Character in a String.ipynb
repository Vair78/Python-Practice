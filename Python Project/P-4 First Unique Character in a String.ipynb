{
 "cells": [
  {
   "cell_type": "markdown",
   "id": "78bc9a13",
   "metadata": {},
   "source": [
    "# P-4 First Unique Character in a String\n",
    "\n",
    "\n",
    "    - in the problems of finding the first unique character in a string, you will be given a string as input.\n",
    "    - To slove this problem, you need to find the index of the first character in the string that is non-repeating in the string.\n",
    "    - And if there is no unique character , your output should be return as -1.\n",
    "    - For example as below \n",
    "            - input : \" vaibahvbhalerao\" \n",
    "             - out put : 2(index of i)\n",
    "            - Input : \"vvaa\"  Output : -1 (no unique character found)"
   ]
  },
  {
   "cell_type": "code",
   "execution_count": 2,
   "id": "9a17fb79",
   "metadata": {},
   "outputs": [
    {
     "name": "stdout",
     "output_type": "stream",
     "text": [
      "9\n"
     ]
    }
   ],
   "source": [
    "def firstuniquechar(s):\n",
    "    from collections import Counter\n",
    "    count = Counter(s)\n",
    "    for i , j in enumerate(s):\n",
    "        if count[j] == 1:\n",
    "            return i\n",
    "    else :\n",
    "        return -1\n",
    "    \n",
    "print(firstuniquechar(\"vabhavbhalerao\"))"
   ]
  },
  {
   "cell_type": "code",
   "execution_count": null,
   "id": "2a0d15bd",
   "metadata": {},
   "outputs": [],
   "source": []
  }
 ],
 "metadata": {
  "kernelspec": {
   "display_name": "Python 3 (ipykernel)",
   "language": "python",
   "name": "python3"
  },
  "language_info": {
   "codemirror_mode": {
    "name": "ipython",
    "version": 3
   },
   "file_extension": ".py",
   "mimetype": "text/x-python",
   "name": "python",
   "nbconvert_exporter": "python",
   "pygments_lexer": "ipython3",
   "version": "3.9.13"
  }
 },
 "nbformat": 4,
 "nbformat_minor": 5
}
