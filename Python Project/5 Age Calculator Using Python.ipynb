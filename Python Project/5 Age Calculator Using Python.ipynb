{
 "cells": [
  {
   "cell_type": "markdown",
   "id": "a7955d95",
   "metadata": {},
   "source": [
    "# 5 Age Calculator Using Python"
   ]
  },
  {
   "cell_type": "markdown",
   "id": "647b4023",
   "metadata": {},
   "source": [
    "* Age Calculator is an amazing application to create as a beginner in any programming language.\n",
    "* To Create an age calculator you need Two Date\n",
    "            - Today's day\n",
    "            - Date of Birth\n",
    "* You can either ask the user for both date or just ask for date of birth and use today's date from your system.\n",
    "* asking for the birthday only seems like a more user-friedly option.\n"
   ]
  },
  {
   "cell_type": "code",
   "execution_count": 2,
   "id": "d1669c37",
   "metadata": {},
   "outputs": [
    {
     "name": "stdout",
     "output_type": "stream",
     "text": [
      "24\n"
     ]
    }
   ],
   "source": [
    "def ageCalculator(y, m, d):\n",
    "    import datetime\n",
    "    today = datetime.datetime.now().date()\n",
    "    Dob = datetime.date(y, m, d)\n",
    "    age = int((today-Dob).days/365.25)\n",
    "    print(age)\n",
    "ageCalculator(1998, 9, 3)"
   ]
  },
  {
   "cell_type": "code",
   "execution_count": 6,
   "id": "f4c374ac",
   "metadata": {},
   "outputs": [
    {
     "ename": "AttributeError",
     "evalue": "module 'datetime' has no attribute 'now'",
     "output_type": "error",
     "traceback": [
      "\u001b[1;31m---------------------------------------------------------------------------\u001b[0m",
      "\u001b[1;31mAttributeError\u001b[0m                            Traceback (most recent call last)",
      "\u001b[1;32m~\\AppData\\Local\\Temp\\ipykernel_3368\\1586241170.py\u001b[0m in \u001b[0;36m<module>\u001b[1;34m\u001b[0m\n\u001b[0;32m      1\u001b[0m \u001b[1;32mimport\u001b[0m \u001b[0mdatetime\u001b[0m\u001b[1;33m\u001b[0m\u001b[1;33m\u001b[0m\u001b[0m\n\u001b[1;32m----> 2\u001b[1;33m \u001b[0mdatetime\u001b[0m\u001b[1;33m.\u001b[0m\u001b[0mnow\u001b[0m\u001b[1;33m(\u001b[0m\u001b[1;33m)\u001b[0m\u001b[1;33m.\u001b[0m\u001b[0mdate\u001b[0m\u001b[1;33m(\u001b[0m\u001b[1;33m)\u001b[0m\u001b[1;33m\u001b[0m\u001b[1;33m\u001b[0m\u001b[0m\n\u001b[0m",
      "\u001b[1;31mAttributeError\u001b[0m: module 'datetime' has no attribute 'now'"
     ]
    }
   ],
   "source": []
  },
  {
   "cell_type": "code",
   "execution_count": null,
   "id": "ab6fbe66",
   "metadata": {},
   "outputs": [],
   "source": []
  }
 ],
 "metadata": {
  "kernelspec": {
   "display_name": "Python 3 (ipykernel)",
   "language": "python",
   "name": "python3"
  },
  "language_info": {
   "codemirror_mode": {
    "name": "ipython",
    "version": 3
   },
   "file_extension": ".py",
   "mimetype": "text/x-python",
   "name": "python",
   "nbconvert_exporter": "python",
   "pygments_lexer": "ipython3",
   "version": "3.9.13"
  }
 },
 "nbformat": 4,
 "nbformat_minor": 5
}
