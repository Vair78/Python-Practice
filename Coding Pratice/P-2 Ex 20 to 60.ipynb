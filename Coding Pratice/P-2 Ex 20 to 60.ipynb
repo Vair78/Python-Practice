{
 "cells": [
  {
   "cell_type": "markdown",
   "id": "1672d95d",
   "metadata": {},
   "source": [
    "# Variable Local /Global"
   ]
  },
  {
   "cell_type": "code",
   "execution_count": 2,
   "id": "25622c42",
   "metadata": {},
   "outputs": [
    {
     "name": "stdout",
     "output_type": "stream",
     "text": [
      "x inside: global\n",
      "x outside: global\n"
     ]
    }
   ],
   "source": [
    "# Example -21 \n",
    "# Python Program to Create Global Variable\n",
    "\n",
    "x = \"global\"\n",
    "\n",
    "def foo():\n",
    "    print(\"x inside:\",x)\n",
    "\n",
    "foo()\n",
    "print(\"x outside:\",x)\n"
   ]
  },
  {
   "cell_type": "code",
   "execution_count": 6,
   "id": "ee6bfc8a",
   "metadata": {},
   "outputs": [
    {
     "ename": "UnboundLocalError",
     "evalue": "local variable 'a' referenced before assignment",
     "output_type": "error",
     "traceback": [
      "\u001b[1;31m---------------------------------------------------------------------------\u001b[0m",
      "\u001b[1;31mUnboundLocalError\u001b[0m                         Traceback (most recent call last)",
      "\u001b[1;32m~\\AppData\\Local\\Temp\\ipykernel_2980\\799169568.py\u001b[0m in \u001b[0;36m<module>\u001b[1;34m\u001b[0m\n\u001b[0;32m      5\u001b[0m     \u001b[0ma\u001b[0m \u001b[1;33m=\u001b[0m\u001b[0ma\u001b[0m\u001b[1;33m*\u001b[0m\u001b[1;36m5\u001b[0m\u001b[1;33m\u001b[0m\u001b[1;33m\u001b[0m\u001b[0m\n\u001b[0;32m      6\u001b[0m     \u001b[0mprint\u001b[0m\u001b[1;33m(\u001b[0m\u001b[0ma\u001b[0m\u001b[1;33m)\u001b[0m\u001b[1;33m\u001b[0m\u001b[1;33m\u001b[0m\u001b[0m\n\u001b[1;32m----> 7\u001b[1;33m \u001b[0mone\u001b[0m\u001b[1;33m(\u001b[0m\u001b[1;33m)\u001b[0m\u001b[1;33m\u001b[0m\u001b[1;33m\u001b[0m\u001b[0m\n\u001b[0m\u001b[0;32m      8\u001b[0m \u001b[1;33m\u001b[0m\u001b[0m\n\u001b[0;32m      9\u001b[0m \u001b[1;31m#Will get error because we defined in function : UnboundLocalError: local variable 'a' referenced before assignment\u001b[0m\u001b[1;33m\u001b[0m\u001b[1;33m\u001b[0m\u001b[0m\n",
      "\u001b[1;32m~\\AppData\\Local\\Temp\\ipykernel_2980\\799169568.py\u001b[0m in \u001b[0;36mone\u001b[1;34m()\u001b[0m\n\u001b[0;32m      3\u001b[0m \u001b[0ma\u001b[0m \u001b[1;33m=\u001b[0m \u001b[1;34m\"easy\"\u001b[0m\u001b[1;33m\u001b[0m\u001b[1;33m\u001b[0m\u001b[0m\n\u001b[0;32m      4\u001b[0m \u001b[1;32mdef\u001b[0m \u001b[0mone\u001b[0m\u001b[1;33m(\u001b[0m\u001b[1;33m)\u001b[0m\u001b[1;33m:\u001b[0m\u001b[1;33m\u001b[0m\u001b[1;33m\u001b[0m\u001b[0m\n\u001b[1;32m----> 5\u001b[1;33m     \u001b[0ma\u001b[0m \u001b[1;33m=\u001b[0m\u001b[0ma\u001b[0m\u001b[1;33m*\u001b[0m\u001b[1;36m5\u001b[0m\u001b[1;33m\u001b[0m\u001b[1;33m\u001b[0m\u001b[0m\n\u001b[0m\u001b[0;32m      6\u001b[0m     \u001b[0mprint\u001b[0m\u001b[1;33m(\u001b[0m\u001b[0ma\u001b[0m\u001b[1;33m)\u001b[0m\u001b[1;33m\u001b[0m\u001b[1;33m\u001b[0m\u001b[0m\n\u001b[0;32m      7\u001b[0m \u001b[0mone\u001b[0m\u001b[1;33m(\u001b[0m\u001b[1;33m)\u001b[0m\u001b[1;33m\u001b[0m\u001b[1;33m\u001b[0m\u001b[0m\n",
      "\u001b[1;31mUnboundLocalError\u001b[0m: local variable 'a' referenced before assignment"
     ]
    }
   ],
   "source": [
    "# Python Program to \n",
    "# Example -22\n",
    "a = \"easy\"\n",
    "def one():\n",
    "    a =a*5\n",
    "    print(a)\n",
    "one()\n",
    "\n",
    "#Will get error because we defined in function : UnboundLocalError: local variable 'a' referenced before assignment "
   ]
  },
  {
   "cell_type": "code",
   "execution_count": 7,
   "id": "99a6303b",
   "metadata": {},
   "outputs": [
    {
     "name": "stdout",
     "output_type": "stream",
     "text": [
      "Local Variable\n"
     ]
    }
   ],
   "source": [
    "# Python Program to Creat a Local Variable\n",
    "# Example -23\n",
    "\n",
    "def myFun():\n",
    "    a = \"Local Variable\"\n",
    "    print(a)\n",
    "\n",
    "myFun()\n",
    "\n"
   ]
  },
  {
   "cell_type": "code",
   "execution_count": 8,
   "id": "40d917f9",
   "metadata": {},
   "outputs": [
    {
     "name": "stdout",
     "output_type": "stream",
     "text": [
      "Global Variable Global Variable \n",
      "Local Variable Local Variable \n"
     ]
    }
   ],
   "source": [
    "# Python Program to Using GLobal and Local Variable s in the same code\n",
    "a = \"Global Variable \"\n",
    "def myFun():\n",
    "    global a\n",
    "    b = \"Local Variable \"\n",
    "    a = a * 2\n",
    "    b = b * 2\n",
    "    print(a)\n",
    "    print(b)\n",
    "myFun()"
   ]
  },
  {
   "cell_type": "code",
   "execution_count": 11,
   "id": "2f0047b0",
   "metadata": {},
   "outputs": [
    {
     "name": "stdout",
     "output_type": "stream",
     "text": [
      "Print Local Variable a = 20\n",
      "Print Global Variable a = 10\n"
     ]
    }
   ],
   "source": [
    "# Python Program to Gloabl Variable and Local Variable with same Name\n",
    "# Example -25\n",
    "a = 10 # Global\n",
    "\n",
    "def myfunone():\n",
    "    a = 20  # Local Fun\n",
    "    print(\"Print Local Variable a =\", a)\n",
    "    \n",
    "myfunone()\n",
    "print(\"Print Global Variable a =\" , a)\n"
   ]
  },
  {
   "cell_type": "code",
   "execution_count": 14,
   "id": "7b27a284",
   "metadata": {},
   "outputs": [
    {
     "name": "stdout",
     "output_type": "stream",
     "text": [
      "inner: nonlocal\n",
      "outer: nonlocal\n"
     ]
    }
   ],
   "source": [
    "# Python Program to Create NonLocal Variable\n",
    "# Example -26\n",
    "\n",
    "def outer():\n",
    "    a =\"Local\"\n",
    "    \n",
    "    def inner():\n",
    "        nonlocal a\n",
    "        a =\"nonlocal\"\n",
    "        print(\"inner:\",a)\n",
    "    inner()\n",
    "    print(\"outer:\",a)\n",
    "outer()"
   ]
  },
  {
   "cell_type": "code",
   "execution_count": 15,
   "id": "3425a62f",
   "metadata": {},
   "outputs": [
    {
     "name": "stdout",
     "output_type": "stream",
     "text": [
      "10\n"
     ]
    }
   ],
   "source": [
    "# Python Program to \n",
    "# Example -27\n",
    "c = 10  # global Variable\n",
    "\n",
    "def add():\n",
    "    print(c)\n",
    "    \n",
    "add()"
   ]
  },
  {
   "cell_type": "code",
   "execution_count": 20,
   "id": "e3b3f1e1",
   "metadata": {},
   "outputs": [
    {
     "ename": "UnboundLocalError",
     "evalue": "local variable 'a' referenced before assignment",
     "output_type": "error",
     "traceback": [
      "\u001b[1;31m---------------------------------------------------------------------------\u001b[0m",
      "\u001b[1;31mUnboundLocalError\u001b[0m                         Traceback (most recent call last)",
      "\u001b[1;32m~\\AppData\\Local\\Temp\\ipykernel_608\\331715936.py\u001b[0m in \u001b[0;36m<module>\u001b[1;34m\u001b[0m\n\u001b[0;32m      7\u001b[0m     \u001b[0ma\u001b[0m \u001b[1;33m=\u001b[0m \u001b[0ma\u001b[0m\u001b[1;33m+\u001b[0m\u001b[1;36m2\u001b[0m \u001b[1;31m# increment a by 2\u001b[0m\u001b[1;33m\u001b[0m\u001b[1;33m\u001b[0m\u001b[0m\n\u001b[0;32m      8\u001b[0m     \u001b[0mprint\u001b[0m\u001b[1;33m(\u001b[0m\u001b[0ma\u001b[0m\u001b[1;33m)\u001b[0m\u001b[1;33m\u001b[0m\u001b[1;33m\u001b[0m\u001b[0m\n\u001b[1;32m----> 9\u001b[1;33m \u001b[0madd\u001b[0m\u001b[1;33m(\u001b[0m\u001b[1;33m)\u001b[0m\u001b[1;33m\u001b[0m\u001b[1;33m\u001b[0m\u001b[0m\n\u001b[0m\u001b[0;32m     10\u001b[0m \u001b[1;31m## UnboundLocalError: local variable 'a' referenced before assignment\u001b[0m\u001b[1;33m\u001b[0m\u001b[1;33m\u001b[0m\u001b[0m\n",
      "\u001b[1;32m~\\AppData\\Local\\Temp\\ipykernel_608\\331715936.py\u001b[0m in \u001b[0;36madd\u001b[1;34m()\u001b[0m\n\u001b[0;32m      5\u001b[0m \u001b[1;33m\u001b[0m\u001b[0m\n\u001b[0;32m      6\u001b[0m \u001b[1;32mdef\u001b[0m \u001b[0madd\u001b[0m\u001b[1;33m(\u001b[0m\u001b[1;33m)\u001b[0m\u001b[1;33m:\u001b[0m\u001b[1;33m\u001b[0m\u001b[1;33m\u001b[0m\u001b[0m\n\u001b[1;32m----> 7\u001b[1;33m     \u001b[0ma\u001b[0m \u001b[1;33m=\u001b[0m \u001b[0ma\u001b[0m\u001b[1;33m+\u001b[0m\u001b[1;36m2\u001b[0m \u001b[1;31m# increment a by 2\u001b[0m\u001b[1;33m\u001b[0m\u001b[1;33m\u001b[0m\u001b[0m\n\u001b[0m\u001b[0;32m      8\u001b[0m     \u001b[0mprint\u001b[0m\u001b[1;33m(\u001b[0m\u001b[0ma\u001b[0m\u001b[1;33m)\u001b[0m\u001b[1;33m\u001b[0m\u001b[1;33m\u001b[0m\u001b[0m\n\u001b[0;32m      9\u001b[0m \u001b[0madd\u001b[0m\u001b[1;33m(\u001b[0m\u001b[1;33m)\u001b[0m\u001b[1;33m\u001b[0m\u001b[1;33m\u001b[0m\u001b[0m\n",
      "\u001b[1;31mUnboundLocalError\u001b[0m: local variable 'a' referenced before assignment"
     ]
    }
   ],
   "source": [
    "# Python Program to \n",
    "# Example -28\n",
    "\n",
    "a = 10  # global Variable\n",
    "\n",
    "def add():\n",
    "    a = a+2 # increment a by 2\n",
    "    print(a)\n",
    "add()\n",
    "## UnboundLocalError: local variable 'a' referenced before assignment"
   ]
  },
  {
   "cell_type": "code",
   "execution_count": 24,
   "id": "92ba83b3",
   "metadata": {},
   "outputs": [
    {
     "name": "stdout",
     "output_type": "stream",
     "text": [
      "inside add(): 2\n",
      "In Main: 2\n"
     ]
    }
   ],
   "source": [
    "# Python Program to  Changing Global Variable From Inside a Function using Global\n",
    "# Example -29\n",
    "\n",
    "a = 0 # global Variable\n",
    "\n",
    "def add():\n",
    "    global a\n",
    "    a = a +2\n",
    "    print(\"inside add():\",a)\n",
    "add()\n",
    "print(\"In Main:\",a)"
   ]
  },
  {
   "cell_type": "code",
   "execution_count": 26,
   "id": "2351db87",
   "metadata": {},
   "outputs": [
    {
     "name": "stdout",
     "output_type": "stream",
     "text": [
      "Before Calling B: 10\n",
      "Calling B Now\n",
      "After Calling B: 10\n",
      "a in Main: 20\n"
     ]
    }
   ],
   "source": [
    "# Python Program to  using a Global Variable in Nested Function \n",
    "# Example -30\n",
    "\n",
    "def A():\n",
    "    a =10 \n",
    "    \n",
    "    def B():\n",
    "        global a \n",
    "        a =20\n",
    "        \n",
    "    print(\"Before Calling B:\",a)\n",
    "    print(\"Calling B Now\")\n",
    "    B()\n",
    "    print(\"After Calling B:\",a)\n",
    "    \n",
    "A()\n",
    "print(\"a in Main:\",a)"
   ]
  },
  {
   "cell_type": "code",
   "execution_count": 2,
   "id": "cd7ea582",
   "metadata": {},
   "outputs": [
    {
     "name": "stdout",
     "output_type": "stream",
     "text": [
      "a inside: Global Variable\n",
      "a ouside: Global Variable\n"
     ]
    }
   ],
   "source": [
    "# Python Program to  Create a Global Variable \n",
    "# Example -31\n",
    "a =\"Global Variable\"\n",
    "\n",
    "def A():\n",
    "    print(\"a inside:\",a)\n",
    "    \n",
    "A()\n",
    "print(\"a ouside:\",a)"
   ]
  },
  {
   "cell_type": "code",
   "execution_count": 6,
   "id": "bdb1c571",
   "metadata": {},
   "outputs": [
    {
     "ename": "NameError",
     "evalue": "name 'b' is not defined",
     "output_type": "error",
     "traceback": [
      "\u001b[1;31m---------------------------------------------------------------------------\u001b[0m",
      "\u001b[1;31mNameError\u001b[0m                                 Traceback (most recent call last)",
      "\u001b[1;32m~\\AppData\\Local\\Temp\\ipykernel_13080\\2464093309.py\u001b[0m in \u001b[0;36m<module>\u001b[1;34m\u001b[0m\n\u001b[0;32m      5\u001b[0m     \u001b[0mb\u001b[0m \u001b[1;33m=\u001b[0m\u001b[1;34m\"Local\"\u001b[0m\u001b[1;33m\u001b[0m\u001b[1;33m\u001b[0m\u001b[0m\n\u001b[0;32m      6\u001b[0m \u001b[0mA\u001b[0m\u001b[1;33m(\u001b[0m\u001b[1;33m)\u001b[0m\u001b[1;33m\u001b[0m\u001b[1;33m\u001b[0m\u001b[0m\n\u001b[1;32m----> 7\u001b[1;33m \u001b[0mprint\u001b[0m\u001b[1;33m(\u001b[0m\u001b[0mb\u001b[0m\u001b[1;33m)\u001b[0m\u001b[1;33m\u001b[0m\u001b[1;33m\u001b[0m\u001b[0m\n\u001b[0m\u001b[0;32m      8\u001b[0m \u001b[1;33m\u001b[0m\u001b[0m\n\u001b[0;32m      9\u001b[0m \u001b[1;31m# Get the Error : NameError: name 'b' is not defined\u001b[0m\u001b[1;33m\u001b[0m\u001b[1;33m\u001b[0m\u001b[0m\n",
      "\u001b[1;31mNameError\u001b[0m: name 'b' is not defined"
     ]
    }
   ],
   "source": [
    "# Python Program to Accessing Local Variable outside the Scope\n",
    "# Example -32\n",
    "\n",
    "def A():\n",
    "    b =\"Local\"\n",
    "A()\n",
    "print(b)\n",
    "\n",
    "# Get the Error : NameError: name 'b' is not defined"
   ]
  },
  {
   "cell_type": "code",
   "execution_count": 7,
   "id": "0310edd5",
   "metadata": {},
   "outputs": [
    {
     "name": "stdout",
     "output_type": "stream",
     "text": [
      "Local\n"
     ]
    }
   ],
   "source": [
    "# Python Program to Create a Local Variable\n",
    "# Example -33\n",
    "def A():\n",
    "    a = \"Local\"\n",
    "    print(a)\n",
    "A()\n"
   ]
  },
  {
   "cell_type": "code",
   "execution_count": 9,
   "id": "07b8c2cc",
   "metadata": {},
   "outputs": [
    {
     "name": "stdout",
     "output_type": "stream",
     "text": [
      "Global VariableGlobal Variable\n",
      "Local Variable\n"
     ]
    }
   ],
   "source": [
    "# Python Program to  Using Gloabl and Local Variables in the Same Code\n",
    "# Example -34\n",
    "\n",
    "a = \"Global Variable\"\n",
    "\n",
    "def A():\n",
    "    global a\n",
    "    b = \"Local Variable\"\n",
    "    a = a*2\n",
    "    print(a)\n",
    "    print(b)\n",
    "A()"
   ]
  },
  {
   "cell_type": "code",
   "execution_count": 11,
   "id": "0073f298",
   "metadata": {},
   "outputs": [
    {
     "name": "stdout",
     "output_type": "stream",
     "text": [
      "25\n",
      "15\n"
     ]
    }
   ],
   "source": [
    "# Python Program to Global Variable and Local Variable with same Name\n",
    "# Example -35\n",
    "\n",
    "a =15\n",
    "\n",
    "def A():\n",
    "    a =25\n",
    "    print(a)\n",
    "    \n",
    "A()\n",
    "print(a)"
   ]
  },
  {
   "cell_type": "code",
   "execution_count": 13,
   "id": "c908f262",
   "metadata": {},
   "outputs": [
    {
     "name": "stdout",
     "output_type": "stream",
     "text": [
      "Python Word\n"
     ]
    }
   ],
   "source": [
    "# Python Program to \n",
    "# Example -36\n",
    "\n",
    "def A():\n",
    "    #Local Variable\n",
    "    a =\"Python Word\"\n",
    "    print(a)\n",
    "    \n",
    "A()\n",
    "    "
   ]
  },
  {
   "cell_type": "code",
   "execution_count": 17,
   "id": "a50b02b2",
   "metadata": {},
   "outputs": [
    {
     "name": "stdout",
     "output_type": "stream",
     "text": [
      "inside Function Python World\n"
     ]
    },
    {
     "ename": "NameError",
     "evalue": "name 'c' is not defined",
     "output_type": "error",
     "traceback": [
      "\u001b[1;31m---------------------------------------------------------------------------\u001b[0m",
      "\u001b[1;31mNameError\u001b[0m                                 Traceback (most recent call last)",
      "\u001b[1;32m~\\AppData\\Local\\Temp\\ipykernel_13080\\1346572482.py\u001b[0m in \u001b[0;36m<module>\u001b[1;34m\u001b[0m\n\u001b[0;32m      8\u001b[0m \u001b[1;33m\u001b[0m\u001b[0m\n\u001b[0;32m      9\u001b[0m \u001b[0mA\u001b[0m\u001b[1;33m(\u001b[0m\u001b[1;33m)\u001b[0m\u001b[1;33m\u001b[0m\u001b[1;33m\u001b[0m\u001b[0m\n\u001b[1;32m---> 10\u001b[1;33m \u001b[0mprint\u001b[0m\u001b[1;33m(\u001b[0m\u001b[0mc\u001b[0m\u001b[1;33m)\u001b[0m\u001b[1;33m\u001b[0m\u001b[1;33m\u001b[0m\u001b[0m\n\u001b[0m",
      "\u001b[1;31mNameError\u001b[0m: name 'c' is not defined"
     ]
    }
   ],
   "source": [
    "# Python Program to get the Error\n",
    "# Example -37\n",
    "\n",
    "def A():\n",
    "    #local Variable\n",
    "    c =\"Python World\"\n",
    "    print(\"inside Function\",c)\n",
    "\n",
    "A()\n",
    "print(c)"
   ]
  },
  {
   "cell_type": "code",
   "execution_count": 22,
   "id": "6be300b1",
   "metadata": {},
   "outputs": [
    {
     "name": "stdout",
     "output_type": "stream",
     "text": [
      "Inside Function : Python World\n",
      "Outside Function: Python World\n"
     ]
    }
   ],
   "source": [
    "# Python Program to Global Variable\n",
    "# Example -38\n",
    "\n",
    "def A():\n",
    "    print(\"Inside Function :\",a)\n",
    "    \n",
    "a = \"Python World\"\n",
    "A()\n",
    "print(\"Outside Function:\",a)"
   ]
  },
  {
   "cell_type": "code",
   "execution_count": 23,
   "id": "ee5c1bfe",
   "metadata": {},
   "outputs": [
    {
     "name": "stdout",
     "output_type": "stream",
     "text": [
      "Hello\n",
      "Python World\n"
     ]
    }
   ],
   "source": [
    "# Python Program to \n",
    "# Example -39\n",
    "\n",
    "def A():\n",
    "    a =\"Hello\"\n",
    "    print(a)\n",
    "a= \"Python World\"  # global Scope\n",
    "A()\n",
    "print(a)"
   ]
  },
  {
   "cell_type": "code",
   "execution_count": 25,
   "id": "520f8a07",
   "metadata": {},
   "outputs": [
    {
     "ename": "SyntaxError",
     "evalue": "invalid syntax (2935796721.py, line 5)",
     "output_type": "error",
     "traceback": [
      "\u001b[1;36m  File \u001b[1;32m\"C:\\Users\\Digital Next\\AppData\\Local\\Temp\\ipykernel_13080\\2935796721.py\"\u001b[1;36m, line \u001b[1;32m5\u001b[0m\n\u001b[1;33m    a + =10\u001b[0m\n\u001b[1;37m        ^\u001b[0m\n\u001b[1;31mSyntaxError\u001b[0m\u001b[1;31m:\u001b[0m invalid syntax\n"
     ]
    }
   ],
   "source": [
    "# Python Program to  WIll Get the Error \n",
    "# Example -40\n",
    "\n",
    "def A():\n",
    "    a + =10\n",
    "    print(a)\n",
    "    \n",
    "a = \"Python world\"  # Global Scope\n",
    "A()"
   ]
  },
  {
   "cell_type": "code",
   "execution_count": 29,
   "id": "cf081cc3",
   "metadata": {},
   "outputs": [
    {
     "name": "stdout",
     "output_type": "stream",
     "text": [
      "PYthon WorldHI\n",
      "I Love Python\n",
      "I Love Python\n"
     ]
    }
   ],
   "source": [
    "# Python Program to  Using Global Keyword\n",
    "# Example -41\n",
    "\n",
    "def A():\n",
    "    global a\n",
    "    a +='HI'\n",
    "    print(a)\n",
    "    a = \"I Love Python\"\n",
    "    print(a)\n",
    "\n",
    "a =\"PYthon World\"  # Global Scope\n",
    "A()\n",
    "print(a)\n",
    "\n"
   ]
  },
  {
   "cell_type": "code",
   "execution_count": 35,
   "id": "e7b28748",
   "metadata": {},
   "outputs": [
    {
     "name": "stdout",
     "output_type": "stream",
     "text": [
      "10\n",
      "Function A: 10\n",
      "Function B: 20\n",
      "10\n",
      "30\n",
      "30\n"
     ]
    }
   ],
   "source": [
    "# Python Program to  Using Global And Local Variables\n",
    "# Example -42\n",
    "\n",
    "a = 10\n",
    "\n",
    "def A():\n",
    "    print(\"Function A:\",a)\n",
    "    \n",
    "def B():\n",
    "    a = 20\n",
    "    print(\"Function B:\",a)\n",
    "def C():\n",
    "    global a\n",
    "    a = 30\n",
    "    print(a)\n",
    "\n",
    "print(a) # global Scope\n",
    "A()\n",
    "B()\n",
    "print(a)\n",
    "C()\n",
    "print(a)"
   ]
  },
  {
   "cell_type": "code",
   "execution_count": 37,
   "id": "228c950f",
   "metadata": {},
   "outputs": [
    {
     "name": "stdout",
     "output_type": "stream",
     "text": [
      "30\n"
     ]
    }
   ],
   "source": [
    "# Python Program to  showing no need to use gloab keyyword for accessing a global value\n",
    "# Example -43\n",
    "\n",
    "# Global Variable\n",
    "d = 20\n",
    "v = 10\n",
    "\n",
    "#function to perform addition\n",
    "def add():\n",
    "    n = d + v\n",
    "    print(n)\n",
    "#Calling a function\n",
    "add()\n"
   ]
  },
  {
   "cell_type": "code",
   "execution_count": 38,
   "id": "f290f8e3",
   "metadata": {},
   "outputs": [
    {
     "ename": "UnboundLocalError",
     "evalue": "local variable 'n' referenced before assignment",
     "output_type": "error",
     "traceback": [
      "\u001b[1;31m---------------------------------------------------------------------------\u001b[0m",
      "\u001b[1;31mUnboundLocalError\u001b[0m                         Traceback (most recent call last)",
      "\u001b[1;32m~\\AppData\\Local\\Temp\\ipykernel_13080\\1798543240.py\u001b[0m in \u001b[0;36m<module>\u001b[1;34m\u001b[0m\n\u001b[0;32m     12\u001b[0m     \u001b[0mn\u001b[0m \u001b[1;33m=\u001b[0m \u001b[0mn\u001b[0m\u001b[1;33m+\u001b[0m\u001b[1;36m5\u001b[0m\u001b[1;33m\u001b[0m\u001b[1;33m\u001b[0m\u001b[0m\n\u001b[0;32m     13\u001b[0m     \u001b[0mprint\u001b[0m\u001b[1;33m(\u001b[0m\u001b[0mn\u001b[0m\u001b[1;33m)\u001b[0m\u001b[1;33m\u001b[0m\u001b[1;33m\u001b[0m\u001b[0m\n\u001b[1;32m---> 14\u001b[1;33m \u001b[0mchange\u001b[0m\u001b[1;33m(\u001b[0m\u001b[1;33m)\u001b[0m\u001b[1;33m\u001b[0m\u001b[1;33m\u001b[0m\u001b[0m\n\u001b[0m\u001b[0;32m     15\u001b[0m \u001b[1;33m\u001b[0m\u001b[0m\n",
      "\u001b[1;32m~\\AppData\\Local\\Temp\\ipykernel_13080\\1798543240.py\u001b[0m in \u001b[0;36mchange\u001b[1;34m()\u001b[0m\n\u001b[0;32m     10\u001b[0m \u001b[1;33m\u001b[0m\u001b[0m\n\u001b[0;32m     11\u001b[0m     \u001b[1;31m#increment value of n by 5\u001b[0m\u001b[1;33m\u001b[0m\u001b[1;33m\u001b[0m\u001b[0m\n\u001b[1;32m---> 12\u001b[1;33m     \u001b[0mn\u001b[0m \u001b[1;33m=\u001b[0m \u001b[0mn\u001b[0m\u001b[1;33m+\u001b[0m\u001b[1;36m5\u001b[0m\u001b[1;33m\u001b[0m\u001b[1;33m\u001b[0m\u001b[0m\n\u001b[0m\u001b[0;32m     13\u001b[0m     \u001b[0mprint\u001b[0m\u001b[1;33m(\u001b[0m\u001b[0mn\u001b[0m\u001b[1;33m)\u001b[0m\u001b[1;33m\u001b[0m\u001b[1;33m\u001b[0m\u001b[0m\n\u001b[0;32m     14\u001b[0m \u001b[0mchange\u001b[0m\u001b[1;33m(\u001b[0m\u001b[1;33m)\u001b[0m\u001b[1;33m\u001b[0m\u001b[1;33m\u001b[0m\u001b[0m\n",
      "\u001b[1;31mUnboundLocalError\u001b[0m: local variable 'n' referenced before assignment"
     ]
    }
   ],
   "source": [
    "# Python Program to Without Global Keyword  WILL GET ERROR AS NOT DEFINED\n",
    "# Example -44\n",
    "\n",
    "# a Global Value without using global keyword\n",
    "\n",
    "n = 15\n",
    "\n",
    "# function to change a gloabl value\n",
    "def change():\n",
    "    \n",
    "    #increment value of n by 5\n",
    "    n = n+5\n",
    "    print(n)\n",
    "change()\n",
    "\n"
   ]
  },
  {
   "cell_type": "code",
   "execution_count": 39,
   "id": "5da440ef",
   "metadata": {},
   "outputs": [
    {
     "name": "stdout",
     "output_type": "stream",
     "text": [
      "inside Function: 15\n",
      "outside Function: 15\n"
     ]
    }
   ],
   "source": [
    "# Python Program to  Global Keyword\n",
    "# Example -45\n",
    "\n",
    "m = 10\n",
    "def M():\n",
    "    global m\n",
    "    m = m +5\n",
    "    print(\"inside Function:\",m)\n",
    "    \n",
    "M()\n",
    "print(\"outside Function:\",m)\n",
    "    \n"
   ]
  },
  {
   "cell_type": "code",
   "execution_count": 40,
   "id": "7c50f2da",
   "metadata": {},
   "outputs": [
    {
     "name": "stdout",
     "output_type": "stream",
     "text": [
      "Before Change: 10\n",
      "Making change\n",
      "After Making Change: 10\n",
      "value of x: 20\n"
     ]
    }
   ],
   "source": [
    "# Python Program to  Showing a use of Global in Nested function\n",
    "# Example -46\n",
    "\n",
    "def X():\n",
    "    x = 10\n",
    "    def H():\n",
    "        global x\n",
    "        x = 20\n",
    "    print(\"Before Change:\",x)\n",
    "    print(\"Making change\")\n",
    "    H()\n",
    "    print(\"After Making Change:\",x)\n",
    "    \n",
    "X()\n",
    "print(\"value of x:\",x)"
   ]
  },
  {
   "cell_type": "code",
   "execution_count": 42,
   "id": "95515af5",
   "metadata": {},
   "outputs": [
    {
     "name": "stdout",
     "output_type": "stream",
     "text": [
      "70\n",
      "30\n"
     ]
    }
   ],
   "source": [
    "# Python Program to \n",
    "# Example -47\n",
    "\n",
    "g = 50  # local variable\n",
    "h = 20\n",
    "\n",
    "def sum():\n",
    "    b = g + h      #using global variable\n",
    "    print(b)\n",
    "\n",
    "def sub():\n",
    "    d = g- h\n",
    "    print(d)\n",
    "#function call\n",
    "sum()\n",
    "sub()\n"
   ]
  },
  {
   "cell_type": "code",
   "execution_count": 43,
   "id": "06d2ee20",
   "metadata": {},
   "outputs": [
    {
     "name": "stdout",
     "output_type": "stream",
     "text": [
      "Python World\n",
      "Python is Easy\n"
     ]
    }
   ],
   "source": [
    "# Python Program to \n",
    "# Example -48\n",
    "\n",
    "def N():\n",
    "    q = \"Python World\"\n",
    "    print(q)\n",
    "N()\n",
    "q =\"Python is Easy\"\n",
    "print(q)\n"
   ]
  },
  {
   "cell_type": "code",
   "execution_count": 44,
   "id": "9b402f39",
   "metadata": {},
   "outputs": [
    {
     "name": "stdout",
     "output_type": "stream",
     "text": [
      "inside Function: 20\n",
      "Outside Function : 20\n"
     ]
    }
   ],
   "source": [
    "# Python Program to  with Global Keyword\n",
    "# Example -49\n",
    "\n",
    "c  = 10 \n",
    "\n",
    "def Y():\n",
    "    global c\n",
    "    c = c*2\n",
    "    print(\"inside Function:\",c)\n",
    "    \n",
    "Y()\n",
    "print(\"Outside Function :\",c)\n",
    "\n",
    "\n",
    "\n"
   ]
  },
  {
   "cell_type": "code",
   "execution_count": 48,
   "id": "a3057590",
   "metadata": {},
   "outputs": [
    {
     "name": "stdout",
     "output_type": "stream",
     "text": [
      "To Learn AI, we need Python programming in pune city\n",
      "To learn ML, we need Python programming in pune City\n",
      "To Learn DL, we need Python Programming in pune city\n"
     ]
    }
   ],
   "source": [
    "# Python Program to \n",
    "# Example -50\n",
    "city = \"pune\"      # global variable\n",
    "\n",
    "def Y():\n",
    "    y = \"AI\"   # local Variable\n",
    "    print(\"To Learn {}, we need {} programming in {} city\".format(y,cl,city))\n",
    "    \n",
    "def U():\n",
    "    u = \"ML\"   # local Variable\n",
    "    print(\"To learn {}, we need {} programming in {} City\".format(u,cl,city))\n",
    "    \n",
    "def I():\n",
    "    i = \"DL\"   # Local Variable\n",
    "    print(\"To Learn {}, we need {} Programming in {} city\".format(i,cl,city))\n",
    "    \n",
    "cl = \"Python\"  # Global Variable\n",
    "Y()\n",
    "U()\n",
    "I()"
   ]
  },
  {
   "cell_type": "code",
   "execution_count": 49,
   "id": "ff7bc80a",
   "metadata": {},
   "outputs": [
    {
     "name": "stdout",
     "output_type": "stream",
     "text": [
      "Val of r in main program = 10\n",
      "10\n",
      "20\n",
      "val of r in main program after update1() = 20\n",
      "200\n",
      "val of r in main program after update2()=200\n"
     ]
    }
   ],
   "source": [
    "# Python Program to \n",
    "# Example -51\n",
    "\n",
    "r = 10  # global Variable\n",
    "\n",
    "\n",
    "def update1():\n",
    "    global r\n",
    "    print(r)\n",
    "    r = r + 10\n",
    "    print(r)\n",
    "    \n",
    "def update2():\n",
    "    global r\n",
    "    r = r * 10\n",
    "    print(r)\n",
    "    \n",
    "# Main Program\n",
    "print(\"Val of r in main program = {}\".format(r))   # 10\n",
    "update1()\n",
    "\n",
    "print(\"val of r in main program after update1() = {}\".format(r))   # 20\n",
    "update2()\n",
    "\n",
    "print(\"val of r in main program after update2()={}\".format(r))  # 200"
   ]
  },
  {
   "cell_type": "code",
   "execution_count": 1,
   "id": "117c5094",
   "metadata": {},
   "outputs": [
    {
     "name": "stdout",
     "output_type": "stream",
     "text": [
      "10\n",
      "20\n",
      "20\n",
      "40\n",
      "val of a--global var after modification in main =20\n",
      "val of b--global var after modificaiton in main =40\n"
     ]
    }
   ],
   "source": [
    "# Python Program to \n",
    "# Example -52\n",
    "a = 10\n",
    "b = 20\n",
    "\n",
    "def modify1():\n",
    "    global a,b\n",
    "    print(a)  # 10\n",
    "    print(b)  # 20\n",
    "    a = a + 10\n",
    "    b = b + 20\n",
    "    print(a)\n",
    "    print(b)\n",
    "    \n",
    "#main Program \n",
    "modify1()\n",
    "print(\"val of a--global var after modification in main ={}\".format(a))  # 20\n",
    "print(\"val of b--global var after modificaiton in main ={}\".format(b))  # 40"
   ]
  },
  {
   "cell_type": "code",
   "execution_count": 2,
   "id": "d59de3db",
   "metadata": {},
   "outputs": [
    {
     "name": "stdout",
     "output_type": "stream",
     "text": [
      "val of a (local Var)=50\n",
      "val of b (Local var)=100\n",
      "Val of a(global Var)=10\n",
      "val of b (gloabl var)=20\n",
      "--------------------------------------------------\n",
      "sum =280\n",
      "--------------------------------------------------\n"
     ]
    }
   ],
   "source": [
    "# Python Program to \n",
    "# Example -53\n",
    "a = 10 \n",
    "b = 20\n",
    "c = 30\n",
    "d = 40  # here a,b,c,d are the Global Variable\n",
    "\n",
    "def cal():\n",
    "    global c,d\n",
    "    c = c +10\n",
    "    d = d + 20\n",
    "    a = 50\n",
    "    b = 100    # here a, b are local variable\n",
    "    print(\"val of a (local Var)={}\".format(a))\n",
    "    print(\"val of b (Local var)={}\".format(b))\n",
    "    print(\"Val of a(global Var)={}\".format(globals()['a']))\n",
    "    print(\"val of b (gloabl var)={}\".format(globals()['b']))\n",
    "    print(\"-\"*50)\n",
    "    res = a +b+c+d+globals().get('a') + globals()['b']\n",
    "    print(\"sum ={}\".format(res))\n",
    "    print(\"-\" *50)\n",
    "    \n",
    "#main program\n",
    "cal()\n"
   ]
  },
  {
   "cell_type": "code",
   "execution_count": 4,
   "id": "e56499ec",
   "metadata": {},
   "outputs": [
    {
     "name": "stdout",
     "output_type": "stream",
     "text": [
      "__name__----__main__\n",
      "-----------------\n",
      "val of q= 10\n",
      "val of w = 20\n",
      "val of e= 30\n",
      "val of r = 60\n",
      "sym=100\n",
      "__doc__----Automatically created module for IPython interactive environment\n",
      "-----------------\n",
      "val of q= 10\n",
      "val of w = 20\n",
      "val of e= 30\n",
      "val of r = 60\n",
      "sym=100\n",
      "__package__----None\n",
      "-----------------\n",
      "val of q= 10\n",
      "val of w = 20\n",
      "val of e= 30\n",
      "val of r = 60\n",
      "sym=100\n",
      "__loader__----None\n",
      "-----------------\n",
      "val of q= 10\n",
      "val of w = 20\n",
      "val of e= 30\n",
      "val of r = 60\n",
      "sym=100\n",
      "__spec__----None\n",
      "-----------------\n",
      "val of q= 10\n",
      "val of w = 20\n",
      "val of e= 30\n",
      "val of r = 60\n",
      "sym=100\n",
      "__builtin__----<module 'builtins' (built-in)>\n",
      "-----------------\n",
      "val of q= 10\n",
      "val of w = 20\n",
      "val of e= 30\n",
      "val of r = 60\n",
      "sym=100\n",
      "__builtins__----<module 'builtins' (built-in)>\n",
      "-----------------\n",
      "val of q= 10\n",
      "val of w = 20\n",
      "val of e= 30\n",
      "val of r = 60\n",
      "sym=100\n",
      "_ih----['', '# Python Program to \\n# Example -52\\na = 10\\nb = 20\\n\\ndef modify1():\\n    global a,b\\n    print(a)  # 10\\n    print(b)  # 20\\n    a = a + 10\\n    b = b + 20\\n    print(a)\\n    print(b)\\n    \\n#main Program \\nmodify1()\\nprint(\"val of a--global var after modification in main ={}\".format(a))  # 20\\nprint(\"val of b--global var after modificaiton in main ={}\".format(b))  # 40', '# Python Program to \\n# Example -53\\na = 10 \\nb = 20\\nc = 30\\nd = 40  # here a,b,c,d are the Global Variable\\n\\ndef cal():\\n    global c,d\\n    c = c +10\\n    d = d + 20\\n    a = 50\\n    b = 100    # here a, b are local variable\\n    print(\"val of a (local Var)={}\".format(a))\\n    print(\"val of b (Local var)={}\".format(b))\\n    print(\"Val of a(global Var)={}\".format(globals()[\\'a\\']))\\n    print(\"val of b (gloabl var)={}\".format(globals()[\\'b\\']))\\n    print(\"-\"*50)\\n    res = a +b+c+d+globals().get(\\'a\\') + globals()[\\'b\\']\\n    print(\"sum ={}\".format(res))\\n    print(\"-\" *50)\\n    \\n#main program\\ncal()', '# Python Program to \\n# Example -54\\n\\nq = 10\\nw = 20\\ne = 30\\nr = 40  # q,w,e,r are global variables\\n\\ndef calc():\\n    US = globals()\\n    for k, v in US.items():\\n        print(\"{}----{}\".format(k,v))\\n        print(\"-----------------\")\\n        print(\"val of q=\",US[\\'q\\'])\\n        print(\"val of w =\",US.get(\\'w\\'))\\n        print(\"val of e=\",global()[\\'e\\'])\\n        print(\"val of r =\",globals()[\\'d\\'])\\n        print(\"sym={}\".format(globals()[\\'q\\']+globals()[\\'w\\']+globals()[\\'e\\']+globals()[\\'r\\']))\\n\\n# Main Program\\ncalc()\\n                             ', '# Python Program to \\n# Example -54\\n\\nq = 10\\nw = 20\\ne = 30\\nr = 40  # q,w,e,r are global variables\\n\\ndef calc():\\n    US = globals()\\n    for k, v in US.items():\\n        print(\"{}----{}\".format(k,v))\\n        print(\"-----------------\")\\n        print(\"val of q=\",US[\\'q\\'])\\n        print(\"val of w =\",US.get(\\'w\\'))\\n        print(\"val of e=\",globals()[\\'e\\'])\\n        print(\"val of r =\",globals()[\\'d\\'])\\n        print(\"sym={}\".format(globals()[\\'q\\']+globals()[\\'w\\']+globals()[\\'e\\']+globals()[\\'r\\']))\\n\\n# Main Program\\ncalc()\\n                             ']\n",
      "-----------------\n",
      "val of q= 10\n",
      "val of w = 20\n",
      "val of e= 30\n",
      "val of r = 60\n",
      "sym=100\n",
      "_oh----{}\n",
      "-----------------\n",
      "val of q= 10\n",
      "val of w = 20\n",
      "val of e= 30\n",
      "val of r = 60\n",
      "sym=100\n",
      "_dh----['C:\\\\Users\\\\Digital Next\\\\Documents\\\\Data Science\\\\Python\\\\Python Program_mob app']\n",
      "-----------------\n",
      "val of q= 10\n",
      "val of w = 20\n",
      "val of e= 30\n",
      "val of r = 60\n",
      "sym=100\n",
      "In----['', '# Python Program to \\n# Example -52\\na = 10\\nb = 20\\n\\ndef modify1():\\n    global a,b\\n    print(a)  # 10\\n    print(b)  # 20\\n    a = a + 10\\n    b = b + 20\\n    print(a)\\n    print(b)\\n    \\n#main Program \\nmodify1()\\nprint(\"val of a--global var after modification in main ={}\".format(a))  # 20\\nprint(\"val of b--global var after modificaiton in main ={}\".format(b))  # 40', '# Python Program to \\n# Example -53\\na = 10 \\nb = 20\\nc = 30\\nd = 40  # here a,b,c,d are the Global Variable\\n\\ndef cal():\\n    global c,d\\n    c = c +10\\n    d = d + 20\\n    a = 50\\n    b = 100    # here a, b are local variable\\n    print(\"val of a (local Var)={}\".format(a))\\n    print(\"val of b (Local var)={}\".format(b))\\n    print(\"Val of a(global Var)={}\".format(globals()[\\'a\\']))\\n    print(\"val of b (gloabl var)={}\".format(globals()[\\'b\\']))\\n    print(\"-\"*50)\\n    res = a +b+c+d+globals().get(\\'a\\') + globals()[\\'b\\']\\n    print(\"sum ={}\".format(res))\\n    print(\"-\" *50)\\n    \\n#main program\\ncal()', '# Python Program to \\n# Example -54\\n\\nq = 10\\nw = 20\\ne = 30\\nr = 40  # q,w,e,r are global variables\\n\\ndef calc():\\n    US = globals()\\n    for k, v in US.items():\\n        print(\"{}----{}\".format(k,v))\\n        print(\"-----------------\")\\n        print(\"val of q=\",US[\\'q\\'])\\n        print(\"val of w =\",US.get(\\'w\\'))\\n        print(\"val of e=\",global()[\\'e\\'])\\n        print(\"val of r =\",globals()[\\'d\\'])\\n        print(\"sym={}\".format(globals()[\\'q\\']+globals()[\\'w\\']+globals()[\\'e\\']+globals()[\\'r\\']))\\n\\n# Main Program\\ncalc()\\n                             ', '# Python Program to \\n# Example -54\\n\\nq = 10\\nw = 20\\ne = 30\\nr = 40  # q,w,e,r are global variables\\n\\ndef calc():\\n    US = globals()\\n    for k, v in US.items():\\n        print(\"{}----{}\".format(k,v))\\n        print(\"-----------------\")\\n        print(\"val of q=\",US[\\'q\\'])\\n        print(\"val of w =\",US.get(\\'w\\'))\\n        print(\"val of e=\",globals()[\\'e\\'])\\n        print(\"val of r =\",globals()[\\'d\\'])\\n        print(\"sym={}\".format(globals()[\\'q\\']+globals()[\\'w\\']+globals()[\\'e\\']+globals()[\\'r\\']))\\n\\n# Main Program\\ncalc()\\n                             ']\n",
      "-----------------\n",
      "val of q= 10\n",
      "val of w = 20\n",
      "val of e= 30\n",
      "val of r = 60\n",
      "sym=100\n",
      "Out----{}\n",
      "-----------------\n",
      "val of q= 10\n",
      "val of w = 20\n",
      "val of e= 30\n",
      "val of r = 60\n",
      "sym=100\n",
      "get_ipython----<bound method InteractiveShell.get_ipython of <ipykernel.zmqshell.ZMQInteractiveShell object at 0x00000181062606D0>>\n",
      "-----------------\n",
      "val of q= 10\n",
      "val of w = 20\n",
      "val of e= 30\n",
      "val of r = 60\n",
      "sym=100\n",
      "exit----<IPython.core.autocall.ZMQExitAutocall object at 0x00000181062A03D0>\n",
      "-----------------\n",
      "val of q= 10\n",
      "val of w = 20\n",
      "val of e= 30\n",
      "val of r = 60\n",
      "sym=100\n",
      "quit----<IPython.core.autocall.ZMQExitAutocall object at 0x00000181062A03D0>\n",
      "-----------------\n",
      "val of q= 10\n",
      "val of w = 20\n",
      "val of e= 30\n",
      "val of r = 60\n",
      "sym=100\n",
      "_----\n",
      "-----------------\n",
      "val of q= 10\n",
      "val of w = 20\n",
      "val of e= 30\n",
      "val of r = 60\n",
      "sym=100\n",
      "__----\n",
      "-----------------\n",
      "val of q= 10\n",
      "val of w = 20\n",
      "val of e= 30\n",
      "val of r = 60\n",
      "sym=100\n",
      "___----\n",
      "-----------------\n",
      "val of q= 10\n",
      "val of w = 20\n",
      "val of e= 30\n",
      "val of r = 60\n",
      "sym=100\n",
      "_i----# Python Program to \n",
      "# Example -54\n",
      "\n",
      "q = 10\n",
      "w = 20\n",
      "e = 30\n",
      "r = 40  # q,w,e,r are global variables\n",
      "\n",
      "def calc():\n",
      "    US = globals()\n",
      "    for k, v in US.items():\n",
      "        print(\"{}----{}\".format(k,v))\n",
      "        print(\"-----------------\")\n",
      "        print(\"val of q=\",US['q'])\n",
      "        print(\"val of w =\",US.get('w'))\n",
      "        print(\"val of e=\",global()['e'])\n",
      "        print(\"val of r =\",globals()['d'])\n",
      "        print(\"sym={}\".format(globals()['q']+globals()['w']+globals()['e']+globals()['r']))\n",
      "\n",
      "# Main Program\n",
      "calc()\n",
      "                             \n",
      "-----------------\n",
      "val of q= 10\n",
      "val of w = 20\n",
      "val of e= 30\n",
      "val of r = 60\n",
      "sym=100\n",
      "_ii----# Python Program to \n",
      "# Example -53\n",
      "a = 10 \n",
      "b = 20\n",
      "c = 30\n",
      "d = 40  # here a,b,c,d are the Global Variable\n",
      "\n",
      "def cal():\n",
      "    global c,d\n",
      "    c = c +10\n",
      "    d = d + 20\n",
      "    a = 50\n",
      "    b = 100    # here a, b are local variable\n",
      "    print(\"val of a (local Var)={}\".format(a))\n",
      "    print(\"val of b (Local var)={}\".format(b))\n",
      "    print(\"Val of a(global Var)={}\".format(globals()['a']))\n",
      "    print(\"val of b (gloabl var)={}\".format(globals()['b']))\n",
      "    print(\"-\"*50)\n",
      "    res = a +b+c+d+globals().get('a') + globals()['b']\n",
      "    print(\"sum ={}\".format(res))\n",
      "    print(\"-\" *50)\n",
      "    \n",
      "#main program\n",
      "cal()\n",
      "-----------------\n",
      "val of q= 10\n",
      "val of w = 20\n",
      "val of e= 30\n",
      "val of r = 60\n",
      "sym=100\n",
      "_iii----# Python Program to \n",
      "# Example -52\n",
      "a = 10\n",
      "b = 20\n",
      "\n",
      "def modify1():\n",
      "    global a,b\n",
      "    print(a)  # 10\n",
      "    print(b)  # 20\n",
      "    a = a + 10\n",
      "    b = b + 20\n",
      "    print(a)\n",
      "    print(b)\n",
      "    \n",
      "#main Program \n",
      "modify1()\n",
      "print(\"val of a--global var after modification in main ={}\".format(a))  # 20\n",
      "print(\"val of b--global var after modificaiton in main ={}\".format(b))  # 40\n",
      "-----------------\n",
      "val of q= 10\n",
      "val of w = 20\n",
      "val of e= 30\n",
      "val of r = 60\n",
      "sym=100\n",
      "_i1----# Python Program to \n",
      "# Example -52\n",
      "a = 10\n",
      "b = 20\n",
      "\n",
      "def modify1():\n",
      "    global a,b\n",
      "    print(a)  # 10\n",
      "    print(b)  # 20\n",
      "    a = a + 10\n",
      "    b = b + 20\n",
      "    print(a)\n",
      "    print(b)\n",
      "    \n",
      "#main Program \n",
      "modify1()\n",
      "print(\"val of a--global var after modification in main ={}\".format(a))  # 20\n",
      "print(\"val of b--global var after modificaiton in main ={}\".format(b))  # 40\n",
      "-----------------\n",
      "val of q= 10\n",
      "val of w = 20\n",
      "val of e= 30\n",
      "val of r = 60\n",
      "sym=100\n",
      "a----10\n",
      "-----------------\n",
      "val of q= 10\n",
      "val of w = 20\n",
      "val of e= 30\n",
      "val of r = 60\n",
      "sym=100\n",
      "b----20\n",
      "-----------------\n",
      "val of q= 10\n",
      "val of w = 20\n",
      "val of e= 30\n",
      "val of r = 60\n",
      "sym=100\n",
      "modify1----<function modify1 at 0x00000181062DC9D0>\n",
      "-----------------\n",
      "val of q= 10\n",
      "val of w = 20\n",
      "val of e= 30\n",
      "val of r = 60\n",
      "sym=100\n",
      "_i2----# Python Program to \n",
      "# Example -53\n",
      "a = 10 \n",
      "b = 20\n",
      "c = 30\n",
      "d = 40  # here a,b,c,d are the Global Variable\n",
      "\n",
      "def cal():\n",
      "    global c,d\n",
      "    c = c +10\n",
      "    d = d + 20\n",
      "    a = 50\n",
      "    b = 100    # here a, b are local variable\n",
      "    print(\"val of a (local Var)={}\".format(a))\n",
      "    print(\"val of b (Local var)={}\".format(b))\n",
      "    print(\"Val of a(global Var)={}\".format(globals()['a']))\n",
      "    print(\"val of b (gloabl var)={}\".format(globals()['b']))\n",
      "    print(\"-\"*50)\n",
      "    res = a +b+c+d+globals().get('a') + globals()['b']\n",
      "    print(\"sum ={}\".format(res))\n",
      "    print(\"-\" *50)\n",
      "    \n",
      "#main program\n",
      "cal()\n",
      "-----------------\n",
      "val of q= 10\n",
      "val of w = 20\n",
      "val of e= 30\n",
      "val of r = 60\n",
      "sym=100\n",
      "c----40\n",
      "-----------------\n",
      "val of q= 10\n",
      "val of w = 20\n",
      "val of e= 30\n",
      "val of r = 60\n",
      "sym=100\n",
      "d----60\n",
      "-----------------\n",
      "val of q= 10\n",
      "val of w = 20\n",
      "val of e= 30\n",
      "val of r = 60\n",
      "sym=100\n",
      "cal----<function cal at 0x00000181062DC820>\n",
      "-----------------\n",
      "val of q= 10\n",
      "val of w = 20\n",
      "val of e= 30\n",
      "val of r = 60\n",
      "sym=100\n",
      "_i3----# Python Program to \n",
      "# Example -54\n",
      "\n",
      "q = 10\n",
      "w = 20\n",
      "e = 30\n",
      "r = 40  # q,w,e,r are global variables\n",
      "\n",
      "def calc():\n",
      "    US = globals()\n",
      "    for k, v in US.items():\n",
      "        print(\"{}----{}\".format(k,v))\n",
      "        print(\"-----------------\")\n",
      "        print(\"val of q=\",US['q'])\n",
      "        print(\"val of w =\",US.get('w'))\n",
      "        print(\"val of e=\",global()['e'])\n",
      "        print(\"val of r =\",globals()['d'])\n",
      "        print(\"sym={}\".format(globals()['q']+globals()['w']+globals()['e']+globals()['r']))\n",
      "\n",
      "# Main Program\n",
      "calc()\n",
      "                             \n",
      "-----------------\n",
      "val of q= 10\n",
      "val of w = 20\n",
      "val of e= 30\n",
      "val of r = 60\n",
      "sym=100\n",
      "_i4----# Python Program to \n",
      "# Example -54\n",
      "\n",
      "q = 10\n",
      "w = 20\n",
      "e = 30\n",
      "r = 40  # q,w,e,r are global variables\n",
      "\n",
      "def calc():\n",
      "    US = globals()\n",
      "    for k, v in US.items():\n",
      "        print(\"{}----{}\".format(k,v))\n",
      "        print(\"-----------------\")\n",
      "        print(\"val of q=\",US['q'])\n",
      "        print(\"val of w =\",US.get('w'))\n",
      "        print(\"val of e=\",globals()['e'])\n",
      "        print(\"val of r =\",globals()['d'])\n",
      "        print(\"sym={}\".format(globals()['q']+globals()['w']+globals()['e']+globals()['r']))\n",
      "\n",
      "# Main Program\n",
      "calc()\n",
      "                             \n",
      "-----------------\n",
      "val of q= 10\n",
      "val of w = 20\n",
      "val of e= 30\n",
      "val of r = 60\n",
      "sym=100\n",
      "q----10\n",
      "-----------------\n",
      "val of q= 10\n",
      "val of w = 20\n",
      "val of e= 30\n",
      "val of r = 60\n",
      "sym=100\n",
      "w----20\n",
      "-----------------\n",
      "val of q= 10\n",
      "val of w = 20\n",
      "val of e= 30\n",
      "val of r = 60\n",
      "sym=100\n",
      "e----30\n",
      "-----------------\n",
      "val of q= 10\n",
      "val of w = 20\n",
      "val of e= 30\n",
      "val of r = 60\n",
      "sym=100\n",
      "r----40\n",
      "-----------------\n",
      "val of q= 10\n",
      "val of w = 20\n",
      "val of e= 30\n",
      "val of r = 60\n",
      "sym=100\n",
      "calc----<function calc at 0x00000181062DC700>\n",
      "-----------------\n",
      "val of q= 10\n",
      "val of w = 20\n",
      "val of e= 30\n",
      "val of r = 60\n",
      "sym=100\n"
     ]
    }
   ],
   "source": [
    "# Python Program to \n",
    "# Example -54\n",
    "\n",
    "q = 10\n",
    "w = 20\n",
    "e = 30\n",
    "r = 40  # q,w,e,r are global variables\n",
    "\n",
    "def calc():\n",
    "    US = globals()\n",
    "    for k, v in US.items():\n",
    "        print(\"{}----{}\".format(k,v))\n",
    "        print(\"-----------------\")\n",
    "        print(\"val of q=\",US['q'])\n",
    "        print(\"val of w =\",US.get('w'))\n",
    "        print(\"val of e=\",globals()['e'])\n",
    "        print(\"val of r =\",globals()['d'])\n",
    "        print(\"sym={}\".format(globals()['q']+globals()['w']+globals()['e']+globals()['r']))\n",
    "\n",
    "# Main Program\n",
    "calc()\n",
    "                             "
   ]
  },
  {
   "cell_type": "code",
   "execution_count": 6,
   "id": "50d3dad6",
   "metadata": {},
   "outputs": [
    {
     "name": "stdout",
     "output_type": "stream",
     "text": [
      "200\n"
     ]
    }
   ],
   "source": [
    "# Python Program to \n",
    "# Example -55\n",
    "x = 100\n",
    "def A():\n",
    "    global x \n",
    "    x = 200\n",
    "    \n",
    "A()\n",
    "print(x)"
   ]
  },
  {
   "cell_type": "markdown",
   "id": "6cd57fa9",
   "metadata": {},
   "source": [
    "## Display Output"
   ]
  },
  {
   "cell_type": "code",
   "execution_count": 7,
   "id": "243b88a5",
   "metadata": {},
   "outputs": [
    {
     "name": "stdout",
     "output_type": "stream",
     "text": [
      "Python\n",
      "welcome to python world\n"
     ]
    }
   ],
   "source": [
    " # Python Program to \n",
    "# Example -56\n",
    "print(\"Python\")\n",
    "print(\"welcome to python world\")\n",
    "\n",
    "\n"
   ]
  },
  {
   "cell_type": "code",
   "execution_count": 11,
   "id": "2f075470",
   "metadata": {},
   "outputs": [
    {
     "name": "stdout",
     "output_type": "stream",
     "text": [
      "10\n",
      "[10, 'HELLO', 23.45]\n",
      "10 [10, 'HELLO', 23.45]\n"
     ]
    }
   ],
   "source": [
    "# Python Program to \n",
    "# Example -57\n",
    "a = 10 \n",
    "print(a)\n",
    "\n",
    "lst = [10,'HELLO', 23.45]\n",
    "print(lst)\n",
    "\n",
    "print(a,lst)"
   ]
  },
  {
   "cell_type": "code",
   "execution_count": 13,
   "id": "1c743fd6",
   "metadata": {},
   "outputs": [
    {
     "name": "stdout",
     "output_type": "stream",
     "text": [
      "val of a = 10\n",
      "10 val of a\n"
     ]
    }
   ],
   "source": [
    "# Python Program to \n",
    "# Example -58\n",
    "\n",
    "a = 10\n",
    "print(\"val of a =\",a)\n",
    "print(a,\"val of a\")\n"
   ]
  },
  {
   "cell_type": "code",
   "execution_count": 14,
   "id": "e5cb8a2b",
   "metadata": {},
   "outputs": [
    {
     "name": "stdout",
     "output_type": "stream",
     "text": [
      "sum of  10 and 20 = 30\n"
     ]
    }
   ],
   "source": [
    "# Python Program to \n",
    "# Example -59\n",
    "a =10 \n",
    "b = 20\n",
    "c = a + b\n",
    "print(\"sum of \", a, \"and\",b,\"=\",c)"
   ]
  },
  {
   "cell_type": "code",
   "execution_count": 15,
   "id": "8c2d5b16",
   "metadata": {},
   "outputs": [
    {
     "name": "stdout",
     "output_type": "stream",
     "text": [
      "val of a =10\n",
      "20 val of a\n",
      "sum of 10 and 20 =30\n"
     ]
    }
   ],
   "source": [
    "# Python Program to \n",
    "# Example -60\n",
    "\n",
    "a = 10\n",
    "b = 20\n",
    "c = a + b\n",
    "print(\"val of a ={}\".format(a))\n",
    "print(\"{} val of a\".format(b))\n",
    "print(\"sum of {} and {} ={}\".format(a,b,c))"
   ]
  },
  {
   "cell_type": "code",
   "execution_count": 16,
   "id": "19c5ce68",
   "metadata": {},
   "outputs": [
    {
     "name": "stdout",
     "output_type": "stream",
     "text": [
      "sum of 10 and 20.000000 =30.000000\n"
     ]
    }
   ],
   "source": [
    "# Python Program to \n",
    "# Example -61\n",
    "\n",
    "a = 10 \n",
    "b = 20\n",
    "c = a + b \n",
    "print(\"sum of %d and %f =%f\" % (a,b,c))"
   ]
  },
  {
   "cell_type": "code",
   "execution_count": null,
   "id": "5fd84aab",
   "metadata": {},
   "outputs": [],
   "source": []
  },
  {
   "cell_type": "code",
   "execution_count": null,
   "id": "c2e6e3af",
   "metadata": {},
   "outputs": [],
   "source": []
  }
 ],
 "metadata": {
  "kernelspec": {
   "display_name": "Python 3 (ipykernel)",
   "language": "python",
   "name": "python3"
  },
  "language_info": {
   "codemirror_mode": {
    "name": "ipython",
    "version": 3
   },
   "file_extension": ".py",
   "mimetype": "text/x-python",
   "name": "python",
   "nbconvert_exporter": "python",
   "pygments_lexer": "ipython3",
   "version": "3.9.13"
  }
 },
 "nbformat": 4,
 "nbformat_minor": 5
}
