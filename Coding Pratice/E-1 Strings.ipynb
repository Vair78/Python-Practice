{
 "cells": [
  {
   "cell_type": "markdown",
   "id": "34bcd7c9",
   "metadata": {},
   "source": [
    "# Exercises- Training Of Logics\n",
    "\n",
    "### Strings"
   ]
  },
  {
   "cell_type": "markdown",
   "id": "f6d706dc",
   "metadata": {},
   "source": [
    "Q1 .Write a program that generats a random three-digit  number and calculates the sum of its digits."
   ]
  },
  {
   "cell_type": "code",
   "execution_count": 4,
   "id": "57774692",
   "metadata": {},
   "outputs": [
    {
     "name": "stdout",
     "output_type": "stream",
     "text": [
      "917\n",
      "17\n"
     ]
    }
   ],
   "source": [
    "from random import randint\n",
    "\n",
    "n = randint(100,999)\n",
    "print(n)\n",
    "\n",
    "s = str(n)\n",
    "\n",
    "a = int(s[0])\n",
    "b = int(s[1])\n",
    "c = int(s[2])\n",
    "\n",
    "print(a+b+c)"
   ]
  },
  {
   "cell_type": "markdown",
   "id": "7ef41a7b",
   "metadata": {},
   "source": [
    "Q2. a Stirng conisiting of letters and digit is given. Extract number (not digit)from a string and displays them on the screen."
   ]
  },
  {
   "cell_type": "code",
   "execution_count": 1,
   "id": "c3165544",
   "metadata": {},
   "outputs": [
    {
     "name": "stdout",
     "output_type": "stream",
     "text": [
      "vaibhav 18 rajy 15 raj 55\n",
      "18\n",
      "15\n",
      "55\n"
     ]
    }
   ],
   "source": [
    "s = input()\n",
    "l = len(s)\n",
    "\n",
    "i = 0\n",
    "while i < l:\n",
    "    num = ''\n",
    "    symbol = s[i]\n",
    "    while symbol.isdigit():\n",
    "        num += symbol\n",
    "        i += 1\n",
    "        if i < l:\n",
    "            symbol = s[i]\n",
    "        else:\n",
    "            break\n",
    "    if num !='':\n",
    "         print(num)\n",
    "    i += 1"
   ]
  },
  {
   "cell_type": "markdown",
   "id": "bfc7294a",
   "metadata": {},
   "source": [
    "Q3. A random float number is generated .Find the maximum digit in it."
   ]
  },
  {
   "cell_type": "code",
   "execution_count": 25,
   "id": "db44ac21",
   "metadata": {},
   "outputs": [
    {
     "name": "stdout",
     "output_type": "stream",
     "text": [
      "372.432\n",
      "7\n"
     ]
    }
   ],
   "source": [
    "from random import random\n",
    "\n",
    "num = round(random()*1000,3)\n",
    "print(num)\n",
    "\n",
    "str_num = str(num)\n",
    "\n",
    "max_digit = -1\n",
    "\n",
    "for i in range(len(str_num)):\n",
    "    if str_num[i] =='.':\n",
    "        continue\n",
    "    elif max_digit < int(str_num[i]):\n",
    "        max_digit = int(str_num[i])\n",
    "print(max_digit)"
   ]
  },
  {
   "cell_type": "markdown",
   "id": "5f1ef04c",
   "metadata": {},
   "source": [
    "Q4. A string is entered. Determine how many lowercase and how many uppercase letters are in it. Express the results as a percentage"
   ]
  },
  {
   "cell_type": "code",
   "execution_count": 27,
   "id": "0644854f",
   "metadata": {},
   "outputs": [
    {
     "name": "stdout",
     "output_type": "stream",
     "text": [
      "One Two ! Three, four. Five\n",
      "Lower : 55.56%\n",
      "Upper : 14.81%\n"
     ]
    }
   ],
   "source": [
    "string = input()\n",
    "length = len(string)\n",
    "lower = upper =0\n",
    "\n",
    "for i in string:\n",
    "    if i.islower():\n",
    "        lower +=1\n",
    "    elif i.isupper():\n",
    "        upper +=1\n",
    "        \n",
    "per_lower = lower / length *100\n",
    "per_upper = upper / length *100\n",
    "\n",
    "print(\"Lower : %.2f%%\" % per_lower)\n",
    "print(\"Upper : %.2f%%\" % per_upper)"
   ]
  },
  {
   "cell_type": "markdown",
   "id": "c7ad68cc",
   "metadata": {},
   "source": [
    "Q.5 String in entered. Determine if it is a Palindrome(reads the same from left to right and right to left)"
   ]
  },
  {
   "cell_type": "code",
   "execution_count": 4,
   "id": "b1bc768e",
   "metadata": {},
   "outputs": [
    {
     "name": "stdout",
     "output_type": "stream",
     "text": [
      "corroc\n",
      "It's Palindrome\n"
     ]
    }
   ],
   "source": [
    "s = input()\n",
    "l = len(s)\n",
    "\n",
    "for i in range(l//2):\n",
    "    if s[i] != s[-1-i]:\n",
    "        print(\"It's not palindrome\")\n",
    "        quit()\n",
    "print(\"It's Palindrome\")"
   ]
  },
  {
   "cell_type": "code",
   "execution_count": null,
   "id": "91e539cc",
   "metadata": {},
   "outputs": [],
   "source": []
  }
 ],
 "metadata": {
  "kernelspec": {
   "display_name": "Python 3 (ipykernel)",
   "language": "python",
   "name": "python3"
  },
  "language_info": {
   "codemirror_mode": {
    "name": "ipython",
    "version": 3
   },
   "file_extension": ".py",
   "mimetype": "text/x-python",
   "name": "python",
   "nbconvert_exporter": "python",
   "pygments_lexer": "ipython3",
   "version": "3.9.13"
  }
 },
 "nbformat": 4,
 "nbformat_minor": 5
}
