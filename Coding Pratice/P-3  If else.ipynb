{
 "cells": [
  {
   "cell_type": "markdown",
   "id": "552b329a",
   "metadata": {},
   "source": [
    "# IF ELSE"
   ]
  },
  {
   "cell_type": "code",
   "execution_count": 1,
   "id": "e7f22445",
   "metadata": {},
   "outputs": [
    {
     "name": "stdout",
     "output_type": "stream",
     "text": [
      "33 is greater than 10 \n"
     ]
    }
   ],
   "source": [
    "# Program - 1\n",
    "# If Statement\n",
    "\n",
    "a = 33\n",
    "b =10\n",
    "if a > b:\n",
    "    print(\"33 is greater than 10 \")\n"
   ]
  },
  {
   "cell_type": "code",
   "execution_count": 2,
   "id": "4054657c",
   "metadata": {},
   "outputs": [
    {
     "ename": "IndentationError",
     "evalue": "expected an indented block (2817200410.py, line 6)",
     "output_type": "error",
     "traceback": [
      "\u001b[1;36m  File \u001b[1;32m\"C:\\Users\\Digital Next\\AppData\\Local\\Temp\\ipykernel_11568\\2817200410.py\"\u001b[1;36m, line \u001b[1;32m6\u001b[0m\n\u001b[1;33m    print('33 is greater than 10')\u001b[0m\n\u001b[1;37m    ^\u001b[0m\n\u001b[1;31mIndentationError\u001b[0m\u001b[1;31m:\u001b[0m expected an indented block\n"
     ]
    }
   ],
   "source": [
    "# Program - 2\n",
    "# If Statement, without Indentation( Will Raise an Error):\n",
    "a = 33\n",
    "b = 10\n",
    "if b > a:\n",
    "print('33 is greater than 10')"
   ]
  },
  {
   "cell_type": "code",
   "execution_count": 3,
   "id": "3a8ddbe6",
   "metadata": {},
   "outputs": [
    {
     "name": "stdout",
     "output_type": "stream",
     "text": [
      "a and b are equal\n"
     ]
    }
   ],
   "source": [
    "# Program - 3\n",
    "# The Elif keyword is python way of Saying \"If the previous conditions were not true, then try this conditions\"\n",
    "a =10 \n",
    "b = 10\n",
    "if b > a:\n",
    "    print(\"b is greater than a\")\n",
    "elif a ==b:\n",
    "    print(\"a and b are equal\")"
   ]
  },
  {
   "cell_type": "code",
   "execution_count": 4,
   "id": "5777bf12",
   "metadata": {},
   "outputs": [
    {
     "name": "stdout",
     "output_type": "stream",
     "text": [
      "a is greater than b\n"
     ]
    }
   ],
   "source": [
    "# Program - 4\n",
    "# The Else Keyword catches anything which isn't caught by the precedig conditions.\n",
    "a = 100\n",
    "b = 10\n",
    "if b > a:\n",
    "    print(\"b is greater than a \")\n",
    "elif a == b:\n",
    "    print(\"a and b are equal\")\n",
    "else:\n",
    "    print(\"a is greater than b\")"
   ]
  },
  {
   "cell_type": "code",
   "execution_count": 6,
   "id": "83e15e04",
   "metadata": {},
   "outputs": [
    {
     "name": "stdout",
     "output_type": "stream",
     "text": [
      "b is not greater than a\n"
     ]
    }
   ],
   "source": [
    "# Program - 5\n",
    "\n",
    "a = 100\n",
    "b =10\n",
    "if b > a:\n",
    "    print(\"b is greater than a\")\n",
    "else:\n",
    "    print(\"b is not greater than a\")"
   ]
  },
  {
   "cell_type": "code",
   "execution_count": 7,
   "id": "4a32e2b7",
   "metadata": {},
   "outputs": [
    {
     "name": "stdout",
     "output_type": "stream",
     "text": [
      "a is greater than b\n"
     ]
    }
   ],
   "source": [
    "# Program - 6\n",
    "# One line if statement\n",
    "a = 52\n",
    "b = 10\n",
    "if a > b : print(\"a is greater than b\")"
   ]
  },
  {
   "cell_type": "code",
   "execution_count": 8,
   "id": "1254321f",
   "metadata": {},
   "outputs": [
    {
     "name": "stdout",
     "output_type": "stream",
     "text": [
      "B\n"
     ]
    }
   ],
   "source": [
    "# Program - 7\n",
    "# One line if- else Statement\n",
    "a = 2 \n",
    "b = 33\n",
    "\n",
    "print(\"A\")if a > b else print(\"B\")\n"
   ]
  },
  {
   "cell_type": "code",
   "execution_count": 13,
   "id": "17bc7b0b",
   "metadata": {},
   "outputs": [
    {
     "name": "stdout",
     "output_type": "stream",
     "text": [
      " A & B equals\n"
     ]
    }
   ],
   "source": [
    "# Program - 8\n",
    "# One line if else statement, with 3 conditions:\n",
    "\n",
    "a = 330\n",
    "b = 330\n",
    "\n",
    "print(\"A\") if a > b else print(\" A & B equals\") if a == b else print(\"B\")"
   ]
  },
  {
   "cell_type": "code",
   "execution_count": 15,
   "id": "781b6a06",
   "metadata": {},
   "outputs": [],
   "source": [
    "# Program - 9\n",
    "# test if a is greater than b , AND if C is greater than a:\n",
    "\n",
    "a = 200\n",
    "b = 33\n",
    "c = 500\n",
    "\n",
    "if a > b and c < a:\n",
    "    print(\"Both Conditions are True\")\n",
    "    "
   ]
  },
  {
   "cell_type": "code",
   "execution_count": 20,
   "id": "ba01fe0d",
   "metadata": {},
   "outputs": [
    {
     "name": "stdout",
     "output_type": "stream",
     "text": [
      "Both Conditions are True\n"
     ]
    }
   ],
   "source": [
    "# Program - 9\n",
    "# test if a is greater than b , AND if C is greater than a:\n",
    "\n",
    "a = 200\n",
    "b = 33\n",
    "c = 500\n",
    "\n",
    "if a > b and c > a :\n",
    "    print(\"Both Conditions are True\")"
   ]
  },
  {
   "cell_type": "code",
   "execution_count": 23,
   "id": "2137aac5",
   "metadata": {},
   "outputs": [
    {
     "name": "stdout",
     "output_type": "stream",
     "text": [
      "At Least one of the conditions is True\n"
     ]
    }
   ],
   "source": [
    "# Program - 10 \n",
    "#  Test if a is greater than b , OR  if a greater than C ?\n",
    "\n",
    "a = 200\n",
    "b = 33\n",
    "c = 500\n",
    "\n",
    "if a > b or a > c :\n",
    "    print(\"At Least one of the conditions is True\")"
   ]
  },
  {
   "cell_type": "code",
   "execution_count": 24,
   "id": "01609c5d",
   "metadata": {},
   "outputs": [
    {
     "name": "stdout",
     "output_type": "stream",
     "text": [
      "Above ten,\n",
      "and also above 20!\n"
     ]
    }
   ],
   "source": [
    "# Program - 11\n",
    "# You Can have if Statement inside if statement , this is called nested if Statement.\n",
    "\n",
    "x = 41\n",
    "\n",
    "if x > 10 :\n",
    "    print(\"Above ten,\")\n",
    "    if x > 20:\n",
    "        print(\"and also above 20!\")\n",
    "    else:\n",
    "        print(\"but not above 20.\")"
   ]
  },
  {
   "cell_type": "code",
   "execution_count": 26,
   "id": "c75d709c",
   "metadata": {},
   "outputs": [],
   "source": [
    "# Program - 12\n",
    "# Pass Statement\n",
    "\n",
    "a = 33\n",
    "b = 220\n",
    "\n",
    "if b > a:\n",
    "    pass\n",
    "\n",
    "# Having an empty if statement like this , would raise an error without the pass statement"
   ]
  },
  {
   "cell_type": "code",
   "execution_count": 29,
   "id": "fcc1112d",
   "metadata": {},
   "outputs": [
    {
     "name": "stdout",
     "output_type": "stream",
     "text": [
      "3 is a positive number.\n",
      "This is always Printed\n",
      "THIS IS ALSO ALWASY PRINTED\n"
     ]
    }
   ],
   "source": [
    "# Program - 13\n",
    "num = 3\n",
    "if num > 0:\n",
    "    print(num,\"is a positive number.\")\n",
    "print(\"This is always Printed\")\n",
    "\n",
    "num = -1\n",
    "if num > 0:\n",
    "    print(num,\"is a positive number.\")\n",
    "print(\"THIS IS ALSO ALWASY PRINTED\")\n",
    "    "
   ]
  },
  {
   "cell_type": "code",
   "execution_count": 33,
   "id": "2ac0fdd1",
   "metadata": {},
   "outputs": [
    {
     "name": "stdout",
     "output_type": "stream",
     "text": [
      "Negative Number\n"
     ]
    }
   ],
   "source": [
    "# Program - 14\n",
    "# IF.....ELSE\n",
    "\n",
    "a = -15\n",
    "\n",
    "b = 10\n",
    "\n",
    "if a >=0:\n",
    "    print(\"Positive or Zero\")\n",
    "else:\n",
    "    print(\"Negative Number\")"
   ]
  },
  {
   "cell_type": "code",
   "execution_count": 34,
   "id": "19fbb572",
   "metadata": {},
   "outputs": [
    {
     "name": "stdout",
     "output_type": "stream",
     "text": [
      "Positive or zero\n"
     ]
    }
   ],
   "source": [
    "# Program - 15\n",
    "\n",
    "a = 0\n",
    "\n",
    "if a >= 0:\n",
    "    print(\"Positive or zero\")\n",
    "elif a == 0:\n",
    "    print(\"Zero\")\n",
    "else:\n",
    "    print(\"Negative Number\")"
   ]
  },
  {
   "cell_type": "code",
   "execution_count": 37,
   "id": "2bca5dcf",
   "metadata": {},
   "outputs": [
    {
     "name": "stdout",
     "output_type": "stream",
     "text": [
      "Enter a number : 1\n",
      "Positive Number\n"
     ]
    }
   ],
   "source": [
    "# Program - 16\n",
    "\n",
    "num = float(input(\"Enter a number : \"))\n",
    "if num >=0:\n",
    "    if num ==0:\n",
    "        print(\"Zero\")\n",
    "    else:\n",
    "        print(\"Positive Number\")\n",
    "else:\n",
    "    print(\"Negative Number\")"
   ]
  },
  {
   "cell_type": "code",
   "execution_count": 41,
   "id": "cfaf33b7",
   "metadata": {},
   "outputs": [
    {
     "name": "stdout",
     "output_type": "stream",
     "text": [
      "I am not in IF\n"
     ]
    }
   ],
   "source": [
    "# Program - 17\n",
    "# Python program to Illustrate If statement\n",
    "\n",
    "i = 10\n",
    "if (i >15):\n",
    "    print(\"10 is less than 15\")\n",
    "print(\"I am not in IF\")"
   ]
  },
  {
   "cell_type": "code",
   "execution_count": 43,
   "id": "f0adace5",
   "metadata": {},
   "outputs": [
    {
     "name": "stdout",
     "output_type": "stream",
     "text": [
      "I is greater than 15\n",
      "I am in else block\n",
      "I am not in IF and Not In else Block\n"
     ]
    }
   ],
   "source": [
    "# Program - 18\n",
    "# Python Program to illustrate if else statmetn \n",
    "\n",
    "i =20 \n",
    "\n",
    "if (i < 15):\n",
    "    print(\"i is smaller than 15\")\n",
    "    print(\"I am in if Block\")\n",
    "else:\n",
    "    print(\"I is greater than 15\")\n",
    "    print(\"I am in else block\")\n",
    "print(\"I am not in IF and Not In else Block\")\n"
   ]
  },
  {
   "cell_type": "code",
   "execution_count": 44,
   "id": "05cb8eeb",
   "metadata": {},
   "outputs": [
    {
     "name": "stdout",
     "output_type": "stream",
     "text": [
      "[16, 3, 18, 18]\n"
     ]
    }
   ],
   "source": [
    "# Program - 19\n",
    "# Explicit Function\n",
    "\n",
    "def digitSum(n):\n",
    "    dsum=0\n",
    "    for ele in str(n):\n",
    "        dsum +=int(ele)\n",
    "    return dsum\n",
    "\n",
    "#initializing list\n",
    "List = [367,111,562,945,6726,873]\n",
    "\n",
    "# using the function on odd elemetns of the list \n",
    "newList = [digitSum(i) for i in List if i & 1]\n",
    "\n",
    "# displaying new list\n",
    "print(newList)\n",
    "    "
   ]
  },
  {
   "cell_type": "code",
   "execution_count": 45,
   "id": "386f0e37",
   "metadata": {},
   "outputs": [
    {
     "name": "stdout",
     "output_type": "stream",
     "text": [
      "i is smaller than 15\n",
      "i is smaller than 12 too\n"
     ]
    }
   ],
   "source": [
    "# Program - 20\n",
    "# Python Program to illustrate nested if  statement\n",
    "i = 10 \n",
    "if (i == 10):\n",
    "    if (i <15):\n",
    "        print(\"i is smaller than 15\")\n",
    "        if (i<12):\n",
    "            print(\"i is smaller than 12 too\")\n",
    "        else:\n",
    "            print(\"i is greater than 15\")"
   ]
  },
  {
   "cell_type": "code",
   "execution_count": 46,
   "id": "7ab1b143",
   "metadata": {},
   "outputs": [
    {
     "name": "stdout",
     "output_type": "stream",
     "text": [
      "i is 20\n"
     ]
    }
   ],
   "source": [
    "# Program - 21\n",
    "# Python program to illustrate if -elif-else ladder\n",
    "\n",
    "i = 20\n",
    "if(i ==10):\n",
    "    print(\"i is 10\")\n",
    "elif (i ==15):\n",
    "    print(\"i is 15\")\n",
    "elif(i==20):\n",
    "    print(\"i is 20\")\n",
    "else:\n",
    "    print(\"i is not Present\")"
   ]
  },
  {
   "cell_type": "code",
   "execution_count": 48,
   "id": "d518e187",
   "metadata": {},
   "outputs": [
    {
     "name": "stdout",
     "output_type": "stream",
     "text": [
      "i is less than 15\n"
     ]
    }
   ],
   "source": [
    "# Program - 22\n",
    "# Python Program to Illustrate short hand if \n",
    "\n",
    "i  =10 \n",
    "if i <15:\n",
    "    print(\"i is less than 15\")"
   ]
  },
  {
   "cell_type": "code",
   "execution_count": 50,
   "id": "452a177f",
   "metadata": {},
   "outputs": [
    {
     "name": "stdout",
     "output_type": "stream",
     "text": [
      "True\n"
     ]
    }
   ],
   "source": [
    "# Program - 23\n",
    "\n",
    "# Python Program to Illustrate short hand if \n",
    "i =20 \n",
    "print(True) if i < 40 else print(False)\n"
   ]
  },
  {
   "cell_type": "code",
   "execution_count": 1,
   "id": "72249d3d",
   "metadata": {},
   "outputs": [
    {
     "name": "stdout",
     "output_type": "stream",
     "text": [
      "enter the number:14\n",
      "Number is even\n"
     ]
    }
   ],
   "source": [
    "# Program - 24\n",
    "\n",
    "num = int(input(\"enter the number:\"))\n",
    "\n",
    "if num %2 == 0:\n",
    "    print(\"Number is even\")\n",
    "else:\n",
    "    print(\"Number is Odd\")\n",
    "\n"
   ]
  },
  {
   "cell_type": "code",
   "execution_count": 3,
   "id": "7883b5bd",
   "metadata": {},
   "outputs": [
    {
     "name": "stdout",
     "output_type": "stream",
     "text": [
      "Enter a:15\n",
      "Enter b:12\n",
      "Enter c:16\n",
      "C is Largest\n"
     ]
    }
   ],
   "source": [
    "# Program - 25\n",
    "\n",
    "a = int(input(\"Enter a:\"));\n",
    "b = int(input(\"Enter b:\"));\n",
    "c = int(input(\"Enter c:\"));\n",
    "\n",
    "if a > b and a > c:\n",
    "    print(\"A is Largest\");\n",
    "if b > a and b > b:\n",
    "    print(\"B is Largest\");\n",
    "if c > a and c > b:\n",
    "    print(\"C is Largest\");\n",
    "\n"
   ]
  },
  {
   "cell_type": "code",
   "execution_count": 5,
   "id": "47e13d3c",
   "metadata": {},
   "outputs": [
    {
     "name": "stdout",
     "output_type": "stream",
     "text": [
      "Enter Your Age :25\n",
      "Your are eligible for Vote\n"
     ]
    }
   ],
   "source": [
    "# Program - 26\n",
    "\n",
    "age = int(input(\"Enter Your Age :\"))\n",
    "\n",
    "if age >=18:\n",
    "    print(\"Your are eligible for Vote\")\n",
    "else:\n",
    "    print(\"Sorry you cannot Vote\")\n",
    "    \n",
    "    \n"
   ]
  },
  {
   "cell_type": "code",
   "execution_count": 8,
   "id": "14cf2371",
   "metadata": {},
   "outputs": [
    {
     "name": "stdout",
     "output_type": "stream",
     "text": [
      "Enter the Number:13\n",
      "Number is Odd\n"
     ]
    }
   ],
   "source": [
    "# Program - 27\n",
    "\n",
    "num = int(input(\"Enter the Number:\"))\n",
    "if num % 2==0:\n",
    "    print(\"Number is Even\")\n",
    "elif num < 0:\n",
    "    print(\"Please enter valid number\")\n",
    "else:\n",
    "    print(\"Number is Odd\")\n",
    "    \n"
   ]
  },
  {
   "cell_type": "code",
   "execution_count": 3,
   "id": "8a2658de",
   "metadata": {},
   "outputs": [
    {
     "name": "stdout",
     "output_type": "stream",
     "text": [
      "Enter the Number ?99\n",
      "Number is not equal to 10,50 or 100\n"
     ]
    }
   ],
   "source": [
    "# Program - 28\n",
    "\n",
    "number = int(input(\"Enter the Number ?\"))\n",
    "if number ==10:\n",
    "    print(\"number is equal to 10\")\n",
    "elif number == 50:\n",
    "    print(\"Number is equal to 50\")\n",
    "elif number ==100:\n",
    "    print(\"Number is equal to 100\")\n",
    "else:\n",
    "    print(\"Number is not equal to 10,50 or 100\")\n"
   ]
  },
  {
   "cell_type": "code",
   "execution_count": 2,
   "id": "720e7e60",
   "metadata": {},
   "outputs": [
    {
     "name": "stdout",
     "output_type": "stream",
     "text": [
      "Enter the Marks: 33\n",
      "Sorry but You Failed in exam\n"
     ]
    }
   ],
   "source": [
    "# Program - 29\n",
    "\n",
    "mark = int(input(\"Enter the Marks: \"))\n",
    "if mark >= 85 and mark <=100:\n",
    "    print(\"Congrates ! you scored Grade A\")\n",
    "elif mark >=60 and mark <=85:\n",
    "    print(\"Congrates ! you scored Grade B\")\n",
    "elif mark >=35 and mark <=60:\n",
    "    print(\" You have Scored Grade C\")\n",
    "else:\n",
    "    print(\"Sorry but You Failed in exam\")\n"
   ]
  },
  {
   "cell_type": "code",
   "execution_count": 4,
   "id": "28ef5ab5",
   "metadata": {},
   "outputs": [
    {
     "name": "stdout",
     "output_type": "stream",
     "text": [
      "Enter the number of a :15\n",
      "enter the number of b :20\n",
      "enter teh number of c :18\n",
      "big(15,20,18) =20\n"
     ]
    }
   ],
   "source": [
    "# Program - 30\n",
    "\n",
    "# Finding biggest of three Numbers;\n",
    "\n",
    "a = int(input(\"Enter the number of a :\"))\n",
    "b = int(input(\"enter the number of b :\"))\n",
    "c = int(input(\"enter teh number of c :\"))\n",
    "\n",
    "# Main Logic\n",
    "big = a\n",
    "if(b > big):\n",
    "    big = b\n",
    "if(c > big):\n",
    "    big = c\n",
    "print(\"big({},{},{}) ={}\".format(a,b,c, big))"
   ]
  },
  {
   "cell_type": "code",
   "execution_count": null,
   "id": "4e1dc204",
   "metadata": {},
   "outputs": [],
   "source": []
  }
 ],
 "metadata": {
  "kernelspec": {
   "display_name": "Python 3 (ipykernel)",
   "language": "python",
   "name": "python3"
  },
  "language_info": {
   "codemirror_mode": {
    "name": "ipython",
    "version": 3
   },
   "file_extension": ".py",
   "mimetype": "text/x-python",
   "name": "python",
   "nbconvert_exporter": "python",
   "pygments_lexer": "ipython3",
   "version": "3.9.13"
  }
 },
 "nbformat": 4,
 "nbformat_minor": 5
}
