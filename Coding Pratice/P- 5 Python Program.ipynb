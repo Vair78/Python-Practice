{
 "cells": [
  {
   "cell_type": "markdown",
   "id": "e4bda8fd",
   "metadata": {},
   "source": [
    "# Python - 1 program to add two number :"
   ]
  },
  {
   "cell_type": "code",
   "execution_count": 1,
   "id": "953f0a77",
   "metadata": {},
   "outputs": [
    {
     "name": "stdout",
     "output_type": "stream",
     "text": [
      "First number: 13.5\n",
      "Second number: 1.54\n",
      "This sum of 13.5 and 1.54 is 15.04\n"
     ]
    }
   ],
   "source": [
    "# Python - 1 program to add two number :\n",
    "\n",
    "number1 = input(\"First number: \")\n",
    "number2 = input (\"Second number: \")\n",
    "\n",
    "#adding two numbers\n",
    "# User might also enter float number\n",
    "\n",
    "sum =float(number1) + float(number2)\n",
    "\n",
    "#display the sum\n",
    "#will print values in float\n",
    "print(\"This sum of {0} and {1} is {2}\".format(number1, number2, sum))"
   ]
  },
  {
   "cell_type": "markdown",
   "id": "fe90e4df",
   "metadata": {},
   "source": [
    "# Python - 2 program to Maximum of two number in Python - Using max() function"
   ]
  },
  {
   "cell_type": "code",
   "execution_count": 5,
   "id": "dc53ca6f",
   "metadata": {},
   "outputs": [],
   "source": [
    "# Python - 2 program to Maximum of two number in Python - Using max() function\n",
    "\n",
    "# Python program to find the maximum of two numbers\n",
    "\n",
    "a = 2\n",
    "b = 4\n",
    "maximum = max(a,b)"
   ]
  },
  {
   "cell_type": "code",
   "execution_count": 6,
   "id": "41073180",
   "metadata": {},
   "outputs": [
    {
     "data": {
      "text/plain": [
       "4"
      ]
     },
     "execution_count": 6,
     "metadata": {},
     "output_type": "execute_result"
    }
   ],
   "source": [
    "maximum"
   ]
  },
  {
   "cell_type": "markdown",
   "id": "eb073dcd",
   "metadata": {},
   "source": [
    "# Python -3 Python program for Factorial of a number - Recursive"
   ]
  },
  {
   "cell_type": "code",
   "execution_count": 15,
   "id": "78677410",
   "metadata": {},
   "outputs": [
    {
     "name": "stdout",
     "output_type": "stream",
     "text": [
      "Factorial of 5 is 120\n"
     ]
    }
   ],
   "source": [
    "# Python 3 program to find \n",
    "# Factorial of given number \n",
    "\n",
    "def factorial(n) :\n",
    "    #single line to find factorial\n",
    "    return 1 if (n==1 or n==0) else n * factorial(n-1) ;\n",
    "    \n",
    "# Driver Code\n",
    "num = 5;\n",
    "print(\"Factorial of\",num,\"is\",factorial(num))"
   ]
  },
  {
   "cell_type": "markdown",
   "id": "026625bd",
   "metadata": {},
   "source": [
    "# Python -4 Program to find simple interest "
   ]
  },
  {
   "cell_type": "code",
   "execution_count": 4,
   "id": "7f6b48e3",
   "metadata": {},
   "outputs": [
    {
     "name": "stdout",
     "output_type": "stream",
     "text": [
      "The principal is 8\n",
      "The time period is 6\n",
      "The rate of interest is 8\n",
      "The Simple interest is 5.12\n"
     ]
    }
   ],
   "source": [
    "# Python -4 Program to find simple interest \n",
    "# for given principal amount,time and Rate of interest\n",
    "\n",
    "def simple_interest(p,t,r):\n",
    "    print('The principal is', p)\n",
    "    print('The time period is',t)\n",
    "    print('The rate of interest is',r)\n",
    "    si = (p * r * r)/100\n",
    "    print('The Simple interest is', si)\n",
    "#Driver code\n",
    "simple_interest(8,6,8)\n",
    "\n",
    "    \n"
   ]
  },
  {
   "cell_type": "markdown",
   "id": "78936bd1",
   "metadata": {},
   "source": [
    "# Python -5 Program to find Compond interest"
   ]
  },
  {
   "cell_type": "code",
   "execution_count": 8,
   "id": "fca5d0db",
   "metadata": {},
   "outputs": [
    {
     "name": "stdout",
     "output_type": "stream",
     "text": [
      "Compound interest is 6288.946267774416\n"
     ]
    }
   ],
   "source": [
    "# Python -1 Program to find Compond Interest\n",
    "# Interest for Given Values\n",
    "\n",
    "def compound_interest(principle,rate,time):\n",
    "    \n",
    "    #Calculate compound Interest\n",
    "    Amount = principle *(pow((1 + rate / 100), time))\n",
    "    CI = Amount - principle\n",
    "    print(\"Compound interest is\",CI)\n",
    "\n",
    "#Driver Code    \n",
    "compound_interest(10000, 10.25, 5)"
   ]
  },
  {
   "cell_type": "code",
   "execution_count": 11,
   "id": "c2ed9570",
   "metadata": {},
   "outputs": [
    {
     "name": "stdout",
     "output_type": "stream",
     "text": [
      "Enter the Principle :3000\n",
      "Enter the rate of interest :5\n",
      "Enter the times in years:3\n",
      "Compound Interst is 472.87500000000045\n"
     ]
    }
   ],
   "source": [
    "#P5-2 Interest for input taking from user.\n",
    "\n",
    "def compound_interest(principle,rate,time):\n",
    "    \n",
    "    #Calculate compound Interst\n",
    "    Amount = principle *(pow((1 + rate /100),time))\n",
    "    CI = Amount - principle\n",
    "    print(\"Compound Interst is\",CI)\n",
    "    \n",
    "#Driver Code\n",
    "# Taking input from User\n",
    "principle = int(input(\"Enter the Principle :\"))\n",
    "rate = int(input(\"Enter the rate of interest :\"))\n",
    "time = int(input(\"Enter the times in years:\"))\n",
    "\n",
    "#Function Call\n",
    "compound_interest(principle,rate,time)"
   ]
  },
  {
   "cell_type": "code",
   "execution_count": 12,
   "id": "c028c919",
   "metadata": {},
   "outputs": [
    {
     "name": "stdout",
     "output_type": "stream",
     "text": [
      "472.87500000000045\n"
     ]
    }
   ],
   "source": [
    "# Python code-3\n",
    "# To find compound interest\n",
    "\n",
    "p = 3000   # principle amount\n",
    "r = 5      # Rate of interest \n",
    "t = 3     # times in years\n",
    "\n",
    "# Calculating the Compount Interest\n",
    "A = p*(1+(r/100))**t  # Formula of CI\n",
    "CI = A-p             #CI= Amount-principle\n",
    "print(CI)"
   ]
  },
  {
   "cell_type": "code",
   "execution_count": 14,
   "id": "80919821",
   "metadata": {},
   "outputs": [
    {
     "name": "stdout",
     "output_type": "stream",
     "text": [
      "Compount Interest is 472.875\n"
     ]
    }
   ],
   "source": [
    "# Python Code #4:  using for loop:To find compound interest\n",
    "\n",
    "def compount_interest(principle,rate,time):\n",
    "    Amount = principle\n",
    "    for i in range(time):\n",
    "        Amount = Amount *(1+ rate/100)\n",
    "    CI = Amount -principle\n",
    "    print(\"Compount Interest is\", CI)\n",
    "\n",
    "# Driver Code\n",
    "compount_interest(3000,5,3)       \n",
    "\n",
    "\n"
   ]
  },
  {
   "cell_type": "markdown",
   "id": "9db39433",
   "metadata": {},
   "source": [
    "# Python Program for Program to find area of a circle\n",
    "- Area = pi * r2\n",
    "- where r is radius of circle "
   ]
  },
  {
   "cell_type": "code",
   "execution_count": 37,
   "id": "b9b4de0a",
   "metadata": {},
   "outputs": [
    {
     "name": "stdout",
     "output_type": "stream",
     "text": [
      "Area is 78.550000\n"
     ]
    }
   ],
   "source": [
    "\n",
    "# Python-1 program to find Area of a circle\n",
    "\n",
    "def findArea(r):\n",
    "    PI = 3.142\n",
    "    return PI*(r*r);\n",
    "\n",
    "#Driver method\n",
    "\n",
    "print(\"Area is %6f\" % findArea(5));"
   ]
  },
  {
   "cell_type": "code",
   "execution_count": 39,
   "id": "2f096af5",
   "metadata": {},
   "outputs": [
    {
     "name": "stdout",
     "output_type": "stream",
     "text": [
      "Area of Circle is: 50.26548245743669\n"
     ]
    }
   ],
   "source": [
    "#Python-2 program to find Area of a circle using inbuild library\n",
    "\n",
    "import math\n",
    "def area(r):\n",
    "    area = math.pi* pow(r,2)\n",
    "    return print('Area of Circle is:', area)\n",
    "\n",
    "#Driver Method\n",
    "area (4)"
   ]
  },
  {
   "cell_type": "markdown",
   "id": "b9eb9c48",
   "metadata": {},
   "source": [
    "# Python-5 Program to Find the Maximum of Two Numbers"
   ]
  },
  {
   "cell_type": "code",
   "execution_count": 1,
   "id": "990adc40",
   "metadata": {},
   "outputs": [
    {
     "name": "stdout",
     "output_type": "stream",
     "text": [
      "4\n"
     ]
    }
   ],
   "source": [
    "#Python-1 Program to Find the Maximum of Two Numbers\n",
    "\n",
    "def maximum(a, b):\n",
    "    if a >= b:\n",
    "        return a\n",
    "    else:\n",
    "        return b\n",
    "# Driver Code\n",
    "a = 2\n",
    "b = 4\n",
    "print(maximum(a,b))"
   ]
  },
  {
   "cell_type": "code",
   "execution_count": 3,
   "id": "ce6b2e43",
   "metadata": {},
   "outputs": [
    {
     "name": "stdout",
     "output_type": "stream",
     "text": [
      "4\n"
     ]
    }
   ],
   "source": [
    "#Method-2 Program to Find the Maximum of Two Numbers\n",
    "\n",
    "a = 2\n",
    "b = 4\n",
    "\n",
    "maximum = max(a, b)\n",
    "print(maximum)"
   ]
  },
  {
   "cell_type": "code",
   "execution_count": 5,
   "id": "3f56ee22",
   "metadata": {},
   "outputs": [
    {
     "name": "stdout",
     "output_type": "stream",
     "text": [
      "4\n"
     ]
    }
   ],
   "source": [
    "#Method-3 Program to Find the Maximum of Two Numbers\n",
    "a = 2\n",
    "b = 4\n",
    "\n",
    "#Use of ternary Operator\n",
    "print(a if a >= b else b)"
   ]
  },
  {
   "cell_type": "code",
   "execution_count": 7,
   "id": "c732418f",
   "metadata": {},
   "outputs": [
    {
     "name": "stdout",
     "output_type": "stream",
     "text": [
      "maximum number is: [4]\n"
     ]
    }
   ],
   "source": [
    "# Method-3 Program to Find the Maximum of Two Numbers\n",
    "# Method: Using list comprehension\n",
    "a = 2 ;b =4\n",
    "x =[a if a>b else b]\n",
    "print(\"maximum number is:\", x)"
   ]
  },
  {
   "cell_type": "markdown",
   "id": "1f6d120b",
   "metadata": {},
   "source": [
    "# Python Program to check Armstrong Number"
   ]
  },
  {
   "cell_type": "code",
   "execution_count": 29,
   "id": "be72cdc9",
   "metadata": {},
   "outputs": [
    {
     "name": "stdout",
     "output_type": "stream",
     "text": [
      "True\n",
      "False\n"
     ]
    }
   ],
   "source": [
    "# Python Program to check Armstrong Number\n",
    "\n",
    "def power(x, y):\n",
    "    if y == 0:\n",
    "        return 1\n",
    "    if y % 2 == 0:\n",
    "        return power(x, y // 2)*power(x, y //2)\n",
    "    return x * power(x, y // 2)*power(x, y// 2)\n",
    "\n",
    "# Function to calculate order of the number\n",
    "def order(x):\n",
    "    #variable to store of the number\n",
    "    n = 0\n",
    "    while (x != 0):\n",
    "        n = n + 1\n",
    "        x = x // 10\n",
    "    return n\n",
    "# Function to check whether the given\n",
    "# number is Armstrong number or not\n",
    "def isArmstrong(x):\n",
    "    \n",
    "    n = order(x)\n",
    "    temp = x \n",
    "    sum1 = 0\n",
    "    \n",
    "    while (temp != 0):\n",
    "        r = temp % 10\n",
    "        sum1 = sum1 + power(r,n)\n",
    "        temp = temp // 10\n",
    "    # if condition satisfies\n",
    "    return(sum1 == x)\n",
    "\n",
    "#Driver Code\n",
    "x =153\n",
    "print(isArmstrong(x))\n",
    "x=1253\n",
    "print(isArmstrong(x))"
   ]
  },
  {
   "cell_type": "code",
   "execution_count": 38,
   "id": "180ae610",
   "metadata": {},
   "outputs": [
    {
     "name": "stdout",
     "output_type": "stream",
     "text": [
      "The given number 153 is armstrong number\n"
     ]
    }
   ],
   "source": [
    "# python 2 program\n",
    "# to check whether the given number is armstrong or not\n",
    "# without using power function\n",
    "\n",
    "n = 153   # or n = int (input()) ->Taking input from user\n",
    "s = n # assiging input value to the s variable \n",
    "b = len(str(n))\n",
    "sum1 = 0\n",
    "while n != 0:\n",
    "    r = n % 10\n",
    "    sum1 = sum1 + (r**b)\n",
    "    n = n//10\n",
    "if s == sum1:\n",
    "    print(\"The given number\", s, \"is armstrong number\")\n",
    "else :\n",
    "    print(\"The given number\", s ,\"is not armstrong number\")\n",
    "    "
   ]
  },
  {
   "cell_type": "markdown",
   "id": "8d13ccd5",
   "metadata": {},
   "source": [
    "# Python Program for n-th Fibonacci number"
   ]
  },
  {
   "cell_type": "code",
   "execution_count": 41,
   "id": "689b8274",
   "metadata": {},
   "outputs": [
    {
     "name": "stdout",
     "output_type": "stream",
     "text": [
      "34\n"
     ]
    }
   ],
   "source": [
    "# Method 1 ( Use recursion ) :\n",
    "# Function for nth Fibonacci number\n",
    "\n",
    "def Fibonacci(n):\n",
    "    if n <=0:\n",
    "        print(\"Incorrect Input\")\n",
    "    # First Fibonacci number is 0\n",
    "    elif n ==1:\n",
    "        return 0\n",
    "    # Second Fibonacci Number is 1\n",
    "    elif n ==2:\n",
    "        return 1\n",
    "    else:\n",
    "        return Fibonacci(n-1)+Fibonacci(n-2)\n",
    "    \n",
    "# Driver Program\n",
    "print(Fibonacci(10))\n",
    "    \n",
    "    "
   ]
  },
  {
   "cell_type": "code",
   "execution_count": null,
   "id": "0b01e46d",
   "metadata": {},
   "outputs": [],
   "source": [
    "# Function for nth fibonacci number - Space Optimisation\n",
    "# Taking 1st two fibonacci numbers as 0 and 1\n",
    "\n",
    "def fibonacci(n):\n",
    "    a = 0\n",
    "    b = 1\n",
    "    if n < 0:\n",
    "        print(\"Incorrect Input\")\n",
    "    elif n == 0:\n",
    "        return a\n",
    "    elif n == 1:\n",
    "        return b\n",
    "    else:\n",
    "        for i in range(2,  n):\n",
    "            c = a + b\n",
    "            a = b\n",
    "            b = c\n",
    "            return c\n",
    "        "
   ]
  },
  {
   "cell_type": "code",
   "execution_count": null,
   "id": "ffad9d5a",
   "metadata": {},
   "outputs": [],
   "source": []
  }
 ],
 "metadata": {
  "kernelspec": {
   "display_name": "Python 3 (ipykernel)",
   "language": "python",
   "name": "python3"
  },
  "language_info": {
   "codemirror_mode": {
    "name": "ipython",
    "version": 3
   },
   "file_extension": ".py",
   "mimetype": "text/x-python",
   "name": "python",
   "nbconvert_exporter": "python",
   "pygments_lexer": "ipython3",
   "version": "3.9.13"
  }
 },
 "nbformat": 4,
 "nbformat_minor": 5
}
