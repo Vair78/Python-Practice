{
 "cells": [
  {
   "cell_type": "markdown",
   "id": "6149cba3",
   "metadata": {},
   "source": [
    "# PP-0 Basic of Python Programs"
   ]
  },
  {
   "cell_type": "markdown",
   "id": "834eb960",
   "metadata": {},
   "source": [
    "Q1. Python Program to Add two numbers:\n",
    "\n"
   ]
  },
  {
   "cell_type": "code",
   "execution_count": 1,
   "id": "00f5addb",
   "metadata": {},
   "outputs": [
    {
     "name": "stdout",
     "output_type": "stream",
     "text": [
      "First number :5\n",
      "second Number: 5\n",
      "The sum of 5 and 5 is 10.0\n"
     ]
    }
   ],
   "source": [
    "Num1 = input(\"First number :\")\n",
    "Num2 = input(\"second Number: \")\n",
    "\n",
    "#adding two number user might also enter float number\n",
    "\n",
    "sum = float(Num1) + float(Num2)\n",
    "\n",
    "# Display the Sum\n",
    "print(\"The sum of {} and {} is {}\".format(Num1, Num2, sum))\n"
   ]
  },
  {
   "cell_type": "markdown",
   "id": "16862aae",
   "metadata": {},
   "source": [
    "Q2. Maximum to two numbers in Python - using Max() function"
   ]
  },
  {
   "cell_type": "code",
   "execution_count": 2,
   "id": "59ffff7c",
   "metadata": {},
   "outputs": [
    {
     "name": "stdout",
     "output_type": "stream",
     "text": [
      "The maximum number is  5\n"
     ]
    }
   ],
   "source": [
    "a = 2 \n",
    "b = 5\n",
    "maximum = max(a,b)\n",
    "print(\"The maximum number is \",maximum)"
   ]
  },
  {
   "cell_type": "markdown",
   "id": "a4e133ef",
   "metadata": {},
   "source": [
    "Q3.factorial of a number - Recursive"
   ]
  },
  {
   "cell_type": "code",
   "execution_count": 3,
   "id": "3fc49381",
   "metadata": {},
   "outputs": [
    {
     "name": "stdout",
     "output_type": "stream",
     "text": [
      "enter the number5\n",
      "Factorial of 5 is\n"
     ]
    }
   ],
   "source": [
    "# factorial of given number \n",
    "\n",
    "def factorial(n):\n",
    "    # singel line to find factorial\n",
    "    return 1 if (n ==1 or n ==0) else n * factorial(n-1);\n",
    "\n",
    "num = int(input(\"enter the number\"))\n",
    "print(\"Factorial of\",num,'is')\n"
   ]
  },
  {
   "cell_type": "markdown",
   "id": "c76df5f7",
   "metadata": {},
   "source": [
    "Q4. Python program to to get the python version you are using ?"
   ]
  },
  {
   "cell_type": "code",
   "execution_count": 4,
   "id": "aa23bc53",
   "metadata": {},
   "outputs": [
    {
     "name": "stdout",
     "output_type": "stream",
     "text": [
      "Python version\n",
      "3.9.13 (main, Aug 25 2022, 23:51:50) [MSC v.1916 64 bit (AMD64)]\n",
      "Version info.\n",
      "sys.version_info(major=3, minor=9, micro=13, releaselevel='final', serial=0)\n"
     ]
    }
   ],
   "source": [
    "import sys\n",
    "print(\"Python version\")\n",
    "print(sys.version)\n",
    "print(\"Version info.\")\n",
    "print(sys.version_info)"
   ]
  },
  {
   "cell_type": "markdown",
   "id": "56f6234e",
   "metadata": {},
   "source": [
    "Q5. Python program to display the current date and time"
   ]
  },
  {
   "cell_type": "code",
   "execution_count": 5,
   "id": "8a5d4835",
   "metadata": {},
   "outputs": [
    {
     "name": "stdout",
     "output_type": "stream",
     "text": [
      "Current date and time: \n",
      "2023 -04-25 18:17:10\n"
     ]
    }
   ],
   "source": [
    "import datetime\n",
    "now = datetime.datetime.now()\n",
    "print(\"Current date and time: \")\n",
    "print(now.strftime(\"%Y -%m-%d %H:%M:%S\"))"
   ]
  },
  {
   "cell_type": "code",
   "execution_count": 6,
   "id": "fc7ed97d",
   "metadata": {},
   "outputs": [
    {
     "ename": "SyntaxError",
     "evalue": "invalid syntax (2695122276.py, line 1)",
     "output_type": "error",
     "traceback": [
      "\u001b[1;36m  File \u001b[1;32m\"C:\\Users\\Digital Next\\AppData\\Local\\Temp\\ipykernel_2848\\2695122276.py\"\u001b[1;36m, line \u001b[1;32m1\u001b[0m\n\u001b[1;33m    Q6. Python program to which accepts the radis of circle from the User and compute the Area.\u001b[0m\n\u001b[1;37m               ^\u001b[0m\n\u001b[1;31mSyntaxError\u001b[0m\u001b[1;31m:\u001b[0m invalid syntax\n"
     ]
    }
   ],
   "source": [
    "Q6. Python program to which accepts the radis of circle from the User and compute the Area."
   ]
  },
  {
   "cell_type": "code",
   "execution_count": 9,
   "id": "17b1e7a9",
   "metadata": {},
   "outputs": [
    {
     "name": "stdout",
     "output_type": "stream",
     "text": [
      "Input the radius of the circle :2\n",
      "The area of the circle with radius 2.0 is :12.566370614359172\n"
     ]
    }
   ],
   "source": [
    "# Circle of Radios is r is PIR2.  Pi is 3.14159 which is equal to the ratio of circumference of any Circle to its Diameter\n",
    "\n",
    "from math import pi\n",
    "r = float(input(\"Input the radius of the circle :\"))\n",
    "print(\"The area of the circle with radius \" + str(r) + \" is :\" +str(pi*r**2))\n"
   ]
  },
  {
   "cell_type": "markdown",
   "id": "02e58d6a",
   "metadata": {},
   "source": [
    "Q7. Which accepts the User's First and last name and print them in reverse order with a space between them."
   ]
  },
  {
   "cell_type": "code",
   "execution_count": 11,
   "id": "7cb1cac9",
   "metadata": {},
   "outputs": [
    {
     "name": "stdout",
     "output_type": "stream",
     "text": [
      "Input your first name :vai\n",
      "Input your last name: last\n",
      "Hello last vai\n"
     ]
    }
   ],
   "source": [
    "fname= input(\"Input your first name :\")\n",
    "lname = input(\"Input your last name: \")\n",
    "print(\"Hello \" +lname +\" \" + fname)"
   ]
  },
  {
   "cell_type": "markdown",
   "id": "3aff23f7",
   "metadata": {},
   "source": [
    "Q8. Sequence of comma-seperated numbers from user and generate a list and a tuple with those numbers;"
   ]
  },
  {
   "cell_type": "code",
   "execution_count": 12,
   "id": "faf85e5e",
   "metadata": {},
   "outputs": [
    {
     "name": "stdout",
     "output_type": "stream",
     "text": [
      "Input some commea seperated number: 2,3,4,5,6\n",
      "List : ['2', '3', '4', '5', '6']\n",
      "Tuple : ('2', '3', '4', '5', '6')\n"
     ]
    }
   ],
   "source": [
    "value = input(\"Input some commea seperated number: \")\n",
    "list = value.split(\",\")\n",
    "tuple = tuple(list)\n",
    "print('List :', list)\n",
    "print('Tuple :', tuple)"
   ]
  },
  {
   "cell_type": "markdown",
   "id": "03b6f706",
   "metadata": {},
   "source": [
    "Q9. accept a filename from the user and print the extension of that"
   ]
  },
  {
   "cell_type": "code",
   "execution_count": 13,
   "id": "b7787aee",
   "metadata": {},
   "outputs": [
    {
     "name": "stdout",
     "output_type": "stream",
     "text": [
      "Input the Filename :and.python\n",
      "The extension of the file is :'python'\n"
     ]
    }
   ],
   "source": [
    "filename = input(\"Input the Filename :\")\n",
    "f_extns = filename.split(\".\")\n",
    "print(\"The extension of the file is :\"+ repr(f_extns[-1]))"
   ]
  },
  {
   "cell_type": "code",
   "execution_count": 14,
   "id": "8ac21de2",
   "metadata": {},
   "outputs": [
    {
     "ename": "SyntaxError",
     "evalue": "invalid syntax (3984454974.py, line 1)",
     "output_type": "error",
     "traceback": [
      "\u001b[1;36m  File \u001b[1;32m\"C:\\Users\\Digital Next\\AppData\\Local\\Temp\\ipykernel_2848\\3984454974.py\"\u001b[1;36m, line \u001b[1;32m1\u001b[0m\n\u001b[1;33m    Q10. To Diplay the first and last colours from the Following list.\u001b[0m\n\u001b[1;37m            ^\u001b[0m\n\u001b[1;31mSyntaxError\u001b[0m\u001b[1;31m:\u001b[0m invalid syntax\n"
     ]
    }
   ],
   "source": [
    "Q10. To Diplay the first and last colours from the Following list."
   ]
  },
  {
   "cell_type": "code",
   "execution_count": 16,
   "id": "bc349851",
   "metadata": {},
   "outputs": [
    {
     "name": "stdout",
     "output_type": "stream",
     "text": [
      "Red Black\n"
     ]
    }
   ],
   "source": [
    "color_list = [\"Red\",\"Green\",\"White\",\"Black\"]\n",
    "\n",
    "print(\"%s %s\" %(color_list[0], color_list[-1]))"
   ]
  },
  {
   "cell_type": "code",
   "execution_count": 17,
   "id": "6717bd42",
   "metadata": {},
   "outputs": [
    {
     "ename": "SyntaxError",
     "evalue": "invalid syntax (1842126124.py, line 1)",
     "output_type": "error",
     "traceback": [
      "\u001b[1;36m  File \u001b[1;32m\"C:\\Users\\Digital Next\\AppData\\Local\\Temp\\ipykernel_2848\\1842126124.py\"\u001b[1;36m, line \u001b[1;32m1\u001b[0m\n\u001b[1;33m    Q11. display the examination schedule. (Extract the date from exam_st_date)\u001b[0m\n\u001b[1;37m                 ^\u001b[0m\n\u001b[1;31mSyntaxError\u001b[0m\u001b[1;31m:\u001b[0m invalid syntax\n"
     ]
    }
   ],
   "source": [
    "Q11. display the examination schedule. (Extract the date from exam_st_date)"
   ]
  },
  {
   "cell_type": "code",
   "execution_count": 20,
   "id": "4b9f81c3",
   "metadata": {},
   "outputs": [
    {
     "name": "stdout",
     "output_type": "stream",
     "text": [
      "The examinatin will start from : 11/12/2014\n"
     ]
    }
   ],
   "source": [
    "exam_st_date = (11, 12, 2014)\n",
    "\n",
    "print(\"The examinatin will start from : %i/%i/%i\"%exam_st_date)"
   ]
  },
  {
   "cell_type": "markdown",
   "id": "220ea673",
   "metadata": {},
   "source": [
    "Q12. Accepts and Integer (n) and computes the value of n+nn+nnn."
   ]
  },
  {
   "cell_type": "code",
   "execution_count": 27,
   "id": "9476dc92",
   "metadata": {},
   "outputs": [
    {
     "name": "stdout",
     "output_type": "stream",
     "text": [
      "input an integer :5\n",
      "615\n"
     ]
    }
   ],
   "source": [
    "a = int(input(\"input an integer :\"))\n",
    "n1 = int(\"%s\" %a )\n",
    "n2 = int(\"%s%s\" %(a,a))\n",
    "n3 = int(\"%s%s%s\" % (a,a,a))\n",
    "print(n1 + n2 +n3)"
   ]
  },
  {
   "cell_type": "markdown",
   "id": "a0fa09a3",
   "metadata": {},
   "source": [
    "Q13. Print the document (syntax, description etc). of Python built-in-funciton"
   ]
  },
  {
   "cell_type": "code",
   "execution_count": 33,
   "id": "da025898",
   "metadata": {},
   "outputs": [
    {
     "name": "stdout",
     "output_type": "stream",
     "text": [
      "Return the absolute value of the argument.\n"
     ]
    }
   ],
   "source": [
    "print(abs.__doc__)"
   ]
  },
  {
   "cell_type": "markdown",
   "id": "bbc2a953",
   "metadata": {},
   "source": [
    "Q14. Print the calender of a given month and year"
   ]
  },
  {
   "cell_type": "code",
   "execution_count": 36,
   "id": "d5e9370a",
   "metadata": {},
   "outputs": [
    {
     "name": "stdout",
     "output_type": "stream",
     "text": [
      "Input the year :2022\n",
      "Input the month :05\n",
      "      May 2022\n",
      "Mo Tu We Th Fr Sa Su\n",
      "                   1\n",
      " 2  3  4  5  6  7  8\n",
      " 9 10 11 12 13 14 15\n",
      "16 17 18 19 20 21 22\n",
      "23 24 25 26 27 28 29\n",
      "30 31\n",
      "\n"
     ]
    }
   ],
   "source": [
    "import calendar\n",
    "y = int(input(\"Input the year :\"))\n",
    "m = int(input(\"Input the month :\"))\n",
    "print(calendar.month(y,m))"
   ]
  },
  {
   "cell_type": "markdown",
   "id": "e8a705c7",
   "metadata": {},
   "source": [
    "Q15. Print the follwing \"Here document\""
   ]
  },
  {
   "cell_type": "code",
   "execution_count": 38,
   "id": "f64edb39",
   "metadata": {},
   "outputs": [
    {
     "name": "stdout",
     "output_type": "stream",
     "text": [
      "\n",
      "a string that you dont't have to escape \n",
      "This\n",
      "is a ...... multi-line\n",
      "heredoc string------ > example \n",
      "\n"
     ]
    }
   ],
   "source": [
    "print(\"\"\"\n",
    "a string that you dont't have to escape \n",
    "This\n",
    "is a ...... multi-line\n",
    "heredoc string------ > example \n",
    "\"\"\")"
   ]
  },
  {
   "cell_type": "markdown",
   "id": "a4b8f649",
   "metadata": {},
   "source": [
    "Q16. Calculate number of days between two dates."
   ]
  },
  {
   "cell_type": "code",
   "execution_count": 41,
   "id": "0629c47f",
   "metadata": {},
   "outputs": [
    {
     "name": "stdout",
     "output_type": "stream",
     "text": [
      "374\n"
     ]
    }
   ],
   "source": [
    "from datetime import date\n",
    "f_date = date(2014,7,2)\n",
    "l_date = date(2015,7,11)\n",
    "delta = l_date - f_date\n",
    "print(delta.days)"
   ]
  },
  {
   "cell_type": "markdown",
   "id": "da363b3f",
   "metadata": {},
   "source": [
    "Q17. Get the volumne of a sphare with radius 6."
   ]
  },
  {
   "cell_type": "code",
   "execution_count": 43,
   "id": "d827a095",
   "metadata": {},
   "outputs": [
    {
     "name": "stdout",
     "output_type": "stream",
     "text": [
      "The Volumne of the sphare is : 904.752\n"
     ]
    }
   ],
   "source": [
    "pi = 3.1415\n",
    "r = 6.0\n",
    "v = 4.0 /3.0*pi*r**3\n",
    "print(\"The Volumne of the sphare is :\", v)"
   ]
  },
  {
   "cell_type": "markdown",
   "id": "6d2a4d12",
   "metadata": {},
   "source": [
    "Q18. get the difference between a given number and 17. if the number is greater than 17 return double the absoulte differnce."
   ]
  },
  {
   "cell_type": "code",
   "execution_count": 44,
   "id": "d1b7028f",
   "metadata": {},
   "outputs": [
    {
     "name": "stdout",
     "output_type": "stream",
     "text": [
      "10\n",
      "2\n"
     ]
    }
   ],
   "source": [
    "def differnce(n):\n",
    "    if n <=17 :\n",
    "        return 17 -n\n",
    "    else:\n",
    "        return(n-17) *2\n",
    "print(differnce(22))\n",
    "print(differnce(15))\n"
   ]
  },
  {
   "cell_type": "code",
   "execution_count": null,
   "id": "51c827a3",
   "metadata": {},
   "outputs": [],
   "source": []
  }
 ],
 "metadata": {
  "kernelspec": {
   "display_name": "Python 3 (ipykernel)",
   "language": "python",
   "name": "python3"
  },
  "language_info": {
   "codemirror_mode": {
    "name": "ipython",
    "version": 3
   },
   "file_extension": ".py",
   "mimetype": "text/x-python",
   "name": "python",
   "nbconvert_exporter": "python",
   "pygments_lexer": "ipython3",
   "version": "3.9.13"
  }
 },
 "nbformat": 4,
 "nbformat_minor": 5
}
