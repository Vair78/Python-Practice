{
 "cells": [
  {
   "cell_type": "markdown",
   "id": "d8fbc2b7",
   "metadata": {},
   "source": [
    " # For Loop"
   ]
  },
  {
   "cell_type": "code",
   "execution_count": 1,
   "id": "bf3b3982",
   "metadata": {},
   "outputs": [
    {
     "name": "stdout",
     "output_type": "stream",
     "text": [
      "Java\n",
      "javascript\n",
      "HTML\n",
      "CSS\n"
     ]
    }
   ],
   "source": [
    "# Example - 1\n",
    "# Print each fruit in a fruit list:\n",
    "\n",
    "language = [\"Java\",\"javascript\",\"HTML\",\"CSS\"]\n",
    "\n",
    "for x in language:\n",
    "    print(x)\n",
    "    "
   ]
  },
  {
   "cell_type": "code",
   "execution_count": 4,
   "id": "bd799b60",
   "metadata": {},
   "outputs": [
    {
     "name": "stdout",
     "output_type": "stream",
     "text": [
      "p\n",
      "y\n",
      "t\n",
      "h\n",
      "o\n",
      "n\n"
     ]
    }
   ],
   "source": [
    "# Example - 2\n",
    "#  Loop through the letters in the word\"python\":\n",
    "\n",
    "for x in \"python\":\n",
    "    print(x)"
   ]
  },
  {
   "cell_type": "code",
   "execution_count": 7,
   "id": "edd8b4b3",
   "metadata": {},
   "outputs": [
    {
     "name": "stdout",
     "output_type": "stream",
     "text": [
      "js\n",
      "HTML\n",
      "Css\n"
     ]
    }
   ],
   "source": [
    "# Example - 3\n",
    "# Exit the loop When x is \"Css\":\n",
    "\n",
    "language = [\"js\",\"HTML\",\"Css\",\"java\",\"Python\"]\n",
    "for x in language:\n",
    "    print(x)\n",
    "    if x ==\"Css\":\n",
    "        break"
   ]
  },
  {
   "cell_type": "code",
   "execution_count": 9,
   "id": "18e871da",
   "metadata": {},
   "outputs": [
    {
     "name": "stdout",
     "output_type": "stream",
     "text": [
      "js\n",
      "CSS\n",
      "htM\n",
      "PYthon\n"
     ]
    }
   ],
   "source": [
    "# Example - 4\n",
    "# exit the loop when x is \"html\", but this time the break comes before the print:\n",
    "\n",
    "language = [\"js\",\"CSS\",\"htM\",\"PYthon\",\"html\",\"java\"]\n",
    "for x in language:\n",
    "    \n",
    "    if x ==\"html\":\n",
    "        break\n",
    "    print(x)"
   ]
  },
  {
   "cell_type": "code",
   "execution_count": 5,
   "id": "72c82185",
   "metadata": {},
   "outputs": [
    {
     "name": "stdout",
     "output_type": "stream",
     "text": [
      "js\n",
      "Html\n",
      "css\n",
      "java\n",
      "Python\n"
     ]
    }
   ],
   "source": [
    "# Example - 5\n",
    "# Do Not Print css\n",
    "\n",
    "language = [\"js\",\"Html\",\"css\",\"java\",\"Python\"]\n",
    "for x in language:\n",
    "    \n",
    "    if x ==\"css\":\n",
    "        pass\n",
    "    print(x)"
   ]
  },
  {
   "cell_type": "code",
   "execution_count": 8,
   "id": "75c229ec",
   "metadata": {},
   "outputs": [
    {
     "name": "stdout",
     "output_type": "stream",
     "text": [
      "0\n",
      "1\n",
      "2\n",
      "3\n",
      "4\n"
     ]
    }
   ],
   "source": [
    "# Example - 6 \n",
    "# Using the Range() function:\n",
    "\n",
    "for x in range(5):\n",
    "    print(x)"
   ]
  },
  {
   "cell_type": "code",
   "execution_count": 16,
   "id": "51c16e71",
   "metadata": {},
   "outputs": [
    {
     "name": "stdout",
     "output_type": "stream",
     "text": [
      "1\n",
      "3\n",
      "5\n",
      "7\n",
      "9\n"
     ]
    }
   ],
   "source": [
    "# Example - 7\n",
    "# using the Start Parameter:\n",
    "\n",
    "for x in range(1,10,2):\n",
    "    print(x)"
   ]
  },
  {
   "cell_type": "code",
   "execution_count": 18,
   "id": "d8af24fe",
   "metadata": {},
   "outputs": [
    {
     "name": "stdout",
     "output_type": "stream",
     "text": [
      "2\n",
      "5\n",
      "8\n",
      "11\n",
      "14\n",
      "17\n",
      "20\n",
      "23\n",
      "26\n",
      "29\n"
     ]
    }
   ],
   "source": [
    "# Example - 8\n",
    "# Increment the sequnce with 3 (default is 1)\n",
    "\n",
    "for x in range(2,30,3):\n",
    "    print(x)"
   ]
  },
  {
   "cell_type": "code",
   "execution_count": 19,
   "id": "7ab1628b",
   "metadata": {},
   "outputs": [
    {
     "name": "stdout",
     "output_type": "stream",
     "text": [
      "0\n",
      "1\n",
      "2\n",
      "3\n",
      "4\n",
      "5\n",
      "Finally Finished !\n"
     ]
    }
   ],
   "source": [
    "# Example - 9\n",
    "# Print all numbers from 0 to 5, and print a message  when the loop has ended:\n",
    "\n",
    "for x in range(6):\n",
    "    print(x)\n",
    "else:\n",
    "    print(\"Finally Finished !\")"
   ]
  },
  {
   "cell_type": "code",
   "execution_count": 24,
   "id": "d5dc9f49",
   "metadata": {},
   "outputs": [
    {
     "name": "stdout",
     "output_type": "stream",
     "text": [
      "0\n",
      "1\n",
      "2\n"
     ]
    }
   ],
   "source": [
    "# Example - 10\n",
    "# Break the loop when x is 3 and see what happens with the else block\n",
    "\n",
    "for x in range(7):\n",
    "    if x==3:\n",
    "        break\n",
    "    print(x)\n",
    "else:\n",
    "    print(\"Loop is stoped at 3\")"
   ]
  },
  {
   "cell_type": "code",
   "execution_count": 40,
   "id": "26f9c58b",
   "metadata": {},
   "outputs": [
    {
     "name": "stdout",
     "output_type": "stream",
     "text": [
      "1 Tom\n",
      "1 ram\n",
      "1 yash\n",
      "2 Tom\n",
      "2 ram\n",
      "2 yash\n",
      "3 Tom\n",
      "3 ram\n",
      "3 yash\n"
     ]
    }
   ],
   "source": [
    "# Example - 11\n",
    "# print each adjective for every fruit:\n",
    "\n",
    "num = [1,2,3]\n",
    "name =[\"Tom\",\"ram\",\"yash\"]\n",
    "\n",
    "for x in num:\n",
    "    for y in name:\n",
    "        print(x,y)"
   ]
  },
  {
   "cell_type": "code",
   "execution_count": 44,
   "id": "84b9470b",
   "metadata": {},
   "outputs": [
    {
     "name": "stdout",
     "output_type": "stream",
     "text": [
      "The sum is 55\n"
     ]
    }
   ],
   "source": [
    "# Example - 12\n",
    "# Program to find the sum of all number  stored in a list\n",
    "\n",
    "num = [1,2,3,4,5,6,7,8,9,10]\n",
    "sum = 0\n",
    "\n",
    "for x in num:\n",
    "    sum = sum + x\n",
    "print(\"The sum is\",sum)"
   ]
  },
  {
   "cell_type": "code",
   "execution_count": 47,
   "id": "d6cf278b",
   "metadata": {},
   "outputs": [
    {
     "name": "stdout",
     "output_type": "stream",
     "text": [
      "range(0, 10)\n",
      "[0, 1, 2, 3, 4, 5, 6, 7, 8, 9]\n",
      "[2, 3, 4, 5, 6, 7]\n",
      "[2, 5, 8, 11, 14, 17]\n"
     ]
    }
   ],
   "source": [
    "# Example - 13\n",
    "\n",
    "print(range(10))\n",
    "print(list(range(10)))\n",
    "print(list(range(2,8)))\n",
    "print(list(range(2,20,3)))"
   ]
  },
  {
   "cell_type": "code",
   "execution_count": 51,
   "id": "3174b878",
   "metadata": {},
   "outputs": [
    {
     "name": "stdout",
     "output_type": "stream",
     "text": [
      "I Like java\n",
      "I Like Html\n",
      "I Like css\n",
      "I Like python\n"
     ]
    }
   ],
   "source": [
    "# Example - 14\n",
    "# Program to Iterate through a list using indexing\n",
    "\n",
    "lang = [\"java\",\"Html\",\"css\",\"python\"]\n",
    "\n",
    "for i in range(len(lang)):\n",
    "    print(\"I Like\",lang[i])"
   ]
  },
  {
   "cell_type": "code",
   "execution_count": 54,
   "id": "760b63fe",
   "metadata": {},
   "outputs": [
    {
     "name": "stdout",
     "output_type": "stream",
     "text": [
      "0\n",
      "1\n",
      "5\n",
      "No items left\n"
     ]
    }
   ],
   "source": [
    "# Example - 15\n",
    "\n",
    "digits = [0,1,5]\n",
    "\n",
    "for i in digits:\n",
    "    print(i)\n",
    "else:\n",
    "    print(\"No items left\")"
   ]
  },
  {
   "cell_type": "code",
   "execution_count": 64,
   "id": "9388ad65",
   "metadata": {},
   "outputs": [
    {
     "name": "stdout",
     "output_type": "stream",
     "text": [
      "No entry with that name\n"
     ]
    }
   ],
   "source": [
    "# Example - 16\n",
    "\n",
    "# program to display students's mark form record\n",
    "\n",
    "student_name =\"rahs\"\n",
    "\n",
    "marks ={\"james\": 90 ,\"june\": 50,\"suraj\":55, \"Yahs\":66}\n",
    "\n",
    "for student in marks:\n",
    "    if student == student_name:\n",
    "        print(marks[student])\n",
    "        break\n",
    "else:\n",
    "    print(\"No entry with that name\")\n"
   ]
  },
  {
   "cell_type": "code",
   "execution_count": 2,
   "id": "726d6967",
   "metadata": {},
   "outputs": [
    {
     "name": "stdout",
     "output_type": "stream",
     "text": [
      "I love Python\n",
      "I love Python\n",
      "I love Python\n",
      "I love Python\n",
      "I love Python\n"
     ]
    }
   ],
   "source": [
    "# Example - 17\n",
    "# Python Program to Illustrate with While Loop\n",
    "\n",
    "count = 0\n",
    "while (count<5):\n",
    "    count = count +1\n",
    "    print(\"I love Python\")"
   ]
  },
  {
   "cell_type": "code",
   "execution_count": 1,
   "id": "47168017",
   "metadata": {},
   "outputs": [
    {
     "name": "stdout",
     "output_type": "stream",
     "text": [
      "I love python\n",
      "I love python\n",
      "I love python\n",
      "In Else Block\n"
     ]
    }
   ],
   "source": [
    "# Example - 18\n",
    "# Python progra mto illustrate \n",
    "# Combining else with while\n",
    "\n",
    "count = 0\n",
    "while (count <3):\n",
    "    count= count +1\n",
    "    print(\"I love python\")\n",
    "else:\n",
    "    print(\"In Else Block\")"
   ]
  },
  {
   "cell_type": "code",
   "execution_count": 2,
   "id": "5aab4dbe",
   "metadata": {},
   "outputs": [],
   "source": [
    "# Example - 19\n",
    "# Python program to Illustrate\n",
    "# Single statement while block\n",
    "\n",
    "count =5 \n",
    "while(count == 3):print(\"Hello world\")"
   ]
  },
  {
   "cell_type": "code",
   "execution_count": 3,
   "id": "a7145a20",
   "metadata": {},
   "outputs": [
    {
     "name": "stdout",
     "output_type": "stream",
     "text": [
      "0\n",
      "1\n",
      "2\n",
      "3\n"
     ]
    }
   ],
   "source": [
    "# Example - 20\n",
    "# Python program to illustrate # Iterating Over range 0 to n-1\n",
    "\n",
    "n = 4\n",
    "for i in range(0,n):\n",
    "    print(i)"
   ]
  },
  {
   "cell_type": "code",
   "execution_count": 8,
   "id": "38e2d703",
   "metadata": {},
   "outputs": [
    {
     "name": "stdout",
     "output_type": "stream",
     "text": [
      "List Iteration\n",
      "Java\n",
      "HTML\n",
      "CSS\n",
      "\n",
      " tuple Iteration\n",
      "Welcome\n",
      "To\n",
      "Python\n",
      "\n",
      " String Iteration\n",
      "G\n",
      "e\n",
      "e\n",
      "k\n",
      "s\n",
      "\n",
      "Dictionary Iteration\n",
      "xyz 123\n",
      "abc 345\n",
      "\n",
      " Set Iteration\n",
      "1\n",
      "2\n",
      "3\n",
      "4\n",
      "5\n",
      "6\n"
     ]
    }
   ],
   "source": [
    "# Example - 21\n",
    "# Python Progarm to Illustrate # iterating Over a list\n",
    "\n",
    "print(\"List Iteration\")\n",
    "I =[\"Java\",\"HTML\",\"CSS\"]\n",
    "for i in I:\n",
    "    print(i)\n",
    "    \n",
    "    \n",
    "# Iterating Over A tuple(Immutable)\n",
    "print(\"\\n tuple Iteration\")\n",
    "t =(\"Welcome\",\"To\",\"Python\")\n",
    "for i in t:\n",
    "    print(i)\n",
    "    \n",
    "# Iterating OVer a string\n",
    "print(\"\\n String Iteration\")\n",
    "s =\"Geeks\"\n",
    "for i in s:\n",
    "    print(i)\n",
    "    \n",
    "#Iterating OVer Dictionary\n",
    "print(\"\\nDictionary Iteration\")\n",
    "d = dict()\n",
    "d['xyz'] = 123\n",
    "d['abc'] = 345\n",
    "\n",
    "for i in d:\n",
    "    print(\"%s %d\" %(i,d[i]))\n",
    "    \n",
    "# Iterating OVer A set\n",
    "\n",
    "print(\"\\n Set Iteration\")\n",
    "set1 = {1,2,3,4,5,6}\n",
    "for i in set1:\n",
    "    print(i)"
   ]
  },
  {
   "cell_type": "code",
   "execution_count": 9,
   "id": "a149a385",
   "metadata": {},
   "outputs": [
    {
     "name": "stdout",
     "output_type": "stream",
     "text": [
      "Welcome\n",
      "to\n",
      "Python\n",
      "World\n"
     ]
    }
   ],
   "source": [
    "# Example - 22\n",
    "# Python Program to Illustrate\n",
    "# Iterating by Index\n",
    "\n",
    "list =[\"Welcome\",\"to\",\"Python\",\"World\"]\n",
    "for index in range(len(list)):\n",
    "    print(list[index])"
   ]
  },
  {
   "cell_type": "code",
   "execution_count": 10,
   "id": "c87eaba6",
   "metadata": {},
   "outputs": [
    {
     "name": "stdout",
     "output_type": "stream",
     "text": [
      "ram\n",
      "shyam\n",
      "rom\n",
      "gan\n",
      "inside Else Block\n"
     ]
    }
   ],
   "source": [
    "# Example - 23\n",
    "#Python to Illustrate to COmbining else with for\n",
    "\n",
    "list = [\"ram\",'shyam','rom','gan']\n",
    "\n",
    "for index in range(len(list)):\n",
    "    print(list[index])\n",
    "else:\n",
    "    print(\"inside Else Block\")"
   ]
  },
  {
   "cell_type": "code",
   "execution_count": 14,
   "id": "f955d266",
   "metadata": {},
   "outputs": [
    {
     "name": "stdout",
     "output_type": "stream",
     "text": [
      "1\n",
      "22\n",
      "333\n",
      "4444\n"
     ]
    }
   ],
   "source": [
    "# Example - 24\n",
    "# Python Program to Illustrate nested for Loops in Python\n",
    "\n",
    "\n",
    "for i in range(1,5):\n",
    "    for j in range(i):\n",
    "        print(i,end='')\n",
    "    print()"
   ]
  },
  {
   "cell_type": "code",
   "execution_count": 26,
   "id": "fb02bf9c",
   "metadata": {},
   "outputs": [
    {
     "name": "stdout",
     "output_type": "stream",
     "text": [
      "CUrrent Letter: H\n",
      "CUrrent Letter: o\n"
     ]
    }
   ],
   "source": [
    "# Example - 25\n",
    "\n",
    "for letter in \"Hello\":\n",
    "    if letter =='e' or letter =='l':\n",
    "        continue\n",
    "    print(\"CUrrent Letter:\",letter)\n",
    "    var = 20"
   ]
  },
  {
   "cell_type": "code",
   "execution_count": 30,
   "id": "6988c4fa",
   "metadata": {},
   "outputs": [
    {
     "name": "stdout",
     "output_type": "stream",
     "text": [
      "Current Letter: e\n"
     ]
    }
   ],
   "source": [
    "# Example - 26\n",
    "\n",
    "for letter in \"Welcome\":\n",
    "    if letter =='e' or letter =='c':\n",
    "        break\n",
    "print(\"Current Letter:\",letter)"
   ]
  },
  {
   "cell_type": "code",
   "execution_count": 32,
   "id": "fc6fe59b",
   "metadata": {},
   "outputs": [
    {
     "name": "stdout",
     "output_type": "stream",
     "text": [
      " Letter: e\n"
     ]
    }
   ],
   "source": [
    "# Example -27\n",
    "\n",
    "for letter in \"welcome\":\n",
    "    pass\n",
    "print(\" Last Letter:\",letter)"
   ]
  },
  {
   "cell_type": "code",
   "execution_count": 34,
   "id": "ccc1b68f",
   "metadata": {},
   "outputs": [
    {
     "name": "stdout",
     "output_type": "stream",
     "text": [
      "tom\n",
      "neo\n",
      "daya\n"
     ]
    }
   ],
   "source": [
    "# Example - 28\n",
    "# A simple for loop example \n",
    "\n",
    "name = [\"tom\",\"neo\",\"daya\"]\n",
    "\n",
    "for a in name:\n",
    "    print(a)"
   ]
  },
  {
   "cell_type": "code",
   "execution_count": null,
   "id": "02c5d7ac",
   "metadata": {},
   "outputs": [],
   "source": []
  }
 ],
 "metadata": {
  "kernelspec": {
   "display_name": "Python 3 (ipykernel)",
   "language": "python",
   "name": "python3"
  },
  "language_info": {
   "codemirror_mode": {
    "name": "ipython",
    "version": 3
   },
   "file_extension": ".py",
   "mimetype": "text/x-python",
   "name": "python",
   "nbconvert_exporter": "python",
   "pygments_lexer": "ipython3",
   "version": "3.9.13"
  }
 },
 "nbformat": 4,
 "nbformat_minor": 5
}
