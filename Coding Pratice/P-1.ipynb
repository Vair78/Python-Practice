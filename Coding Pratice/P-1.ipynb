{
 "cells": [
  {
   "cell_type": "markdown",
   "id": "4f9fb326",
   "metadata": {},
   "source": [
    "# Practice Python Program- Basic"
   ]
  },
  {
   "cell_type": "markdown",
   "id": "5bba713e",
   "metadata": {},
   "source": [
    "# Syntax"
   ]
  },
  {
   "cell_type": "code",
   "execution_count": 1,
   "id": "f2959769",
   "metadata": {},
   "outputs": [
    {
     "name": "stdout",
     "output_type": "stream",
     "text": [
      "Hello Python User\n"
     ]
    }
   ],
   "source": [
    "# Example -1\n",
    "\n",
    "print(\"Hello Python User\")"
   ]
  },
  {
   "cell_type": "code",
   "execution_count": 2,
   "id": "b8e0fd66",
   "metadata": {},
   "outputs": [
    {
     "name": "stdout",
     "output_type": "stream",
     "text": [
      "Ten is Greater than Five\n"
     ]
    }
   ],
   "source": [
    "# Example -2\n",
    "if 10 > 5:\n",
    "    print(\"Ten is Greater than Five\")"
   ]
  },
  {
   "cell_type": "code",
   "execution_count": 10,
   "id": "68c6978d",
   "metadata": {},
   "outputs": [
    {
     "name": "stdout",
     "output_type": "stream",
     "text": [
      "Ten is less than Five\n",
      "Five is less than ten\n"
     ]
    }
   ],
   "source": [
    "# Example -3\n",
    "if 10 > 5 :\n",
    "    print(\"Ten is less than Five\")\n",
    "    \n",
    "if  5<10 :\n",
    "    print('Five is less than ten')"
   ]
  },
  {
   "cell_type": "markdown",
   "id": "53ee0a22",
   "metadata": {},
   "source": [
    "# Variable Local /Global"
   ]
  },
  {
   "cell_type": "code",
   "execution_count": 12,
   "id": "a9c4f488",
   "metadata": {},
   "outputs": [
    {
     "name": "stdout",
     "output_type": "stream",
     "text": [
      "10\n",
      "Python\n"
     ]
    }
   ],
   "source": [
    "# Example -1\n",
    "x = 10\n",
    "y = \"Python\"\n",
    "print(x)\n",
    "print(y)"
   ]
  },
  {
   "cell_type": "code",
   "execution_count": 13,
   "id": "ffed7418",
   "metadata": {},
   "outputs": [
    {
     "name": "stdout",
     "output_type": "stream",
     "text": [
      "Welcome To Python world\n"
     ]
    }
   ],
   "source": [
    "# Example -2\n",
    "a = 10   # a is type int\n",
    "a =\"Welcome To Python world\"  # a is now type str\n",
    "print(a)"
   ]
  },
  {
   "cell_type": "code",
   "execution_count": 16,
   "id": "38040d03",
   "metadata": {},
   "outputs": [
    {
     "name": "stdout",
     "output_type": "stream",
     "text": [
      "10 20 30.0\n"
     ]
    }
   ],
   "source": [
    "# Example -3\n",
    "x = str(10)  # x will be '10\n",
    "y = int(20)  # y will be '20'\n",
    "z = float(30)  # z will be 30.0\n",
    "\n",
    "\n",
    "print(x,y,z)"
   ]
  },
  {
   "cell_type": "code",
   "execution_count": 17,
   "id": "c39a7dcc",
   "metadata": {},
   "outputs": [
    {
     "name": "stdout",
     "output_type": "stream",
     "text": [
      "<class 'int'>\n",
      "<class 'str'>\n"
     ]
    }
   ],
   "source": [
    "# Example -4 : Get the Type\n",
    "a =10\n",
    "b = \"Python\"\n",
    "print(type(a))\n",
    "print(type(b))\n"
   ]
  },
  {
   "cell_type": "code",
   "execution_count": 19,
   "id": "15ab4f56",
   "metadata": {},
   "outputs": [
    {
     "name": "stdout",
     "output_type": "stream",
     "text": [
      "Python\n",
      "Python\n"
     ]
    }
   ],
   "source": [
    "# Example -5 - Single or Double Quotes\n",
    "a =\"Python\"\n",
    "b='Python'\n",
    "\n",
    "print(a)\n",
    "print(b)"
   ]
  },
  {
   "cell_type": "code",
   "execution_count": 20,
   "id": "d43426d7",
   "metadata": {},
   "outputs": [
    {
     "name": "stdout",
     "output_type": "stream",
     "text": [
      "100\n",
      "Hello\n"
     ]
    }
   ],
   "source": [
    "# Example -6 Varible Names are Case-Sensitive\n",
    "\n",
    "a =100\n",
    "A= \"Hello\"  # A will not Overwrite a\n",
    "\n",
    "print(a)\n",
    "print(A)"
   ]
  },
  {
   "cell_type": "code",
   "execution_count": 24,
   "id": "b65e050d",
   "metadata": {},
   "outputs": [
    {
     "name": "stdout",
     "output_type": "stream",
     "text": [
      "Pyhton\n",
      "Python\n",
      "Python\n",
      "Python\n",
      "Python\n",
      "Python\n"
     ]
    }
   ],
   "source": [
    "# Example -7 \n",
    "myvar = \"Pyhton\"\n",
    "my_var = \"Python\"\n",
    "_my_var = \"Python\"\n",
    "myVar = \"Python\"\n",
    "MYVAR = \"Python\"\n",
    "myvar2 = \"Python\"\n",
    "\n",
    "print(myvar)\n",
    "print(my_var)\n",
    "print(_my_var)\n",
    "print(myVar)\n",
    "print(MYVAR)\n",
    "print(myvar2)"
   ]
  },
  {
   "cell_type": "code",
   "execution_count": 25,
   "id": "d89586c0",
   "metadata": {},
   "outputs": [
    {
     "name": "stdout",
     "output_type": "stream",
     "text": [
      "Python world Welcome\n"
     ]
    }
   ],
   "source": [
    "# Example -8  Many valuse to Multiple Variables\n",
    "\n",
    "a,b,c = \"Welcome\",\"Python\",\"world\"\n",
    "print(b,c,a)"
   ]
  },
  {
   "cell_type": "code",
   "execution_count": 26,
   "id": "d271c1c7",
   "metadata": {},
   "outputs": [
    {
     "name": "stdout",
     "output_type": "stream",
     "text": [
      "Python\n",
      "Python\n",
      "Python\n"
     ]
    }
   ],
   "source": [
    "# Example -9 One Valuse to Multiple Variables\n",
    "\n",
    "a=b=c= \"Python\"\n",
    "print(b)\n",
    "print(a)\n",
    "print(c)"
   ]
  },
  {
   "cell_type": "code",
   "execution_count": 27,
   "id": "9d07b6a5",
   "metadata": {},
   "outputs": [
    {
     "name": "stdout",
     "output_type": "stream",
     "text": [
      "Mukesh\n",
      "Ram\n",
      "mahesh\n"
     ]
    }
   ],
   "source": [
    "# Example -10 Unpack a Collection\n",
    "\n",
    "name = [\"mahesh\",\"Ram\",\"Mukesh\"]\n",
    "a,c,v = name\n",
    "\n",
    "print(v)\n",
    "print(c)\n",
    "print(a)"
   ]
  },
  {
   "cell_type": "code",
   "execution_count": 29,
   "id": "8cf216ab",
   "metadata": {},
   "outputs": [
    {
     "name": "stdout",
     "output_type": "stream",
     "text": [
      "Python is Easy\n"
     ]
    }
   ],
   "source": [
    "# Example -11 Output Variables\n",
    "\n",
    "a = \"Easy\"\n",
    "print(\"Python is \" +a)\n"
   ]
  },
  {
   "cell_type": "code",
   "execution_count": 31,
   "id": "b32eb98d",
   "metadata": {},
   "outputs": [
    {
     "name": "stdout",
     "output_type": "stream",
     "text": [
      "Python is Awesome\n"
     ]
    }
   ],
   "source": [
    "# Example -12\n",
    "x = \"Python is \"\n",
    "y = \"Awesome\"\n",
    "z = x + y\n",
    "print(z)"
   ]
  },
  {
   "cell_type": "code",
   "execution_count": 33,
   "id": "4469b99a",
   "metadata": {},
   "outputs": [
    {
     "name": "stdout",
     "output_type": "stream",
     "text": [
      "15\n"
     ]
    }
   ],
   "source": [
    "# Example -13\n",
    "\n",
    "x = 5\n",
    "y = 10\n",
    "\n",
    "print(x + y)"
   ]
  },
  {
   "cell_type": "code",
   "execution_count": 35,
   "id": "5978770c",
   "metadata": {},
   "outputs": [
    {
     "ename": "TypeError",
     "evalue": "unsupported operand type(s) for +: 'int' and 'str'",
     "output_type": "error",
     "traceback": [
      "\u001b[1;31m---------------------------------------------------------------------------\u001b[0m",
      "\u001b[1;31mTypeError\u001b[0m                                 Traceback (most recent call last)",
      "\u001b[1;32m~\\AppData\\Local\\Temp\\ipykernel_12684\\832422199.py\u001b[0m in \u001b[0;36m<module>\u001b[1;34m\u001b[0m\n\u001b[0;32m      3\u001b[0m \u001b[0mx\u001b[0m \u001b[1;33m=\u001b[0m \u001b[1;36m5\u001b[0m\u001b[1;33m\u001b[0m\u001b[1;33m\u001b[0m\u001b[0m\n\u001b[0;32m      4\u001b[0m \u001b[0my\u001b[0m \u001b[1;33m=\u001b[0m \u001b[1;34m\"Python\"\u001b[0m\u001b[1;33m\u001b[0m\u001b[1;33m\u001b[0m\u001b[0m\n\u001b[1;32m----> 5\u001b[1;33m \u001b[0mprint\u001b[0m\u001b[1;33m(\u001b[0m\u001b[0mx\u001b[0m \u001b[1;33m+\u001b[0m \u001b[0my\u001b[0m\u001b[1;33m)\u001b[0m\u001b[1;33m\u001b[0m\u001b[1;33m\u001b[0m\u001b[0m\n\u001b[0m",
      "\u001b[1;31mTypeError\u001b[0m: unsupported operand type(s) for +: 'int' and 'str'"
     ]
    }
   ],
   "source": [
    "# Example -14\n",
    "# If you try to combine a string and number, Python will give you an error\n",
    "x = 5\n",
    "y = \"Python\"\n",
    "print(x + y)"
   ]
  },
  {
   "cell_type": "code",
   "execution_count": 40,
   "id": "54154c47",
   "metadata": {},
   "outputs": [
    {
     "name": "stdout",
     "output_type": "stream",
     "text": [
      "Python is Easy To Learn\n"
     ]
    }
   ],
   "source": [
    "# Example -15 Global Variables\n",
    "\n",
    "a = \"Python\"\n",
    "def myfunc():\n",
    "    print(a + \" is Easy To Learn\")\n",
    "    \n",
    "myfunc()"
   ]
  },
  {
   "cell_type": "code",
   "execution_count": 43,
   "id": "bc503764",
   "metadata": {},
   "outputs": [
    {
     "name": "stdout",
     "output_type": "stream",
     "text": [
      "Python is Not Hard\n",
      "Python is Easy\n"
     ]
    }
   ],
   "source": [
    "# Example -16 Create a vairable inside a function,\n",
    "# with the same name as the global Variable\n",
    "a = \"Easy\"        # this is Global Variable\n",
    "\n",
    "def myfunc():\n",
    "    a = \"Not Hard\" # Variable inside function\n",
    "    print(\"Python is \" + a )\n",
    "    \n",
    "myfunc()\n",
    "print(\"Python is \"+a)"
   ]
  },
  {
   "cell_type": "code",
   "execution_count": 51,
   "id": "9a02805f",
   "metadata": {},
   "outputs": [
    {
     "name": "stdout",
     "output_type": "stream",
     "text": [
      "Python is Easy\n"
     ]
    }
   ],
   "source": [
    "# Example -17 If you use the global keyword, the variable\n",
    "# belong to the global scope :\n",
    "\n",
    "def myfunc():\n",
    "    global a\n",
    "    a = \"Easy\"\n",
    "    \n",
    "myfunc()\n",
    "print(\"Python is \"+a)"
   ]
  },
  {
   "cell_type": "code",
   "execution_count": 56,
   "id": "d46be1f9",
   "metadata": {},
   "outputs": [
    {
     "name": "stdout",
     "output_type": "stream",
     "text": [
      "python is Not Hard\n"
     ]
    }
   ],
   "source": [
    "# Example -18 : To change the value of a global variable\n",
    "# refer to the variable by using the global Keyword:\n",
    "\n",
    "a = \"Easy\"\n",
    "\n",
    "def myfunc():\n",
    "    global a\n",
    "    a = \"Not Hard\"\n",
    "\n",
    "myfunc()\n",
    "print(\"python is \" +a)\n"
   ]
  },
  {
   "cell_type": "code",
   "execution_count": 57,
   "id": "d30044bc",
   "metadata": {},
   "outputs": [
    {
     "name": "stdout",
     "output_type": "stream",
     "text": [
      "x inside global\n",
      "x outside global\n"
     ]
    }
   ],
   "source": [
    "# Example -19 Create a Global Variable\n",
    "x = \"global\"\n",
    "\n",
    "def foo():\n",
    "    print(\"x inside\",x)\n",
    "\n",
    "foo()\n",
    "print(\"x outside\",x)"
   ]
  },
  {
   "cell_type": "code",
   "execution_count": 62,
   "id": "e9b27eab",
   "metadata": {},
   "outputs": [
    {
     "ename": "NameError",
     "evalue": "name 'B' is not defined",
     "output_type": "error",
     "traceback": [
      "\u001b[1;31m---------------------------------------------------------------------------\u001b[0m",
      "\u001b[1;31mNameError\u001b[0m                                 Traceback (most recent call last)",
      "\u001b[1;32m~\\AppData\\Local\\Temp\\ipykernel_12684\\3793466803.py\u001b[0m in \u001b[0;36m<module>\u001b[1;34m\u001b[0m\n\u001b[0;32m      5\u001b[0m \u001b[1;33m\u001b[0m\u001b[0m\n\u001b[0;32m      6\u001b[0m \u001b[0mmyFun\u001b[0m\u001b[1;33m(\u001b[0m\u001b[1;33m)\u001b[0m\u001b[1;33m\u001b[0m\u001b[1;33m\u001b[0m\u001b[0m\n\u001b[1;32m----> 7\u001b[1;33m \u001b[0mprint\u001b[0m\u001b[1;33m(\u001b[0m\u001b[0mB\u001b[0m\u001b[1;33m)\u001b[0m\u001b[1;33m\u001b[0m\u001b[1;33m\u001b[0m\u001b[0m\n\u001b[0m\u001b[0;32m      8\u001b[0m \u001b[1;33m\u001b[0m\u001b[0m\n\u001b[0;32m      9\u001b[0m \u001b[1;31m# Will get the Name B is not Defined Error\u001b[0m\u001b[1;33m\u001b[0m\u001b[1;33m\u001b[0m\u001b[0m\n",
      "\u001b[1;31mNameError\u001b[0m: name 'B' is not defined"
     ]
    }
   ],
   "source": [
    "# Example -20 : Accessing Local Variable Outside the Scope\n",
    "\n",
    "def myFun():\n",
    "    B =\"Local Variable\"\n",
    "    \n",
    "myFun()\n",
    "print(B)\n",
    "\n",
    "# Will get the Name B is not Defined Error"
   ]
  },
  {
   "cell_type": "code",
   "execution_count": null,
   "id": "cd861c6c",
   "metadata": {},
   "outputs": [],
   "source": []
  }
 ],
 "metadata": {
  "kernelspec": {
   "display_name": "Python 3 (ipykernel)",
   "language": "python",
   "name": "python3"
  },
  "language_info": {
   "codemirror_mode": {
    "name": "ipython",
    "version": 3
   },
   "file_extension": ".py",
   "mimetype": "text/x-python",
   "name": "python",
   "nbconvert_exporter": "python",
   "pygments_lexer": "ipython3",
   "version": "3.9.13"
  }
 },
 "nbformat": 4,
 "nbformat_minor": 5
}
