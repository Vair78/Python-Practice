{
 "cells": [
  {
   "cell_type": "markdown",
   "id": "c6a7720c",
   "metadata": {},
   "source": [
    "# Filling the Missing Values in the dataset using Mean, Median and Mode"
   ]
  },
  {
   "cell_type": "code",
   "execution_count": 1,
   "id": "9f3854cb",
   "metadata": {},
   "outputs": [
    {
     "name": "stdout",
     "output_type": "stream",
     "text": [
      "     A     B      C\n",
      "0  1.0   2.0    red\n",
      "1  2.0   4.0   blue\n",
      "2  3.0   6.0    NaN\n",
      "3  4.0   8.0  green\n",
      "4  NaN   NaN  green\n",
      "5  6.0  12.0   blue\n",
      "6  7.0  14.0    red\n",
      "7  8.0  16.0   blue\n",
      "8  9.0  18.0  green\n",
      "9  NaN   NaN    NaN\n"
     ]
    }
   ],
   "source": [
    "# Creating a Dataset with Missing Values\n",
    "\n",
    "import pandas as pd\n",
    "import numpy as np\n",
    "\n",
    "data = {'A': [1,2,3,4,np.nan,6,7,8,9, np.nan],\n",
    "       'B' : [2,4,6,8, np.nan, 12,14,16,18,np.nan],\n",
    "       'C' : ['red','blue',np.nan,'green','green','blue','red','blue','green',np.nan]}\n",
    "\n",
    "df = pd.DataFrame(data)\n",
    "\n",
    "print(df)"
   ]
  },
  {
   "cell_type": "markdown",
   "id": "cb895783",
   "metadata": {},
   "source": [
    "## Here's how we can fill in the missing values using the Mean Value\n",
    "# Mean Value\n",
    "\n"
   ]
  },
  {
   "cell_type": "code",
   "execution_count": 2,
   "id": "1436597f",
   "metadata": {},
   "outputs": [
    {
     "name": "stdout",
     "output_type": "stream",
     "text": [
      "     A     B      C\n",
      "0  1.0   2.0    red\n",
      "1  2.0   4.0   blue\n",
      "2  3.0   6.0    NaN\n",
      "3  4.0   8.0  green\n",
      "4  5.0   NaN  green\n",
      "5  6.0  12.0   blue\n",
      "6  7.0  14.0    red\n",
      "7  8.0  16.0   blue\n",
      "8  9.0  18.0  green\n",
      "9  5.0   NaN    NaN\n"
     ]
    }
   ],
   "source": [
    "mean_A = df['A'].mean()\n",
    "df['A'].fillna(mean_A, inplace =True)\n",
    "print(df)"
   ]
  },
  {
   "cell_type": "markdown",
   "id": "e0a6865e",
   "metadata": {},
   "source": [
    "## Here's how we can fill in the missing values using the Mean Value\n",
    "# Median Value"
   ]
  },
  {
   "cell_type": "code",
   "execution_count": 5,
   "id": "55678334",
   "metadata": {},
   "outputs": [
    {
     "name": "stdout",
     "output_type": "stream",
     "text": [
      "     A     B      C\n",
      "0  1.0   2.0    red\n",
      "1  2.0   4.0   blue\n",
      "2  3.0   6.0    NaN\n",
      "3  4.0   8.0  green\n",
      "4  5.0  10.0  green\n",
      "5  6.0  12.0   blue\n",
      "6  7.0  14.0    red\n",
      "7  8.0  16.0   blue\n",
      "8  9.0  18.0  green\n",
      "9  5.0  10.0    NaN\n"
     ]
    }
   ],
   "source": [
    "median_B = df['B'].median()\n",
    "df['B'].fillna(median_B, inplace = True)\n",
    "print(df)"
   ]
  },
  {
   "cell_type": "markdown",
   "id": "374a5892",
   "metadata": {},
   "source": [
    "## Here's how we can fill in the missing values using the Mean Value\n",
    "# Mode Value"
   ]
  },
  {
   "cell_type": "code",
   "execution_count": 6,
   "id": "7d2bcd35",
   "metadata": {},
   "outputs": [
    {
     "name": "stdout",
     "output_type": "stream",
     "text": [
      "     A     B      C\n",
      "0  1.0   2.0    red\n",
      "1  2.0   4.0   blue\n",
      "2  3.0   6.0   blue\n",
      "3  4.0   8.0  green\n",
      "4  5.0  10.0  green\n",
      "5  6.0  12.0   blue\n",
      "6  7.0  14.0    red\n",
      "7  8.0  16.0   blue\n",
      "8  9.0  18.0  green\n",
      "9  5.0  10.0   blue\n"
     ]
    }
   ],
   "source": [
    "mode_C = df['C'].mode()[0]\n",
    "df['C'].fillna(mode_C, inplace = True)\n",
    "print(df)"
   ]
  },
  {
   "cell_type": "code",
   "execution_count": null,
   "id": "a3c74995",
   "metadata": {},
   "outputs": [],
   "source": []
  }
 ],
 "metadata": {
  "kernelspec": {
   "display_name": "Python 3 (ipykernel)",
   "language": "python",
   "name": "python3"
  },
  "language_info": {
   "codemirror_mode": {
    "name": "ipython",
    "version": 3
   },
   "file_extension": ".py",
   "mimetype": "text/x-python",
   "name": "python",
   "nbconvert_exporter": "python",
   "pygments_lexer": "ipython3",
   "version": "3.9.13"
  }
 },
 "nbformat": 4,
 "nbformat_minor": 5
}
